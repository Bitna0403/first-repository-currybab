{
 "cells": [
  {
   "cell_type": "code",
   "execution_count": 1,
   "id": "c83a7171",
   "metadata": {},
   "outputs": [],
   "source": [
    "import numpy as np\n",
    "import matplotlib.pyplot as plt\n",
    "from sklearn.model_selection import train_test_split\n",
    "\n",
    "from tensorflow.keras import models, layers\n",
    "from tensorflow.keras import callbacks\n",
    "from tensorflow.keras import utils\n",
    "from keras.datasets import reuters"
   ]
  },
  {
   "cell_type": "code",
   "execution_count": 2,
   "id": "4a24baa5",
   "metadata": {},
   "outputs": [],
   "source": [
    "# 문제 2-1: reuters 데이터셋을 로드하고, 훈련 데이터셋에서 25%를 검증 데이터셋으로 분리합니다.\n",
    "(full_train_data, full_train_labels), (test_data, test_labels) = reuters.load_data(num_words=10000)\n",
    "train_data, val_data, train_labels, val_labels = train_test_split(full_train_data, \n",
    "                                                                full_train_labels,\n",
    "                                                                    test_size=0.25,\n",
    "                                                                    random_state=123)"
   ]
  },
  {
   "cell_type": "code",
   "execution_count": 3,
   "id": "7ff30c0d",
   "metadata": {},
   "outputs": [
    {
     "name": "stdout",
     "output_type": "stream",
     "text": [
      "6736\n",
      "2246\n",
      "2246\n",
      "46\n"
     ]
    }
   ],
   "source": [
    "# 훈련, 검증, 테스트 데이터와 레이블 종류가 몇 개인지 출력합니다.\n",
    "print(len(train_data))\n",
    "print(len(val_data))\n",
    "print(len(test_data))\n",
    "print(len(set(train_labels)))"
   ]
  },
  {
   "cell_type": "code",
   "execution_count": 4,
   "id": "75f1bdbb",
   "metadata": {},
   "outputs": [],
   "source": [
    "# 문제 2-2: 텍스트 데이터의 전처리를 위해서 각 데이터셋마다 원-핫 인코딩을 수행합니다.\n",
    "def one_hot_encoding(data, dim=10000):\n",
    "  results = np.zeros((len(data), dim))\n",
    "  for i, d in enumerate(data):\n",
    "    results[i, d] = 1\n",
    "  return results"
   ]
  },
  {
   "cell_type": "code",
   "execution_count": 5,
   "id": "f3be2861",
   "metadata": {},
   "outputs": [],
   "source": [
    "x_train = one_hot_encoding(train_data)\n",
    "x_val = one_hot_encoding(val_data)\n",
    "x_test = one_hot_encoding(test_data)"
   ]
  },
  {
   "cell_type": "code",
   "execution_count": 6,
   "id": "3a4a3647",
   "metadata": {},
   "outputs": [],
   "source": [
    "# 레이블 데이터들은 범주형 형태로 to_categorical() 함수를 사용해 변환합니다.\n",
    "y_train = utils.to_categorical(train_labels)\n",
    "y_val = utils.to_categorical(val_labels)\n",
    "y_test = utils.to_categorical(test_labels)"
   ]
  },
  {
   "cell_type": "code",
   "execution_count": 7,
   "id": "a5027781",
   "metadata": {},
   "outputs": [
    {
     "name": "stdout",
     "output_type": "stream",
     "text": [
      "Model: \"sequential\"\n",
      "_________________________________________________________________\n",
      "Layer (type)                 Output Shape              Param #   \n",
      "=================================================================\n",
      "dense (Dense)                (None, 128)               1280128   \n",
      "_________________________________________________________________\n",
      "batch_normalization (BatchNo (None, 128)               512       \n",
      "_________________________________________________________________\n",
      "activation (Activation)      (None, 128)               0         \n",
      "_________________________________________________________________\n",
      "dropout (Dropout)            (None, 128)               0         \n",
      "_________________________________________________________________\n",
      "dense_1 (Dense)              (None, 128)               16512     \n",
      "_________________________________________________________________\n",
      "batch_normalization_1 (Batch (None, 128)               512       \n",
      "_________________________________________________________________\n",
      "activation_1 (Activation)    (None, 128)               0         \n",
      "_________________________________________________________________\n",
      "dropout_1 (Dropout)          (None, 128)               0         \n",
      "_________________________________________________________________\n",
      "dense_2 (Dense)              (None, 46)                5934      \n",
      "=================================================================\n",
      "Total params: 1,303,598\n",
      "Trainable params: 1,303,086\n",
      "Non-trainable params: 512\n",
      "_________________________________________________________________\n"
     ]
    }
   ],
   "source": [
    "# 문제 2-3: 빠른 학습과 과대적합을 방지하기 위해 BatchNormalization과 Dropout을 적용한 딥러닝 모델을 구성합니다.\n",
    "model = models.Sequential()\n",
    "model.add(layers.Dense(128, input_shape=(10000, )))\n",
    "model.add(layers.BatchNormalization())\n",
    "model.add(layers.Activation('relu'))\n",
    "model.add(layers.Dropout(0.5))\n",
    "model.add(layers.Dense(128))\n",
    "model.add(layers.BatchNormalization())\n",
    "model.add(layers.Activation('relu'))\n",
    "model.add(layers.Dropout(0.5))\n",
    "model.add(layers.Dense(46, activation='softmax'))\n",
    "\n",
    "model.summary()"
   ]
  },
  {
   "cell_type": "code",
   "execution_count": 8,
   "id": "6b6f348d",
   "metadata": {},
   "outputs": [],
   "source": [
    "model.compile(loss='categorical_crossentropy',\n",
    "              optimizer='adam',\n",
    "              metrics=['accuracy'])"
   ]
  },
  {
   "cell_type": "code",
   "execution_count": 9,
   "id": "6bcdfb0d",
   "metadata": {},
   "outputs": [
    {
     "name": "stdout",
     "output_type": "stream",
     "text": [
      "Epoch 1/1000\n",
      "211/211 [==============================] - 3s 7ms/step - loss: 1.9852 - accuracy: 0.5477 - val_loss: 1.4744 - val_accuracy: 0.7128\n",
      "Epoch 2/1000\n",
      "211/211 [==============================] - 1s 5ms/step - loss: 1.2330 - accuracy: 0.7114 - val_loss: 1.1181 - val_accuracy: 0.7649\n",
      "Epoch 3/1000\n",
      "211/211 [==============================] - 1s 5ms/step - loss: 0.9769 - accuracy: 0.7684 - val_loss: 1.0340 - val_accuracy: 0.7769\n",
      "Epoch 4/1000\n",
      "211/211 [==============================] - 1s 5ms/step - loss: 0.8147 - accuracy: 0.8066 - val_loss: 1.0019 - val_accuracy: 0.7881\n",
      "Epoch 5/1000\n",
      "211/211 [==============================] - 1s 5ms/step - loss: 0.6905 - accuracy: 0.8308 - val_loss: 0.9826 - val_accuracy: 0.7996\n",
      "Epoch 6/1000\n",
      "211/211 [==============================] - 1s 5ms/step - loss: 0.5983 - accuracy: 0.8502 - val_loss: 0.9762 - val_accuracy: 0.7988\n",
      "Epoch 7/1000\n",
      "211/211 [==============================] - 1s 5ms/step - loss: 0.5083 - accuracy: 0.8771 - val_loss: 1.0017 - val_accuracy: 0.8005\n",
      "Epoch 8/1000\n",
      "211/211 [==============================] - 1s 5ms/step - loss: 0.4715 - accuracy: 0.8829 - val_loss: 0.9923 - val_accuracy: 0.8014\n",
      "Epoch 9/1000\n",
      "211/211 [==============================] - 1s 5ms/step - loss: 0.4291 - accuracy: 0.8900 - val_loss: 0.9921 - val_accuracy: 0.8050\n",
      "Epoch 10/1000\n",
      "211/211 [==============================] - 1s 5ms/step - loss: 0.4000 - accuracy: 0.8980 - val_loss: 0.9903 - val_accuracy: 0.8152\n",
      "Epoch 11/1000\n",
      "211/211 [==============================] - 1s 5ms/step - loss: 0.3604 - accuracy: 0.9066 - val_loss: 1.0161 - val_accuracy: 0.8063\n",
      "Epoch 12/1000\n",
      "211/211 [==============================] - 1s 5ms/step - loss: 0.3466 - accuracy: 0.9114 - val_loss: 1.0010 - val_accuracy: 0.8050\n",
      "Epoch 13/1000\n",
      "211/211 [==============================] - 1s 5ms/step - loss: 0.3307 - accuracy: 0.9149 - val_loss: 1.0370 - val_accuracy: 0.8059\n",
      "Epoch 14/1000\n",
      "211/211 [==============================] - 1s 5ms/step - loss: 0.3205 - accuracy: 0.9172 - val_loss: 1.0629 - val_accuracy: 0.8063\n",
      "Epoch 15/1000\n",
      "211/211 [==============================] - 1s 5ms/step - loss: 0.3022 - accuracy: 0.9186 - val_loss: 1.0691 - val_accuracy: 0.8077\n",
      "Epoch 16/1000\n",
      "211/211 [==============================] - 1s 5ms/step - loss: 0.2859 - accuracy: 0.9252 - val_loss: 1.0900 - val_accuracy: 0.8023\n"
     ]
    }
   ],
   "source": [
    "# 문제 2-4: ModelCheckpoint와 EarlyStopping 콜백 함수를 적용하여 모델 학습을 진행합니다.\n",
    "check_point_cb = callbacks.ModelCheckpoint('keras_reuters_model.h5', save_best_only=True)\n",
    "early_stopping_cb = callbacks.EarlyStopping(patience=10, monitor='val_loss',\n",
    "                                            restore_best_weights=True)\n",
    "history = model.fit(x_train, y_train, epochs=1000,\n",
    "                    validation_data=(x_val, y_val),\n",
    "                    callbacks=[check_point_cb, early_stopping_cb])"
   ]
  },
  {
   "cell_type": "code",
   "execution_count": 10,
   "id": "25978551",
   "metadata": {},
   "outputs": [
    {
     "data": {
      "image/png": "[encoded data removed]",
      "text/plain": [
       "<Figure size 864x360 with 2 Axes>"
      ]
     },
     "metadata": {},
     "output_type": "display_data"
    }
   ],
   "source": [
    "# 학습 히스토리의 `loss`, `val_loss`, `accuracy`, `val_accuracy`를 차트로 시각화합니다.\n",
    "plt.style.use('seaborn-white')\n",
    "\n",
    "history_dict = history.history\n",
    "\n",
    "loss = history_dict['loss']\n",
    "val_loss = history_dict['val_loss']\n",
    "\n",
    "epochs = range(1, len(loss) + 1)\n",
    "fig = plt.figure(figsize=(12, 5))\n",
    "\n",
    "ax1 = fig.add_subplot(1, 2, 1)\n",
    "ax1.plot(epochs, loss, 'b-', label='train_loss')\n",
    "ax1.plot(epochs, val_loss, 'r-', label='val_loss')\n",
    "ax1.set_title('Train and Validation Loss')\n",
    "ax1.set_xlabel('Epochs')\n",
    "ax1.set_ylabel('Loss')\n",
    "ax1.grid()\n",
    "ax1.legend()\n",
    "\n",
    "accuracy = history_dict['accuracy']\n",
    "val_accuracy = history_dict['val_accuracy']\n",
    "\n",
    "ax2 = fig.add_subplot(1, 2, 2)\n",
    "ax2.plot(epochs, accuracy, 'b-', label='train_accuracy')\n",
    "ax2.plot(epochs, val_accuracy, 'r-', label='val_accuracy')\n",
    "ax2.set_title('Train and Validation Accuracy')\n",
    "ax2.set_xlabel('Epochs')\n",
    "ax2.set_ylabel('Accuracy')\n",
    "ax2.grid()\n",
    "ax2.legend()\n",
    "\n",
    "plt.show()\n"
   ]
  },
  {
   "cell_type": "code",
   "execution_count": 11,
   "id": "f6160a2d",
   "metadata": {},
   "outputs": [
    {
     "name": "stdout",
     "output_type": "stream",
     "text": [
      "71/71 [==============================] - 0s 3ms/step - loss: 0.9380 - accuracy: 0.7925\n"
     ]
    },
    {
     "data": {
      "text/plain": [
       "[0.9379934072494507, 0.7925200462341309]"
      ]
     },
     "execution_count": 11,
     "metadata": {},
     "output_type": "execute_result"
    }
   ],
   "source": [
    "# 문제 2-5: 테스트 데이터셋을 이용해 모델을 평가합니다.\n",
    "model.evaluate(x_test, y_test) #  [0.987909734249115, 0.799198567867279]"
   ]
  },
  {
   "cell_type": "code",
   "execution_count": null,
   "id": "5ace28e0",
   "metadata": {},
   "outputs": [],
   "source": []
  }
 ],
 "metadata": {
  "kernelspec": {
   "display_name": "Python 3 (ipykernel)",
   "language": "python",
   "name": "python3"
  },
  "language_info": {
   "codemirror_mode": {
    "name": "ipython",
    "version": 3
   },
   "file_extension": ".py",
   "mimetype": "text/x-python",
   "name": "python",
   "nbconvert_exporter": "python",
   "pygments_lexer": "ipython3",
   "version": "3.9.7"
  }
 },
 "nbformat": 4,
 "nbformat_minor": 5
}
