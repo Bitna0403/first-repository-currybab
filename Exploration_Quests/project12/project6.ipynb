{
 "cells": [
  {
   "cell_type": "markdown",
   "id": "eb4cc861",
   "metadata": {},
   "source": [
    "# Step 1. 데이터 수집하기\n",
    "이 데이터는 기사의 본문에 해당되는 text와 headlines 두 가지 열로 구성되어져 있다. 추상적 요약을 하는 경우에는 text를 본문, headlines를 이미 요약된 데이터로 삼아서 모델을 학습할 수 있다."
   ]
  },
  {
   "cell_type": "code",
   "execution_count": 3,
   "id": "a7b67815",
   "metadata": {},
   "outputs": [
    {
     "name": "stdout",
     "output_type": "stream",
     "text": [
      "3.6.5\n",
      "2.6.0\n",
      "1.3.3\n",
      "1.2.0\n"
     ]
    },
    {
     "name": "stderr",
     "output_type": "stream",
     "text": [
      "[nltk_data] Downloading package stopwords to /aiffel/nltk_data...\n",
      "[nltk_data]   Package stopwords is already up-to-date!\n"
     ]
    }
   ],
   "source": [
    "import nltk\n",
    "nltk.download('stopwords')\n",
    "\n",
    "import numpy as np\n",
    "import pandas as pd\n",
    "import os\n",
    "import re\n",
    "import matplotlib.pyplot as plt\n",
    "from importlib.metadata import version\n",
    "import tensorflow\n",
    "import summa\n",
    "from nltk.corpus import stopwords\n",
    "from bs4 import BeautifulSoup \n",
    "from tensorflow.keras.preprocessing.text import Tokenizer \n",
    "from tensorflow.keras.preprocessing.sequence import pad_sequences\n",
    "import urllib.request\n",
    "import warnings\n",
    "warnings.filterwarnings(\"ignore\", category=UserWarning, module='bs4')\n",
    "\n",
    "\n",
    "print(nltk.__version__)\n",
    "print(tensorflow.__version__)\n",
    "print(pd.__version__)\n",
    "print(version('summa'))"
   ]
  },
  {
   "cell_type": "markdown",
   "id": "da935b71",
   "metadata": {},
   "source": [
    "전체 샘플 수는 98401이고 headlines와 text 두개의 컬럼만 가진 데이터이며 text의 내용이 요약된 것이 headlines이라는 것을 알 수 있다. 인공 신경망을 통해 Text 시퀀스를 입력받으면, headlines 시퀀스를 예측하도록 인공 신경망을 훈련시켜 볼 것이다."
   ]
  },
  {
   "cell_type": "code",
   "execution_count": 4,
   "id": "1d975635",
   "metadata": {},
   "outputs": [
    {
     "name": "stdout",
     "output_type": "stream",
     "text": [
      "전체 샘플수 : 98401\n"
     ]
    },
    {
     "data": {
      "text/html": [
       "<div>\n",
       "<style scoped>\n",
       "    .dataframe tbody tr th:only-of-type {\n",
       "        vertical-align: middle;\n",
       "    }\n",
       "\n",
       "    .dataframe tbody tr th {\n",
       "        vertical-align: top;\n",
       "    }\n",
       "\n",
       "    .dataframe thead th {\n",
       "        text-align: right;\n",
       "    }\n",
       "</style>\n",
       "<table border=\"1\" class=\"dataframe\">\n",
       "  <thead>\n",
       "    <tr style=\"text-align: right;\">\n",
       "      <th></th>\n",
       "      <th>headlines</th>\n",
       "      <th>text</th>\n",
       "    </tr>\n",
       "  </thead>\n",
       "  <tbody>\n",
       "    <tr>\n",
       "      <th>44525</th>\n",
       "      <td>Ranveer talks about wearing skirt in live chat...</td>\n",
       "      <td>During a live chat with Priyanka Chopra on Ins...</td>\n",
       "    </tr>\n",
       "    <tr>\n",
       "      <th>84165</th>\n",
       "      <td>Sisodia gave wrong facts on students' success:...</td>\n",
       "      <td>The education department has said that Delhi D...</td>\n",
       "    </tr>\n",
       "    <tr>\n",
       "      <th>24867</th>\n",
       "      <td>Only 35 goods left in 28% GST slab from 226 at...</td>\n",
       "      <td>The GST Council has pruned the 28% slab by cut...</td>\n",
       "    </tr>\n",
       "    <tr>\n",
       "      <th>79961</th>\n",
       "      <td>Funny how one wrong word can screw your career...</td>\n",
       "      <td>Tiger Shroff, who was criticised for referring...</td>\n",
       "    </tr>\n",
       "    <tr>\n",
       "      <th>35174</th>\n",
       "      <td>Inspectors to be given access to Syria chemica...</td>\n",
       "      <td>Inspectors from the Organisation for the Prohi...</td>\n",
       "    </tr>\n",
       "    <tr>\n",
       "      <th>55640</th>\n",
       "      <td>Photo of owl climbing branch wins comedy wildl...</td>\n",
       "      <td>A photograph showing an owl trying to climb a ...</td>\n",
       "    </tr>\n",
       "    <tr>\n",
       "      <th>80861</th>\n",
       "      <td>White House strongly condemns Amarnath terror ...</td>\n",
       "      <td>The White House has strongly condemned the ter...</td>\n",
       "    </tr>\n",
       "    <tr>\n",
       "      <th>52011</th>\n",
       "      <td>Jews in India have never witnessed anti-Semiti...</td>\n",
       "      <td>Israeli PM Benjamin Netanyahu on Monday said t...</td>\n",
       "    </tr>\n",
       "    <tr>\n",
       "      <th>98032</th>\n",
       "      <td>'Modi Magic' lock on defeated SP minister's house</td>\n",
       "      <td>After the BJP swept Uttar Pradesh Assembly ele...</td>\n",
       "    </tr>\n",
       "    <tr>\n",
       "      <th>33228</th>\n",
       "      <td>Hope new team will work better: J&amp;K CM on Cabi...</td>\n",
       "      <td>Following a reshuffle of the Jammu and Kashmir...</td>\n",
       "    </tr>\n",
       "  </tbody>\n",
       "</table>\n",
       "</div>"
      ],
      "text/plain": [
       "                                               headlines  \\\n",
       "44525  Ranveer talks about wearing skirt in live chat...   \n",
       "84165  Sisodia gave wrong facts on students' success:...   \n",
       "24867  Only 35 goods left in 28% GST slab from 226 at...   \n",
       "79961  Funny how one wrong word can screw your career...   \n",
       "35174  Inspectors to be given access to Syria chemica...   \n",
       "55640  Photo of owl climbing branch wins comedy wildl...   \n",
       "80861  White House strongly condemns Amarnath terror ...   \n",
       "52011  Jews in India have never witnessed anti-Semiti...   \n",
       "98032  'Modi Magic' lock on defeated SP minister's house   \n",
       "33228  Hope new team will work better: J&K CM on Cabi...   \n",
       "\n",
       "                                                    text  \n",
       "44525  During a live chat with Priyanka Chopra on Ins...  \n",
       "84165  The education department has said that Delhi D...  \n",
       "24867  The GST Council has pruned the 28% slab by cut...  \n",
       "79961  Tiger Shroff, who was criticised for referring...  \n",
       "35174  Inspectors from the Organisation for the Prohi...  \n",
       "55640  A photograph showing an owl trying to climb a ...  \n",
       "80861  The White House has strongly condemned the ter...  \n",
       "52011  Israeli PM Benjamin Netanyahu on Monday said t...  \n",
       "98032  After the BJP swept Uttar Pradesh Assembly ele...  \n",
       "33228  Following a reshuffle of the Jammu and Kashmir...  "
      ]
     },
     "execution_count": 4,
     "metadata": {},
     "output_type": "execute_result"
    }
   ],
   "source": [
    "import urllib.request\n",
    "urllib.request.urlretrieve(\"https://raw.githubusercontent.com/sunnysai12345/News_Summary/master/news_summary_more.csv\", filename=\"news_summary_more.csv\")\n",
    "data = pd.read_csv('news_summary_more.csv', encoding='iso-8859-1')\n",
    "print('전체 샘플수 :', (len(data)))\n",
    "data.sample(10)"
   ]
  },
  {
   "cell_type": "markdown",
   "id": "b2e5ff3f",
   "metadata": {},
   "source": [
    "# Step 2. 데이터 전처리하기"
   ]
  },
  {
   "cell_type": "markdown",
   "id": "a4659d63",
   "metadata": {},
   "source": [
    " 빈칸으로 존재하는 null 데이터, 의미는 같지만 다른 식으로 작성된 글 같은 중복 항목과 같은 학습할 때 방해가 되는 데이터를 먼저 제거할 것이다."
   ]
  },
  {
   "cell_type": "markdown",
   "id": "4f03fe26",
   "metadata": {},
   "source": [
    "먼저 중복 샘플 유무를 확인한다. 중복을 제외한다면 text에는 98,360개, headlines에는 98,280개의 유니크한 데이터가 존재한다."
   ]
  },
  {
   "cell_type": "code",
   "execution_count": 5,
   "id": "bbbc54f9",
   "metadata": {},
   "outputs": [
    {
     "name": "stdout",
     "output_type": "stream",
     "text": [
      "text 열에서 중복을 배제한 유일한 샘플의 수 : 98360\n",
      "headlines 열에서 중복을 배제한 유일한 샘플의 수 : 98280\n"
     ]
    }
   ],
   "source": [
    "print('text 열에서 중복을 배제한 유일한 샘플의 수 :', data['text'].nunique())\n",
    "print('headlines 열에서 중복을 배제한 유일한 샘플의 수 :', data['headlines'].nunique())"
   ]
  },
  {
   "cell_type": "markdown",
   "id": "0d1d62b5",
   "metadata": {},
   "source": [
    "drop_duplicates()를 사용하여 중복 샘플을 제거하여 전체 샘플 수는 98,360개가 남는다."
   ]
  },
  {
   "cell_type": "code",
   "execution_count": 6,
   "id": "fd9a86dd",
   "metadata": {},
   "outputs": [
    {
     "name": "stdout",
     "output_type": "stream",
     "text": [
      "전체 샘플수 : 98360\n"
     ]
    }
   ],
   "source": [
    "# inplace=True 를 설정하면 DataFrame 타입 값을 return 하지 않고 data 내부를 직접적으로 바꿉니다\n",
    "data.drop_duplicates(subset = ['text'], inplace=True)\n",
    "print('전체 샘플수 :', (len(data)))"
   ]
  },
  {
   "cell_type": "markdown",
   "id": "23c7ff92",
   "metadata": {},
   "source": [
    "여전히 Null 값 한 개가 어딘가 남아있을 수 있기에 데이터에 Null 값이 남아있는지 확인한다. 이 데이터셋에는 Null 값이 없으므로 dropna() 함수 사용을 하지 않아도 된다!"
   ]
  },
  {
   "cell_type": "code",
   "execution_count": 7,
   "id": "83b19d57",
   "metadata": {},
   "outputs": [
    {
     "name": "stdout",
     "output_type": "stream",
     "text": [
      "headlines    0\n",
      "text         0\n",
      "dtype: int64\n"
     ]
    }
   ],
   "source": [
    "print(data.isnull().sum())"
   ]
  },
  {
   "cell_type": "markdown",
   "id": "8c43234d",
   "metadata": {},
   "source": [
    "텍스트 정규화를 위한 사전(dictionary)을 가져온다."
   ]
  },
  {
   "cell_type": "code",
   "execution_count": 8,
   "id": "91a59b6b",
   "metadata": {},
   "outputs": [
    {
     "name": "stdout",
     "output_type": "stream",
     "text": [
      "정규화 사전의 수:  120\n"
     ]
    }
   ],
   "source": [
    "contractions = {\"ain't\": \"is not\", \"aren't\": \"are not\",\"can't\": \"cannot\", \"'cause\": \"because\", \"could've\": \"could have\", \"couldn't\": \"could not\",\n",
    "                           \"didn't\": \"did not\",  \"doesn't\": \"does not\", \"don't\": \"do not\", \"hadn't\": \"had not\", \"hasn't\": \"has not\", \"haven't\": \"have not\",\n",
    "                           \"he'd\": \"he would\",\"he'll\": \"he will\", \"he's\": \"he is\", \"how'd\": \"how did\", \"how'd'y\": \"how do you\", \"how'll\": \"how will\", \"how's\": \"how is\",\n",
    "                           \"I'd\": \"I would\", \"I'd've\": \"I would have\", \"I'll\": \"I will\", \"I'll've\": \"I will have\",\"I'm\": \"I am\", \"I've\": \"I have\", \"i'd\": \"i would\",\n",
    "                           \"i'd've\": \"i would have\", \"i'll\": \"i will\",  \"i'll've\": \"i will have\",\"i'm\": \"i am\", \"i've\": \"i have\", \"isn't\": \"is not\", \"it'd\": \"it would\",\n",
    "                           \"it'd've\": \"it would have\", \"it'll\": \"it will\", \"it'll've\": \"it will have\",\"it's\": \"it is\", \"let's\": \"let us\", \"ma'am\": \"madam\",\n",
    "                           \"mayn't\": \"may not\", \"might've\": \"might have\",\"mightn't\": \"might not\",\"mightn't've\": \"might not have\", \"must've\": \"must have\",\n",
    "                           \"mustn't\": \"must not\", \"mustn't've\": \"must not have\", \"needn't\": \"need not\", \"needn't've\": \"need not have\",\"o'clock\": \"of the clock\",\n",
    "                           \"oughtn't\": \"ought not\", \"oughtn't've\": \"ought not have\", \"shan't\": \"shall not\", \"sha'n't\": \"shall not\", \"shan't've\": \"shall not have\",\n",
    "                           \"she'd\": \"she would\", \"she'd've\": \"she would have\", \"she'll\": \"she will\", \"she'll've\": \"she will have\", \"she's\": \"she is\",\n",
    "                           \"should've\": \"should have\", \"shouldn't\": \"should not\", \"shouldn't've\": \"should not have\", \"so've\": \"so have\",\"so's\": \"so as\",\n",
    "                           \"this's\": \"this is\",\"that'd\": \"that would\", \"that'd've\": \"that would have\", \"that's\": \"that is\", \"there'd\": \"there would\",\n",
    "                           \"there'd've\": \"there would have\", \"there's\": \"there is\", \"here's\": \"here is\",\"they'd\": \"they would\", \"they'd've\": \"they would have\",\n",
    "                           \"they'll\": \"they will\", \"they'll've\": \"they will have\", \"they're\": \"they are\", \"they've\": \"they have\", \"to've\": \"to have\",\n",
    "                           \"wasn't\": \"was not\", \"we'd\": \"we would\", \"we'd've\": \"we would have\", \"we'll\": \"we will\", \"we'll've\": \"we will have\", \"we're\": \"we are\",\n",
    "                           \"we've\": \"we have\", \"weren't\": \"were not\", \"what'll\": \"what will\", \"what'll've\": \"what will have\", \"what're\": \"what are\",\n",
    "                           \"what's\": \"what is\", \"what've\": \"what have\", \"when's\": \"when is\", \"when've\": \"when have\", \"where'd\": \"where did\", \"where's\": \"where is\",\n",
    "                           \"where've\": \"where have\", \"who'll\": \"who will\", \"who'll've\": \"who will have\", \"who's\": \"who is\", \"who've\": \"who have\",\n",
    "                           \"why's\": \"why is\", \"why've\": \"why have\", \"will've\": \"will have\", \"won't\": \"will not\", \"won't've\": \"will not have\",\n",
    "                           \"would've\": \"would have\", \"wouldn't\": \"would not\", \"wouldn't've\": \"would not have\", \"y'all\": \"you all\",\n",
    "                           \"y'all'd\": \"you all would\",\"y'all'd've\": \"you all would have\",\"y'all're\": \"you all are\",\"y'all've\": \"you all have\",\n",
    "                           \"you'd\": \"you would\", \"you'd've\": \"you would have\", \"you'll\": \"you will\", \"you'll've\": \"you will have\",\n",
    "                           \"you're\": \"you are\", \"you've\": \"you have\"}\n",
    "\n",
    "print(\"정규화 사전의 수: \", len(contractions))"
   ]
  },
  {
   "cell_type": "markdown",
   "id": "c48a1285",
   "metadata": {},
   "source": [
    "자연어 처리를 할 때 실질적으로 별 도움이 되지 않는 단어들이 존재하는 불용어(stopwords)를 제거한다. 이것은 자연어 처리의 성능을 높이는 방법 중 하나이다. 여기서는 NLTK에서 제공하는 불용어 리스트를 참조해, 샘플에서 불용어를 제거할 것이다."
   ]
  },
  {
   "cell_type": "code",
   "execution_count": 9,
   "id": "70a7d9c6",
   "metadata": {},
   "outputs": [
    {
     "name": "stdout",
     "output_type": "stream",
     "text": [
      "불용어 개수 : 179\n",
      "['i', 'me', 'my', 'myself', 'we', 'our', 'ours', 'ourselves', 'you', \"you're\", \"you've\", \"you'll\", \"you'd\", 'your', 'yours', 'yourself', 'yourselves', 'he', 'him', 'his', 'himself', 'she', \"she's\", 'her', 'hers', 'herself', 'it', \"it's\", 'its', 'itself', 'they', 'them', 'their', 'theirs', 'themselves', 'what', 'which', 'who', 'whom', 'this', 'that', \"that'll\", 'these', 'those', 'am', 'is', 'are', 'was', 'were', 'be', 'been', 'being', 'have', 'has', 'had', 'having', 'do', 'does', 'did', 'doing', 'a', 'an', 'the', 'and', 'but', 'if', 'or', 'because', 'as', 'until', 'while', 'of', 'at', 'by', 'for', 'with', 'about', 'against', 'between', 'into', 'through', 'during', 'before', 'after', 'above', 'below', 'to', 'from', 'up', 'down', 'in', 'out', 'on', 'off', 'over', 'under', 'again', 'further', 'then', 'once', 'here', 'there', 'when', 'where', 'why', 'how', 'all', 'any', 'both', 'each', 'few', 'more', 'most', 'other', 'some', 'such', 'no', 'nor', 'not', 'only', 'own', 'same', 'so', 'than', 'too', 'very', 's', 't', 'can', 'will', 'just', 'don', \"don't\", 'should', \"should've\", 'now', 'd', 'll', 'm', 'o', 're', 've', 'y', 'ain', 'aren', \"aren't\", 'couldn', \"couldn't\", 'didn', \"didn't\", 'doesn', \"doesn't\", 'hadn', \"hadn't\", 'hasn', \"hasn't\", 'haven', \"haven't\", 'isn', \"isn't\", 'ma', 'mightn', \"mightn't\", 'mustn', \"mustn't\", 'needn', \"needn't\", 'shan', \"shan't\", 'shouldn', \"shouldn't\", 'wasn', \"wasn't\", 'weren', \"weren't\", 'won', \"won't\", 'wouldn', \"wouldn't\"]\n"
     ]
    }
   ],
   "source": [
    "print('불용어 개수 :', len(stopwords.words('english') ))\n",
    "print(stopwords.words('english'))"
   ]
  },
  {
   "cell_type": "markdown",
   "id": "46213547",
   "metadata": {},
   "source": [
    "NLTK를 이용해 불용어를 제거하는 파트가 있는데, 이는 Text 전처리 시에서만 호출하고 이미 상대적으로 문장 길이가 짧은 Summary 전처리할 때는 호출하지 않는다. Abstractive한 문장 요약 결과문이 자연스러운 문장이 되려면 이 불용어들이 Summary에는 남아 있는 게 더 좋을 것이기에 이 처리를 위해서 함수의 인자로 remove_stopwords를 추가하고, if문을 추가한다."
   ]
  },
  {
   "cell_type": "code",
   "execution_count": 10,
   "id": "da9e8ae8",
   "metadata": {},
   "outputs": [],
   "source": [
    "# 데이터 전처리 함수\n",
    "def preprocess_sentence(sentence, remove_stopwords=True):\n",
    "    sentence = sentence.lower() # 텍스트 소문자화\n",
    "    sentence = BeautifulSoup(sentence, \"lxml\").text # <br />, <a href = ...> 등의 html 태그 제거\n",
    "    sentence = re.sub(r'\\([^)]*\\)', '', sentence) # 괄호로 닫힌 문자열 (...) 제거 Ex) my husband (and myself!) for => my husband for\n",
    "    sentence = re.sub('\"','', sentence) # 쌍따옴표 \" 제거\n",
    "    sentence = ' '.join([contractions[t] if t in contractions else t for t in sentence.split(\" \")]) # 약어 정규화\n",
    "    sentence = re.sub(r\"'s\\b\",\"\", sentence) # 소유격 제거. Ex) roland's -> roland\n",
    "    sentence = re.sub(\"[^a-zA-Z]\", \" \", sentence) # 영어 외 문자(숫자, 특수문자 등) 공백으로 변환\n",
    "    sentence = re.sub('[m]{2,}', 'mm', sentence) # m이 3개 이상이면 2개로 변경. Ex) ummmmmmm yeah -> umm yeah\n",
    "    \n",
    "    # 불용어 제거 (text)\n",
    "    if remove_stopwords:\n",
    "        tokens = ' '.join(word for word in sentence.split() if not word in stopwords.words('english') if len(word) > 1)\n",
    "    # 불용어 미제거 (headlines)\n",
    "    else:\n",
    "        tokens = ' '.join(word for word in sentence.split() if len(word) > 1)\n",
    "    return tokens"
   ]
  },
  {
   "cell_type": "code",
   "execution_count": 11,
   "id": "af9e183d",
   "metadata": {},
   "outputs": [
    {
     "name": "stdout",
     "output_type": "stream",
     "text": [
      "text:  everything bought great infact ordered twice third ordered wasfor mother father\n",
      "headlines: great way to start the day\n"
     ]
    }
   ],
   "source": [
    "temp_text = 'Everything I bought was great, infact I ordered twice and the third ordered was<br />for my mother and father.'\n",
    "temp_headlines = 'Great way to start (or finish) the day!!!'\n",
    "\n",
    "print(\"text: \", preprocess_sentence(temp_text))\n",
    "print(\"headlines:\", preprocess_sentence(temp_headlines, False))  # 불용어를 제거하지 않습니다."
   ]
  },
  {
   "cell_type": "markdown",
   "id": "530cb449",
   "metadata": {},
   "source": [
    "불용어가 제외된 텍스트 전처리 결과를 볼 수 있다!"
   ]
  },
  {
   "cell_type": "code",
   "execution_count": 12,
   "id": "46d9a28d",
   "metadata": {},
   "outputs": [
    {
     "name": "stdout",
     "output_type": "stream",
     "text": [
      "text 전처리 후 결과:  ['saurav kant alumnus upgrad iiit pg program machine learning artificial intelligence sr systems engineer infosys almost years work experience program upgrad degree career support helped transition data scientist tech mahindra salary hike upgrad online power learning powered lakh careers', 'kunal shah credit card bill payment platform cred gave users chance win free food swiggy one year pranav kaushik delhi techie bagged reward spending cred coins users get one cred coin per rupee bill paid used avail rewards brands like ixigo bookmyshow ubereats cult fit', 'new zealand defeated india wickets fourth odi hamilton thursday win first match five match odi series india lost international match rohit sharma captaincy consecutive victories dating back march match witnessed india getting seventh lowest total odi cricket history', 'aegon life iterm insurance plan customers enjoy tax benefits premiums paid save taxes plan provides life cover age years also customers options insure critical illnesses disability accidental death benefit rider life cover age years', 'speaking sexual harassment allegations rajkumar hirani sonam kapoor said known hirani many years true metoo movement get derailed metoo movement always believe woman case need reserve judgment added hirani accused assistant worked sanju']\n"
     ]
    }
   ],
   "source": [
    "# 전체 Text 데이터에 대한 전처리 : 10분 이상 시간이 걸릴 수 있습니다. \n",
    "clean_text = []\n",
    "\n",
    "for sentence in data[\"text\"]:\n",
    "    clean_text.append(preprocess_sentence(sentence, remove_stopwords=True))\n",
    "\n",
    "# 전처리 후 출력\n",
    "print(\"text 전처리 후 결과: \", clean_text[:5])"
   ]
  },
  {
   "cell_type": "code",
   "execution_count": 13,
   "id": "95843b9a",
   "metadata": {},
   "outputs": [
    {
     "name": "stdout",
     "output_type": "stream",
     "text": [
      "headlines 전처리 후 결과:  ['upgrad learner switches to career in ml al with salary hike', 'delhi techie wins free food from swiggy for one year on cred', 'new zealand end rohit sharma led india match winning streak', 'aegon life iterm insurance plan helps customers save tax', 'have known hirani for yrs what if metoo claims are not true sonam']\n"
     ]
    }
   ],
   "source": [
    "# 전체 Summary 데이터에 대한 전처리 : 5분 이상 시간이 걸릴 수 있습니다. \n",
    "clean_headlines = []\n",
    "\n",
    "for sentence in data[\"headlines\"]:\n",
    "    clean_headlines.append(preprocess_sentence(sentence, remove_stopwords=False))\n",
    "\n",
    "print(\"headlines 전처리 후 결과: \", clean_headlines[:5])"
   ]
  },
  {
   "cell_type": "code",
   "execution_count": 14,
   "id": "f4e1b7da",
   "metadata": {},
   "outputs": [
    {
     "data": {
      "text/plain": [
       "headlines    0\n",
       "text         0\n",
       "dtype: int64"
      ]
     },
     "execution_count": 14,
     "metadata": {},
     "output_type": "execute_result"
    }
   ],
   "source": [
    "data['text'] = clean_text\n",
    "data['headlines'] = clean_headlines\n",
    "\n",
    "# 빈 값을 Null 값으로 변환\n",
    "data.replace('', np.nan, inplace=True)\n",
    "data.isnull().sum()"
   ]
  },
  {
   "cell_type": "markdown",
   "id": "42029f66",
   "metadata": {},
   "source": []
  },
  {
   "cell_type": "code",
   "execution_count": 15,
   "id": "7c85ebdd",
   "metadata": {},
   "outputs": [
    {
     "name": "stdout",
     "output_type": "stream",
     "text": [
      "텍스트의 최소 길이 : 1\n",
      "텍스트의 최대 길이 : 60\n",
      "텍스트의 평균 길이 : 35.09968483123221\n",
      "헤드라인의 최소 길이 : 1\n",
      "헤드라인의 최대 길이 : 16\n",
      "헤드라인의 평균 길이 : 9.299532330215534\n"
     ]
    },
    {
     "data": {
      "image/png": "[encoded data removed]",
      "text/plain": [
       "<Figure size 432x288 with 2 Axes>"
      ]
     },
     "metadata": {
      "needs_background": "light"
     },
     "output_type": "display_data"
    },
    {
     "data": {
      "image/png": "[encoded data removed]",
      "text/plain": [
       "<Figure size 432x288 with 1 Axes>"
      ]
     },
     "metadata": {
      "needs_background": "light"
     },
     "output_type": "display_data"
    },
    {
     "data": {
      "image/png": "[encoded data removed]",
      "text/plain": [
       "<Figure size 432x288 with 1 Axes>"
      ]
     },
     "metadata": {
      "needs_background": "light"
     },
     "output_type": "display_data"
    }
   ],
   "source": [
    "# 길이 분포 출력\n",
    "import matplotlib.pyplot as plt\n",
    "\n",
    "text_len = [len(s.split()) for s in data['text']]\n",
    "headlines_len = [len(s.split()) for s in data['headlines']]\n",
    "\n",
    "print('텍스트의 최소 길이 : {}'.format(np.min(text_len)))\n",
    "print('텍스트의 최대 길이 : {}'.format(np.max(text_len)))\n",
    "print('텍스트의 평균 길이 : {}'.format(np.mean(text_len)))\n",
    "print('헤드라인의 최소 길이 : {}'.format(np.min(headlines_len)))\n",
    "print('헤드라인의 최대 길이 : {}'.format(np.max(headlines_len)))\n",
    "print('헤드라인의 평균 길이 : {}'.format(np.mean(headlines_len)))\n",
    "\n",
    "plt.subplot(1,2,1)\n",
    "plt.boxplot(text_len)\n",
    "plt.title('text')\n",
    "plt.subplot(1,2,2)\n",
    "plt.boxplot(headlines_len)\n",
    "plt.title('headlines')\n",
    "plt.tight_layout()\n",
    "plt.show()\n",
    "\n",
    "plt.title('text')\n",
    "plt.hist(text_len, bins = 40)\n",
    "plt.xlabel('length of samples')\n",
    "plt.ylabel('number of samples')\n",
    "plt.show()\n",
    "\n",
    "plt.title('headlines')\n",
    "plt.hist(headlines_len, bins = 40)\n",
    "plt.xlabel('length of samples')\n",
    "plt.ylabel('number of samples')\n",
    "plt.show()"
   ]
  },
  {
   "cell_type": "code",
   "execution_count": 16,
   "id": "526d5a0d",
   "metadata": {},
   "outputs": [],
   "source": [
    "def below_threshold_len(max_len, nested_list):\n",
    "  cnt = 0\n",
    "  for s in nested_list:\n",
    "    if(len(s.split()) <= max_len):\n",
    "        cnt = cnt + 1\n",
    "  print('전체 샘플 중 길이가 %s 이하인 샘플의 비율: %s'%(max_len, (cnt / len(nested_list))))"
   ]
  },
  {
   "cell_type": "markdown",
   "id": "64c3050f",
   "metadata": {},
   "source": [
    "text_max_len, headlines_max_len 값을 변경해보면서 테스트"
   ]
  },
  {
   "cell_type": "code",
   "execution_count": 17,
   "id": "31a5375c",
   "metadata": {},
   "outputs": [
    {
     "name": "stdout",
     "output_type": "stream",
     "text": [
      "전체 샘플 중 길이가 40 이하인 샘플의 비율: 0.9238714924766165\n",
      "전체 샘플 중 길이가 11 이하인 샘플의 비율: 0.9449877999186661\n"
     ]
    }
   ],
   "source": [
    "text_max_len = 40\n",
    "headlines_max_len = 11\n",
    "\n",
    "below_threshold_len(text_max_len, data['text'])\n",
    "below_threshold_len(headlines_max_len,  data['headlines'])"
   ]
  },
  {
   "cell_type": "code",
   "execution_count": 18,
   "id": "5c646184",
   "metadata": {},
   "outputs": [
    {
     "name": "stdout",
     "output_type": "stream",
     "text": [
      "전체 샘플수 : 85843\n"
     ]
    }
   ],
   "source": [
    "data = data[data['text'].apply(lambda t: len(t.split()) <= text_max_len)]\n",
    "data = data[data['headlines'].apply(lambda t: len(t.split()) <= headlines_max_len)]\n",
    "\n",
    "print('전체 샘플수 :', (len(data)))"
   ]
  },
  {
   "cell_type": "code",
   "execution_count": 19,
   "id": "1d1acd86",
   "metadata": {},
   "outputs": [
    {
     "data": {
      "text/html": [
       "<div>\n",
       "<style scoped>\n",
       "    .dataframe tbody tr th:only-of-type {\n",
       "        vertical-align: middle;\n",
       "    }\n",
       "\n",
       "    .dataframe tbody tr th {\n",
       "        vertical-align: top;\n",
       "    }\n",
       "\n",
       "    .dataframe thead th {\n",
       "        text-align: right;\n",
       "    }\n",
       "</style>\n",
       "<table border=\"1\" class=\"dataframe\">\n",
       "  <thead>\n",
       "    <tr style=\"text-align: right;\">\n",
       "      <th></th>\n",
       "      <th>headlines</th>\n",
       "      <th>text</th>\n",
       "      <th>decoder_input</th>\n",
       "      <th>decoder_target</th>\n",
       "    </tr>\n",
       "  </thead>\n",
       "  <tbody>\n",
       "    <tr>\n",
       "      <th>0</th>\n",
       "      <td>upgrad learner switches to career in ml al wit...</td>\n",
       "      <td>saurav kant alumnus upgrad iiit pg program mac...</td>\n",
       "      <td>sostoken upgrad learner switches to career in ...</td>\n",
       "      <td>upgrad learner switches to career in ml al wit...</td>\n",
       "    </tr>\n",
       "    <tr>\n",
       "      <th>2</th>\n",
       "      <td>new zealand end rohit sharma led india match w...</td>\n",
       "      <td>new zealand defeated india wickets fourth odi ...</td>\n",
       "      <td>sostoken new zealand end rohit sharma led indi...</td>\n",
       "      <td>new zealand end rohit sharma led india match w...</td>\n",
       "    </tr>\n",
       "    <tr>\n",
       "      <th>3</th>\n",
       "      <td>aegon life iterm insurance plan helps customer...</td>\n",
       "      <td>aegon life iterm insurance plan customers enjo...</td>\n",
       "      <td>sostoken aegon life iterm insurance plan helps...</td>\n",
       "      <td>aegon life iterm insurance plan helps customer...</td>\n",
       "    </tr>\n",
       "    <tr>\n",
       "      <th>5</th>\n",
       "      <td>rahat fateh ali khan denies getting notice for...</td>\n",
       "      <td>pakistani singer rahat fateh ali khan denied r...</td>\n",
       "      <td>sostoken rahat fateh ali khan denies getting n...</td>\n",
       "      <td>rahat fateh ali khan denies getting notice for...</td>\n",
       "    </tr>\n",
       "    <tr>\n",
       "      <th>7</th>\n",
       "      <td>govt directs alok verma to join work day befor...</td>\n",
       "      <td>weeks ex cbi director alok verma told departme...</td>\n",
       "      <td>sostoken govt directs alok verma to join work ...</td>\n",
       "      <td>govt directs alok verma to join work day befor...</td>\n",
       "    </tr>\n",
       "  </tbody>\n",
       "</table>\n",
       "</div>"
      ],
      "text/plain": [
       "                                           headlines  \\\n",
       "0  upgrad learner switches to career in ml al wit...   \n",
       "2  new zealand end rohit sharma led india match w...   \n",
       "3  aegon life iterm insurance plan helps customer...   \n",
       "5  rahat fateh ali khan denies getting notice for...   \n",
       "7  govt directs alok verma to join work day befor...   \n",
       "\n",
       "                                                text  \\\n",
       "0  saurav kant alumnus upgrad iiit pg program mac...   \n",
       "2  new zealand defeated india wickets fourth odi ...   \n",
       "3  aegon life iterm insurance plan customers enjo...   \n",
       "5  pakistani singer rahat fateh ali khan denied r...   \n",
       "7  weeks ex cbi director alok verma told departme...   \n",
       "\n",
       "                                       decoder_input  \\\n",
       "0  sostoken upgrad learner switches to career in ...   \n",
       "2  sostoken new zealand end rohit sharma led indi...   \n",
       "3  sostoken aegon life iterm insurance plan helps...   \n",
       "5  sostoken rahat fateh ali khan denies getting n...   \n",
       "7  sostoken govt directs alok verma to join work ...   \n",
       "\n",
       "                                      decoder_target  \n",
       "0  upgrad learner switches to career in ml al wit...  \n",
       "2  new zealand end rohit sharma led india match w...  \n",
       "3  aegon life iterm insurance plan helps customer...  \n",
       "5  rahat fateh ali khan denies getting notice for...  \n",
       "7  govt directs alok verma to join work day befor...  "
      ]
     },
     "execution_count": 19,
     "metadata": {},
     "output_type": "execute_result"
    }
   ],
   "source": [
    "# 요약 데이터에는 시작 토큰과 종료 토큰을 추가한다.\n",
    "data['decoder_input'] = data['headlines'].apply(lambda x : 'sostoken '+ x)\n",
    "data['decoder_target'] = data['headlines'].apply(lambda x : x + ' eostoken')\n",
    "data.head()"
   ]
  },
  {
   "cell_type": "code",
   "execution_count": 20,
   "id": "d5334f05",
   "metadata": {},
   "outputs": [],
   "source": [
    "encoder_input = np.array(data['text']) # 인코더의 입력\n",
    "decoder_input = np.array(data['decoder_input']) # 디코더의 입력\n",
    "decoder_target = np.array(data['decoder_target']) # 디코더의 레이블\n"
   ]
  },
  {
   "cell_type": "code",
   "execution_count": 21,
   "id": "dffe66b5",
   "metadata": {},
   "outputs": [
    {
     "name": "stdout",
     "output_type": "stream",
     "text": [
      "[20371 41367 10881 ... 14647 27087 75341]\n",
      "테스트 데이터의 수 : 17168\n",
      "훈련 데이터의 개수 : 68675\n",
      "훈련 레이블의 개수 : 68675\n",
      "테스트 데이터의 개수 : 17168\n",
      "테스트 레이블의 개수 : 17168\n"
     ]
    }
   ],
   "source": [
    "indices = np.arange(encoder_input.shape[0])\n",
    "np.random.shuffle(indices)\n",
    "print(indices)\n",
    "\n",
    "encoder_input = encoder_input[indices]\n",
    "decoder_input = decoder_input[indices]\n",
    "decoder_target = decoder_target[indices]\n",
    "\n",
    "n_of_val = int(len(encoder_input)*0.2)\n",
    "print('테스트 데이터의 수 :', n_of_val)\n",
    "\n",
    "encoder_input_train = encoder_input[:-n_of_val]\n",
    "decoder_input_train = decoder_input[:-n_of_val]\n",
    "decoder_target_train = decoder_target[:-n_of_val]\n",
    "\n",
    "encoder_input_test = encoder_input[-n_of_val:]\n",
    "decoder_input_test = decoder_input[-n_of_val:]\n",
    "decoder_target_test = decoder_target[-n_of_val:]\n",
    "\n",
    "print('훈련 데이터의 개수 :', len(encoder_input_train))\n",
    "print('훈련 레이블의 개수 :', len(decoder_input_train))\n",
    "print('테스트 데이터의 개수 :', len(encoder_input_test))\n",
    "print('테스트 레이블의 개수 :', len(decoder_input_test))"
   ]
  },
  {
   "cell_type": "code",
   "execution_count": 22,
   "id": "715b915c",
   "metadata": {},
   "outputs": [],
   "source": [
    "src_tokenizer = Tokenizer() # 토크나이저 정의\n",
    "src_tokenizer.fit_on_texts(encoder_input_train) # 입력된 데이터로부터 단어 집합 생성"
   ]
  },
  {
   "cell_type": "code",
   "execution_count": 25,
   "id": "67629bcc",
   "metadata": {},
   "outputs": [
    {
     "name": "stdout",
     "output_type": "stream",
     "text": [
      "단어 집합(vocabulary)의 크기 : 64644\n",
      "등장 빈도가 9번 이하인 희귀 단어의 수: 47605\n",
      "단어 집합에서 희귀 단어를 제외시킬 경우의 단어 집합의 크기 17039\n",
      "단어 집합에서 희귀 단어의 비율: 73.6417919683188\n",
      "전체 등장 빈도에서 희귀 단어 등장 빈도 비율: 4.95077172071381\n"
     ]
    }
   ],
   "source": [
    "threshold = 10\n",
    "total_cnt = len(src_tokenizer.word_index) # 단어의 수\n",
    "rare_cnt = 0 # 등장 빈도수가 threshold보다 작은 단어의 개수를 카운트\n",
    "total_freq = 0 # 훈련 데이터의 전체 단어 빈도수 총 합\n",
    "rare_freq = 0 # 등장 빈도수가 threshold보다 작은 단어의 등장 빈도수의 총 합\n",
    "\n",
    "# 단어와 빈도수의 쌍(pair)을 key와 value로 받는다.\n",
    "for key, value in src_tokenizer.word_counts.items():\n",
    "    total_freq = total_freq + value\n",
    "\n",
    "    # 단어의 등장 빈도수가 threshold보다 작으면\n",
    "    if(value < threshold):\n",
    "        rare_cnt = rare_cnt + 1\n",
    "        rare_freq = rare_freq + value\n",
    "\n",
    "print('단어 집합(vocabulary)의 크기 :', total_cnt)\n",
    "print('등장 빈도가 %s번 이하인 희귀 단어의 수: %s'%(threshold - 1, rare_cnt))\n",
    "print('단어 집합에서 희귀 단어를 제외시킬 경우의 단어 집합의 크기 %s'%(total_cnt - rare_cnt))\n",
    "print(\"단어 집합에서 희귀 단어의 비율:\", (rare_cnt / total_cnt)*100)\n",
    "print(\"전체 등장 빈도에서 희귀 단어 등장 빈도 비율:\", (rare_freq / total_freq)*100)"
   ]
  },
  {
   "cell_type": "code",
   "execution_count": 26,
   "id": "6b0f7424",
   "metadata": {},
   "outputs": [],
   "source": [
    "src_vocab = 17039\n",
    "src_tokenizer = Tokenizer(num_words=src_vocab) # 단어 집합의 크기를 제한\n",
    "src_tokenizer.fit_on_texts(encoder_input_train) # 단어 집합 재생성"
   ]
  },
  {
   "cell_type": "code",
   "execution_count": 27,
   "id": "084c09b6",
   "metadata": {},
   "outputs": [
    {
     "name": "stdout",
     "output_type": "stream",
     "text": [
      "[[31, 22, 142, 18, 7040, 1725, 1143, 1967, 3498, 1, 268, 1107, 339, 3346, 2748, 2818, 36, 2772, 1792, 4499, 2987, 2136, 2057, 1725, 705, 51, 1107, 851, 6, 1, 51, 6, 117, 2363, 14107, 176, 194], [49, 407, 87, 2879, 4421, 517, 75, 2530, 690, 225, 8354, 254, 163, 973, 13116, 13, 6, 546, 1351, 562, 8354, 33, 407, 84, 11855, 13117, 12240, 4192, 27, 1, 117, 504, 889], [1102, 1184, 3143, 1250, 184, 15, 3194, 3302, 1, 2, 3573, 1548, 237, 1417, 51, 2433, 7, 2626, 618, 42, 33, 70, 331, 619, 457, 184, 15, 9384, 4255, 3302, 1, 8835, 1184, 24, 671, 928, 2127]]\n"
     ]
    }
   ],
   "source": [
    "# 텍스트 시퀀스를 정수 시퀀스로 변환\n",
    "encoder_input_train = src_tokenizer.texts_to_sequences(encoder_input_train) \n",
    "encoder_input_test = src_tokenizer.texts_to_sequences(encoder_input_test)\n",
    "\n",
    "# 잘 진행되었는지 샘플 출력\n",
    "print(encoder_input_train[:3])"
   ]
  },
  {
   "cell_type": "code",
   "execution_count": 28,
   "id": "48ceb974",
   "metadata": {},
   "outputs": [],
   "source": [
    "tar_tokenizer = Tokenizer()\n",
    "tar_tokenizer.fit_on_texts(decoder_input_train)"
   ]
  },
  {
   "cell_type": "code",
   "execution_count": 29,
   "id": "6f4f3528",
   "metadata": {},
   "outputs": [
    {
     "name": "stdout",
     "output_type": "stream",
     "text": [
      "단어 집합(vocabulary)의 크기 : 28435\n",
      "등장 빈도가 9번 이하인 희귀 단어의 수: 21379\n",
      "단어 집합에서 희귀 단어를 제외시킬 경우의 단어 집합의 크기 7056\n",
      "단어 집합에서 희귀 단어의 비율: 75.1855108141375\n",
      "전체 등장 빈도에서 희귀 단어 등장 빈도 비율: 7.9729412965916335\n"
     ]
    }
   ],
   "source": [
    "threshold = 10\n",
    "total_cnt = len(tar_tokenizer.word_index) # 단어의 수\n",
    "rare_cnt = 0 # 등장 빈도수가 threshold보다 작은 단어의 개수를 카운트\n",
    "total_freq = 0 # 훈련 데이터의 전체 단어 빈도수 총 합\n",
    "rare_freq = 0 # 등장 빈도수가 threshold보다 작은 단어의 등장 빈도수의 총 합\n",
    "\n",
    "# 단어와 빈도수의 쌍(pair)을 key와 value로 받는다.\n",
    "for key, value in tar_tokenizer.word_counts.items():\n",
    "    total_freq = total_freq + value\n",
    "\n",
    "    # 단어의 등장 빈도수가 threshold보다 작으면\n",
    "    if(value < threshold):\n",
    "        rare_cnt = rare_cnt + 1\n",
    "        rare_freq = rare_freq + value\n",
    "\n",
    "print('단어 집합(vocabulary)의 크기 :', total_cnt)\n",
    "print('등장 빈도가 %s번 이하인 희귀 단어의 수: %s'%(threshold - 1, rare_cnt))\n",
    "print('단어 집합에서 희귀 단어를 제외시킬 경우의 단어 집합의 크기 %s'%(total_cnt - rare_cnt))\n",
    "print(\"단어 집합에서 희귀 단어의 비율:\", (rare_cnt / total_cnt)*100)\n",
    "print(\"전체 등장 빈도에서 희귀 단어 등장 빈도 비율:\", (rare_freq / total_freq)*100)"
   ]
  },
  {
   "cell_type": "markdown",
   "id": "b119d70a",
   "metadata": {},
   "source": [
    "input은 1로 시작하고 target은 2로 끝나는 리스트가 생성된다."
   ]
  },
  {
   "cell_type": "code",
   "execution_count": 30,
   "id": "91c43bdd",
   "metadata": {},
   "outputs": [
    {
     "name": "stdout",
     "output_type": "stream",
     "text": [
      "input\n",
      "input  [[1, 1567, 12, 5670, 96, 951, 180, 3, 2346, 51, 2926], [1, 194, 3, 213, 2927, 44, 531, 4, 291, 5950], [1, 8, 74, 55, 2502, 3, 1496, 64, 2205, 7, 1152], [1, 40, 3166, 6, 2094, 6657, 3, 22, 116, 5, 1153], [1, 2057, 297, 1774, 23, 3, 60, 27, 4, 4410, 1568]]\n",
      "target\n",
      "decoder  [[1567, 12, 5670, 96, 951, 180, 3, 2346, 51, 2926, 2], [194, 3, 213, 2927, 44, 531, 4, 291, 5950, 2], [8, 74, 55, 2502, 3, 1496, 64, 2205, 7, 1152, 2], [40, 3166, 6, 2094, 6657, 3, 22, 116, 5, 1153, 2], [2057, 297, 1774, 23, 3, 60, 27, 4, 4410, 1568, 2]]\n"
     ]
    }
   ],
   "source": [
    "tar_vocab = 7100\n",
    "tar_tokenizer = Tokenizer(num_words=tar_vocab) \n",
    "tar_tokenizer.fit_on_texts(decoder_input_train)\n",
    "tar_tokenizer.fit_on_texts(decoder_target_train)\n",
    "\n",
    "# 텍스트 시퀀스를 정수 시퀀스로 변환\n",
    "decoder_input_train = tar_tokenizer.texts_to_sequences(decoder_input_train) \n",
    "decoder_target_train = tar_tokenizer.texts_to_sequences(decoder_target_train)\n",
    "decoder_input_test = tar_tokenizer.texts_to_sequences(decoder_input_test)\n",
    "decoder_target_test = tar_tokenizer.texts_to_sequences(decoder_target_test)\n",
    "\n",
    "# 잘 변환되었는지 확인\n",
    "print('input')\n",
    "print('input ',decoder_input_train[:5])\n",
    "print('target')\n",
    "print('decoder ',decoder_target_train[:5])"
   ]
  },
  {
   "cell_type": "markdown",
   "id": "b0f6d859",
   "metadata": {},
   "source": [
    "길이가 1인 문장들을 drop해준다."
   ]
  },
  {
   "cell_type": "code",
   "execution_count": 31,
   "id": "d74fa7d2",
   "metadata": {},
   "outputs": [
    {
     "name": "stdout",
     "output_type": "stream",
     "text": [
      "삭제할 훈련 데이터의 개수 : 0\n",
      "삭제할 테스트 데이터의 개수 : 1\n",
      "훈련 데이터의 개수 : 68675\n",
      "훈련 레이블의 개수 : 68675\n",
      "테스트 데이터의 개수 : 17167\n",
      "테스트 레이블의 개수 : 17167\n"
     ]
    }
   ],
   "source": [
    "drop_train = [index for index, sentence in enumerate(decoder_input_train) if len(sentence) == 1]\n",
    "drop_test = [index for index, sentence in enumerate(decoder_input_test) if len(sentence) == 1]\n",
    "\n",
    "print('삭제할 훈련 데이터의 개수 :', len(drop_train))\n",
    "print('삭제할 테스트 데이터의 개수 :', len(drop_test))\n",
    "\n",
    "encoder_input_train = [sentence for index, sentence in enumerate(encoder_input_train) if index not in drop_train]\n",
    "decoder_input_train = [sentence for index, sentence in enumerate(decoder_input_train) if index not in drop_train]\n",
    "decoder_target_train = [sentence for index, sentence in enumerate(decoder_target_train) if index not in drop_train]\n",
    "\n",
    "encoder_input_test = [sentence for index, sentence in enumerate(encoder_input_test) if index not in drop_test]\n",
    "decoder_input_test = [sentence for index, sentence in enumerate(decoder_input_test) if index not in drop_test]\n",
    "decoder_target_test = [sentence for index, sentence in enumerate(decoder_target_test) if index not in drop_test]\n",
    "\n",
    "print('훈련 데이터의 개수 :', len(encoder_input_train))\n",
    "print('훈련 레이블의 개수 :', len(decoder_input_train))\n",
    "print('테스트 데이터의 개수 :', len(encoder_input_test))\n",
    "print('테스트 레이블의 개수 :', len(decoder_input_test))"
   ]
  },
  {
   "cell_type": "code",
   "execution_count": 65,
   "id": "4053ae23",
   "metadata": {},
   "outputs": [],
   "source": [
    "encoder_input_train = pad_sequences(encoder_input_train, maxlen=text_max_len, padding='post')\n",
    "encoder_input_test = pad_sequences(encoder_input_test, maxlen=text_max_len, padding='post')\n",
    "decoder_input_train = pad_sequences(decoder_input_train, maxlen=headlines_max_len, padding='post')\n",
    "decoder_target_train = pad_sequences(decoder_target_train, maxlen=headlines_max_len, padding='post')\n",
    "decoder_input_test = pad_sequences(decoder_input_test, maxlen=headlines_max_len, padding='post')\n",
    "decoder_target_test = pad_sequences(decoder_target_test, maxlen=headlines_max_len, padding='post')"
   ]
  },
  {
   "cell_type": "markdown",
   "id": "4aad075d",
   "metadata": {},
   "source": [
    "# Step 3. 어텐션 메커니즘 사용하기"
   ]
  },
  {
   "cell_type": "code",
   "execution_count": 35,
   "id": "8c4799d6",
   "metadata": {},
   "outputs": [],
   "source": [
    "from tensorflow.keras.layers import Input, LSTM, Embedding, Dense, Concatenate, TimeDistributed\n",
    "from tensorflow.keras.models import Model\n",
    "from tensorflow.keras.callbacks import EarlyStopping, ModelCheckpoint\n",
    "\n",
    "\n",
    "# 인코더 설계 시작\n",
    "embedding_dim = 128\n",
    "hidden_size = 256\n",
    "\n",
    "# 인코더\n",
    "encoder_inputs = Input(shape=(text_max_len,))\n",
    "\n",
    "# 인코더의 임베딩 층\n",
    "enc_emb = Embedding(src_vocab, embedding_dim)(encoder_inputs)\n",
    "\n",
    "# 인코더의 LSTM 1\n",
    "encoder_lstm1 = LSTM(hidden_size, return_sequences=True, return_state=True ,dropout = 0.4)\n",
    "encoder_output1, state_h1, state_c1 = encoder_lstm1(enc_emb)\n",
    "\n",
    "# 인코더의 LSTM 2\n",
    "encoder_lstm2 = LSTM(hidden_size, return_sequences=True, return_state=True ,dropout = 0.4)\n",
    "encoder_output2, state_h2, state_c2 = encoder_lstm2(encoder_output1)\n",
    "\n",
    "# 인코더의 LSTM 3\n",
    "encoder_lstm3 = LSTM(hidden_size, return_sequences=True, return_state=True ,dropout = 0.4)\n",
    "encoder_outputs, state_h, state_c = encoder_lstm3(encoder_output2)"
   ]
  },
  {
   "cell_type": "code",
   "execution_count": 36,
   "id": "10ad2f0a",
   "metadata": {},
   "outputs": [],
   "source": [
    "# 디코더 설계\n",
    "decoder_inputs = Input(shape=(None,))\n",
    "\n",
    "# 디코더의 임베딩 층\n",
    "dec_emb_layer = Embedding(tar_vocab, embedding_dim)\n",
    "dec_emb = dec_emb_layer(decoder_inputs)\n",
    "\n",
    "# 디코더의 LSTM\n",
    "# decoder_lstm = LSTM(hidden_size, return_sequences=True, return_state=True, dropout=0.4, recurrent_dropout=0.2)\n",
    "decoder_lstm = LSTM(hidden_size, return_sequences=True, return_state=True, dropout=0.4)\n",
    "decoder_outputs, _, _ = decoder_lstm(dec_emb, initial_state=[state_h, state_c])"
   ]
  },
  {
   "cell_type": "code",
   "execution_count": 40,
   "id": "aa4f6d0c",
   "metadata": {},
   "outputs": [
    {
     "name": "stdout",
     "output_type": "stream",
     "text": [
      "Model: \"model_2\"\n",
      "__________________________________________________________________________________________________\n",
      "Layer (type)                    Output Shape         Param #     Connected to                     \n",
      "==================================================================================================\n",
      "input_3 (InputLayer)            [(None, 40)]         0                                            \n",
      "__________________________________________________________________________________________________\n",
      "embedding_2 (Embedding)         (None, 40, 128)      2180992     input_3[0][0]                    \n",
      "__________________________________________________________________________________________________\n",
      "lstm_6 (LSTM)                   [(None, 40, 256), (N 394240      embedding_2[0][0]                \n",
      "__________________________________________________________________________________________________\n",
      "input_4 (InputLayer)            [(None, None)]       0                                            \n",
      "__________________________________________________________________________________________________\n",
      "lstm_7 (LSTM)                   [(None, 40, 256), (N 525312      lstm_6[0][0]                     \n",
      "__________________________________________________________________________________________________\n",
      "embedding_3 (Embedding)         (None, None, 128)    908800      input_4[0][0]                    \n",
      "__________________________________________________________________________________________________\n",
      "lstm_8 (LSTM)                   [(None, 40, 256), (N 525312      lstm_7[0][0]                     \n",
      "__________________________________________________________________________________________________\n",
      "lstm_9 (LSTM)                   [(None, None, 256),  394240      embedding_3[0][0]                \n",
      "                                                                 lstm_8[0][1]                     \n",
      "                                                                 lstm_8[0][2]                     \n",
      "__________________________________________________________________________________________________\n",
      "attention_layer (AdditiveAttent (None, None, 256)    256         lstm_9[0][0]                     \n",
      "                                                                 lstm_8[0][0]                     \n",
      "__________________________________________________________________________________________________\n",
      "concat_layer (Concatenate)      (None, None, 512)    0           lstm_9[0][0]                     \n",
      "                                                                 attention_layer[0][0]            \n",
      "__________________________________________________________________________________________________\n",
      "dense_2 (Dense)                 (None, None, 7100)   3642300     concat_layer[0][0]               \n",
      "==================================================================================================\n",
      "Total params: 8,571,452\n",
      "Trainable params: 8,571,452\n",
      "Non-trainable params: 0\n",
      "__________________________________________________________________________________________________\n"
     ]
    }
   ],
   "source": [
    "from tensorflow.keras.layers import AdditiveAttention\n",
    "\n",
    "# 어텐션 층(어텐션 함수)\n",
    "attn_layer = AdditiveAttention(name='attention_layer')\n",
    "\n",
    "# 인코더와 디코더의 모든 time step의 hidden state를 어텐션 층에 전달하고 결과를 리턴\n",
    "attn_out = attn_layer([decoder_outputs, encoder_outputs])\n",
    "\n",
    "\n",
    "# 어텐션의 결과와 디코더의 hidden state들을 연결\n",
    "decoder_concat_input = Concatenate(axis=-1, name='concat_layer')([decoder_outputs, attn_out])\n",
    "\n",
    "# 디코더의 출력층\n",
    "decoder_softmax_layer = Dense(tar_vocab, activation='softmax')\n",
    "decoder_softmax_outputs = decoder_softmax_layer(decoder_concat_input)\n",
    "\n",
    "# 모델 정의\n",
    "model = Model([encoder_inputs, decoder_inputs], decoder_softmax_outputs)\n",
    "model.summary()"
   ]
  },
  {
   "cell_type": "markdown",
   "id": "7deba68c",
   "metadata": {},
   "source": [
    "EarlyStopping이 작동한다면 epochs가 아무리 크게 설정되어 있어도 모델 훈련을 최적점에서 멈출 수 있다. "
   ]
  },
  {
   "cell_type": "code",
   "execution_count": 42,
   "id": "3dcdb9cb",
   "metadata": {},
   "outputs": [
    {
     "name": "stdout",
     "output_type": "stream",
     "text": [
      "Epoch 1/50\n",
      "1074/1074 [==============================] - 36s 29ms/step - loss: 5.2550 - val_loss: 4.9370\n",
      "Epoch 2/50\n",
      "1074/1074 [==============================] - 31s 29ms/step - loss: 4.8153 - val_loss: 4.6845\n",
      "Epoch 3/50\n",
      "1074/1074 [==============================] - 31s 29ms/step - loss: 4.5610 - val_loss: 4.4896\n",
      "Epoch 4/50\n",
      "1074/1074 [==============================] - 30s 28ms/step - loss: 4.3737 - val_loss: 4.3480\n",
      "Epoch 5/50\n",
      "1074/1074 [==============================] - 31s 29ms/step - loss: 4.2300 - val_loss: 4.2495\n",
      "Epoch 6/50\n",
      "1074/1074 [==============================] - 31s 28ms/step - loss: 4.1104 - val_loss: 4.1725\n",
      "Epoch 7/50\n",
      "1074/1074 [==============================] - 31s 28ms/step - loss: 4.0255 - val_loss: 4.1204\n",
      "Epoch 8/50\n",
      "1074/1074 [==============================] - 31s 28ms/step - loss: 3.9452 - val_loss: 4.0780\n",
      "Epoch 9/50\n",
      "1074/1074 [==============================] - 31s 28ms/step - loss: 3.8738 - val_loss: 4.0276\n",
      "Epoch 10/50\n",
      "1074/1074 [==============================] - 31s 29ms/step - loss: 3.8203 - val_loss: 4.0037\n",
      "Epoch 11/50\n",
      "1074/1074 [==============================] - 31s 28ms/step - loss: 3.7716 - val_loss: 4.0037\n",
      "Epoch 12/50\n",
      "1074/1074 [==============================] - 31s 28ms/step - loss: 3.7314 - val_loss: 3.9742\n",
      "Epoch 13/50\n",
      "1074/1074 [==============================] - 31s 28ms/step - loss: 3.6940 - val_loss: 3.9678\n",
      "Epoch 14/50\n",
      "1074/1074 [==============================] - 31s 28ms/step - loss: 3.6498 - val_loss: 3.9429\n",
      "Epoch 15/50\n",
      "1074/1074 [==============================] - 31s 28ms/step - loss: 3.6050 - val_loss: 3.9228\n",
      "Epoch 16/50\n",
      "1074/1074 [==============================] - 31s 29ms/step - loss: 3.5623 - val_loss: 3.8964\n",
      "Epoch 17/50\n",
      "1074/1074 [==============================] - 31s 28ms/step - loss: 3.5252 - val_loss: 3.9028\n",
      "Epoch 18/50\n",
      "1074/1074 [==============================] - 30s 28ms/step - loss: 3.5035 - val_loss: 3.9000\n",
      "Epoch 19/50\n",
      "1074/1074 [==============================] - 30s 28ms/step - loss: 3.4813 - val_loss: 3.9041\n",
      "Epoch 00019: early stopping\n"
     ]
    }
   ],
   "source": [
    "model.compile(optimizer='rmsprop', loss='sparse_categorical_crossentropy')\n",
    "es = EarlyStopping(monitor='val_loss', patience=3, verbose=1)\n",
    "history = model.fit(x=[encoder_input_train, decoder_input_train], y=decoder_target_train, \\\n",
    "          validation_data=([encoder_input_test, decoder_input_test], decoder_target_test), \\\n",
    "          batch_size=64, callbacks=[es], epochs=50)"
   ]
  },
  {
   "cell_type": "code",
   "execution_count": 43,
   "id": "6991fb4a",
   "metadata": {},
   "outputs": [
    {
     "data": {
      "image/png": "[encoded data removed]",
      "text/plain": [
       "<Figure size 432x288 with 1 Axes>"
      ]
     },
     "metadata": {
      "needs_background": "light"
     },
     "output_type": "display_data"
    }
   ],
   "source": [
    "plt.plot(history.history['loss'], label='train')\n",
    "plt.plot(history.history['val_loss'], label='test')\n",
    "plt.legend()\n",
    "plt.show()"
   ]
  },
  {
   "cell_type": "markdown",
   "id": "ede198a0",
   "metadata": {},
   "source": [
    "학습이 진행되면서 loss가 떨어지는것을 확인하였다. 하지만 train loss가 test loss에 비해 과하게 떨어지고 있으므로 과적합 상태가 아닐까 싶다."
   ]
  },
  {
   "cell_type": "markdown",
   "id": "d2cb1309",
   "metadata": {},
   "source": [
    "# Step 4. 실제 결과와 요약문 비교하기"
   ]
  },
  {
   "cell_type": "code",
   "execution_count": 45,
   "id": "6a9f71b4",
   "metadata": {},
   "outputs": [
    {
     "name": "stdout",
     "output_type": "stream",
     "text": [
      "64644\n",
      "28436\n",
      "28436\n"
     ]
    }
   ],
   "source": [
    "src_index_to_word = src_tokenizer.index_word # 원문 단어 집합에서 정수 -> 단어를 얻음\n",
    "tar_word_to_index = tar_tokenizer.word_index # 요약 단어 집합에서 단어 -> 정수를 얻음\n",
    "tar_index_to_word = tar_tokenizer.index_word # 요약 단어 집합에서 정수 -> 단어를 얻음\n",
    "\n",
    "print(len(src_index_to_word))\n",
    "print(len(tar_word_to_index))\n",
    "print(len(tar_index_to_word))"
   ]
  },
  {
   "cell_type": "code",
   "execution_count": 46,
   "id": "f840322c",
   "metadata": {},
   "outputs": [],
   "source": [
    "# 인코더 설계\n",
    "encoder_model = Model(inputs=encoder_inputs, outputs=[encoder_outputs, state_h, state_c])\n",
    "\n",
    "# 이전 시점의 상태들을 저장하는 텐서\n",
    "decoder_state_input_h = Input(shape=(hidden_size,))\n",
    "decoder_state_input_c = Input(shape=(hidden_size,))\n",
    "\n",
    "dec_emb2 = dec_emb_layer(decoder_inputs)\n",
    "\n",
    "# 문장의 다음 단어를 예측하기 위해서 초기 상태(initial_state)를 이전 시점의 상태로 사용. 이는 뒤의 함수 decode_sequence()에 구현\n",
    "# 훈련 과정에서와 달리 LSTM의 리턴하는 은닉 상태와 셀 상태인 state_h와 state_c를 버리지 않음.\n",
    "decoder_outputs2, state_h2, state_c2 = decoder_lstm(dec_emb2, initial_state=[decoder_state_input_h, decoder_state_input_c])"
   ]
  },
  {
   "cell_type": "code",
   "execution_count": 47,
   "id": "fea56c78",
   "metadata": {},
   "outputs": [],
   "source": [
    "# 어텐션 함수\n",
    "decoder_hidden_state_input = Input(shape=(text_max_len, hidden_size))\n",
    "attn_out_inf = attn_layer([decoder_outputs2, decoder_hidden_state_input])\n",
    "decoder_inf_concat = Concatenate(axis=-1, name='concat')([decoder_outputs2, attn_out_inf])\n",
    "\n",
    "# 디코더의 출력층\n",
    "decoder_outputs2 = decoder_softmax_layer(decoder_inf_concat) \n",
    "\n",
    "# 최종 디코더 모델\n",
    "decoder_model = Model(\n",
    "    [decoder_inputs] + [decoder_hidden_state_input,decoder_state_input_h, decoder_state_input_c],\n",
    "    [decoder_outputs2] + [state_h2, state_c2])\n"
   ]
  },
  {
   "cell_type": "code",
   "execution_count": 51,
   "id": "410e5098",
   "metadata": {},
   "outputs": [],
   "source": [
    "def decode_sequence(input_seq):\n",
    "    # 입력으로부터 인코더의 상태를 얻음\n",
    "    e_out, e_h, e_c = encoder_model.predict(input_seq)\n",
    "\n",
    "     # <SOS>에 해당하는 토큰 생성\n",
    "    target_seq = np.zeros((1,1))\n",
    "    target_seq[0, 0] = tar_word_to_index['sostoken']\n",
    "\n",
    "    stop_condition = False\n",
    "    decoded_sentence = ''\n",
    "    while not stop_condition: # stop_condition이 True가 될 때까지 루프 반복\n",
    "\n",
    "        output_tokens, h, c = decoder_model.predict([target_seq] + [e_out, e_h, e_c])\n",
    "        sampled_token_index = np.argmax(output_tokens[0, -1, :])\n",
    "        sampled_token = tar_index_to_word[sampled_token_index]\n",
    "\n",
    "        if (sampled_token!='eostoken'):\n",
    "            decoded_sentence += ' '+sampled_token\n",
    "\n",
    "        #  <eos>에 도달하거나 최대 길이를 넘으면 중단.\n",
    "        if (sampled_token == 'eostoken'  or len(decoded_sentence.split()) >= (headlines_max_len-1)):\n",
    "            stop_condition = True\n",
    "\n",
    "        # 길이가 1인 타겟 시퀀스를 업데이트\n",
    "        target_seq = np.zeros((1,1))\n",
    "        target_seq[0, 0] = sampled_token_index\n",
    "\n",
    "        # 상태를 업데이트 합니다.\n",
    "        e_h, e_c = h, c\n",
    "\n",
    "    return decoded_sentence"
   ]
  },
  {
   "cell_type": "code",
   "execution_count": 52,
   "id": "e2d051c7",
   "metadata": {},
   "outputs": [],
   "source": [
    "# 원문의 정수 시퀀스를 텍스트 시퀀스로 변환\n",
    "def seq2text(input_seq):\n",
    "    temp=''\n",
    "    for i in input_seq:\n",
    "        if (i!=0):\n",
    "            temp = temp + src_index_to_word[i]+' '\n",
    "    return temp\n",
    "\n",
    "# 요약문의 정수 시퀀스를 텍스트 시퀀스로 변환\n",
    "def seq2headlines(input_seq):\n",
    "    temp=''\n",
    "    for i in input_seq:\n",
    "        if (i == 2):  # End token #2 = eostoken\n",
    "            break\n",
    "        if (i!=0 and i != 1):  # Exclude padding and start token #1 = sostoken\n",
    "            temp = temp + tar_index_to_word[i] + ' '\n",
    "    return temp"
   ]
  },
  {
   "cell_type": "code",
   "execution_count": 54,
   "id": "f5083fb2",
   "metadata": {},
   "outputs": [
    {
     "name": "stdout",
     "output_type": "stream",
     "text": [
      "원문 : australian man pulled police allegedly driving speed limit minutes bought porsche suv allegedly filmed phone ride vehicle seized police days man expected charged speeding using phone driving \n",
      "실제 요약 : porsche gets seized by police minutes after owner buys it \n",
      "예측 요약 :  man fined for driving driving to sell car\n",
      "\n",
      "\n",
      "원문 : failed bid acquire fortis healthcare capital manipal health reportedly talks jointly acquire majority stake gurugram based hospital operator heart surgeon naresh family co founder sunil stake company manipal likely offer valuation crore reports added \n",
      "실제 요약 : in talks to buy after failed fortis bid \n",
      "예측 요약 :  to buy stake in\n",
      "\n",
      "\n",
      "원문 : suhana khan appear guest opening episode koffee karan sixth season formally introduced public making bollywood debut per reports earlier reports suggested shah rukh khan kajol rani mukerji appear first guests celebrate th anniversary kuch kuch hota hai \n",
      "실제 요약 : suhana khan to be first guest on koffee with karan report \n",
      "예측 요약 :  kapil sharma to launch in new york reports\n",
      "\n",
      "\n",
      "원문 : belgium prince faces fine lakh attending event mark th anniversary founding china people liberation army without government permission belgian prime minister charles michel last year banned prince talks senior foreign officials without informing government series controversial meetings \n",
      "실제 요약 : belgian prince faces fine for attending chinese event \n",
      "예측 요약 :  uk fined lakh for fake war in\n",
      "\n",
      "\n",
      "원문 : defamation case filed actor kamal haasan hurting religious sentiments day stated hindu terror reality india column tamil weekly magazine haasan wrote hindu right wing groups started indulging acts violence hearing case scheduled tomorrow \n",
      "실제 요약 : case filed against haasan over hindu terror attack remark \n",
      "예측 요약 :  hindu body files fir against hindu pak remark\n",
      "\n",
      "\n",
      "원문 : least eight people died cyclone titli hit andhra pradesh odisha coast thursday destroyed uprooted several trees electric telephone poles region power supply communication systems took hit states affecting lakhs people around lakh people evacuated odisha ahead cyclone \n",
      "실제 요약 : killed as cyclone hits andhra odisha coast \n",
      "예측 요약 :  dead as andhra pradesh cm hits hits\n",
      "\n",
      "\n",
      "원문 : massive ransomware cyber attack targeted computers countries including india friday attacks detected far cyber security firms kaspersky confirmed russia worst hit country witnessing affected computers india third list ransomware dubbed wannacry reportedly demanded payment bitcoin \n",
      "실제 요약 : hackers attack computers in countries including india \n",
      "예측 요약 :  what is the security attacks in afghanistan\n",
      "\n",
      "\n",
      "원문 : days violent clashes uttar pradesh kasganj bjp leader raja singh said every house district ak requesting government check every house kasganj singh said authorities must take action prevent incidents least one man shot dead others injured clash \n",
      "실제 요약 : all the houses in kasganj have ak bjp leader \n",
      "예측 요약 :  will not be in house bjp to house\n",
      "\n",
      "\n",
      "원문 : actor shah rukh khan shared picture twitter seen posing women named sejal invited launch first song titled radha film jab harry met sejal event took place ahmedabad city maximum entries girls named sejal contest led srk \n",
      "실제 요약 : srk meets women named sejal for jab harry met sejal song \n",
      "예측 요약 :  srk shares pic with srk for women\n",
      "\n",
      "\n",
      "원문 : indigo flight returned lucknow shortly took pilot observed high vibration one engines airline said aircraft currently lucknow inspected technical team indigo forced ground airbus neo aircraft fitted pratt whitney engines several occasions due engine related issues \n",
      "실제 요약 : indigo flight returns to lucknow after high in engine \n",
      "예측 요약 :  indigo flight makes emergency landing after years\n",
      "\n",
      "\n",
      "원문 : two female police officers civilian shot dead gunman belgian city li ge tuesday officials said gunman also took female staff hostage school killed police gunman released prison temporarily islamist contacts officials added \n",
      "실제 요약 : police officers civilian killed in belgium shooting \n",
      "예측 요약 :  uk woman shot dead by police in\n",
      "\n",
      "\n",
      "원문 : softbank former president arora interview thursday said travis kalanick leaving uber right call somebody needed take responsibility things read past year added arora june uber co founder travis kalanick ousted ceo role due pressure investors \n",
      "실제 요약 : kalanick leaving uber was the right call arora \n",
      "예측 요약 :  ex uber prez ex uber exec\n",
      "\n",
      "\n",
      "원문 : punjab haryana high court thursday set aside former congress haryana government decision contractual employees stating decision made appease voters ahead state elections pointing policy regularisation made already withdrawn hc remarked government decision based personal benefits \n",
      "실제 요약 : cong govt staff for election hc \n",
      "예측 요약 :  hc orders cong mlas to leave cong workers\n",
      "\n",
      "\n",
      "원문 : indian railways bagged awards national energy conservation awards held new delhi five categories indian railways participated three categories railway stations hospitals institutions awards given bureau energy efficiency ministry power various institutions adopting energy efficiency measures \n",
      "실제 요약 : indian railways bags awards for energy \n",
      "예측 요약 :  indian railways to get national award\n",
      "\n",
      "\n",
      "원문 : elon musk led tunnelling startup boring company distributed first batch commercial people started using cook meat video twitter showed man lighting joint flamethrower called flamethrower device unveiled january throws flames shorter feet \n",
      "실제 요약 : people using musk to light joint cook meat \n",
      "예측 요약 :  elon musk boring company to be\n",
      "\n",
      "\n",
      "원문 : delhi high court monday observed rule financially sound people vice greed nowadays sections society fallen prey evil dowry court said man family torturing year old wife death fulfilling dowry demands \n",
      "실제 요약 : even the not above fall to dowry hc \n",
      "예측 요약 :  delhi hc asks centre to remove his own delhi\n",
      "\n",
      "\n",
      "원문 : potential economic loss japan suicides billion year according japan national broadcaster official data revealed japan recorded suicides annually since interestingly japan one highest life world years well highest suicide rates \n",
      "실제 요약 : cost japan economy billion year \n",
      "예측 요약 :  japan to get billion year after years\n",
      "\n",
      "\n",
      "원문 : congress started searching new chiefs head party units delhi haryana punjab himachal pradesh mumbai according party functionary changes reportedly aimed ending fighting places giving fresh start congress others move comes ahead lok sabha elections \n",
      "실제 요약 : congress looking for new to head party units report \n",
      "예측 요약 :  cong to be cong leader in new party\n",
      "\n",
      "\n",
      "원문 : delhi police thursday found two allegedly mentally disturbed siblings retired scientist living corpse deceased dr sood may died malnutrition around three four days ago siblings may aware death police said siblings admitted neurological clinic \n",
      "실제 요약 : siblings found living with dead scientist body in delhi \n",
      "예측 요약 :  delhi police to get months after months\n",
      "\n",
      "\n",
      "원문 : aiadmk faction led tamil nadu cm palaniswami panneerselvam named party chairman candidate rk nagar bypoll seat left vacant former cm jayalalithaa demise bypoll earlier scheduled april got cancelled election commission reports money distribution \n",
      "실제 요약 : ruling aiadmk group names for rk nagar bypoll \n",
      "예측 요약 :  aiadmk leader to be aiadmk leader\n",
      "\n",
      "\n",
      "원문 : former vice president hamid ansari speaking launch urdu version online news portal said urdu language entire country expressed disappointment urdu becoming issue opinion formed belongs muslims added urdu speaking people us canada parts world \n",
      "실제 요약 : is language of entire country ex vp ansari \n",
      "예측 요약 :  ex prez naidu launches ex prez\n",
      "\n",
      "\n",
      "원문 : deepa malik first indian woman win medal paralympics said shocked name list recipients year rajiv gandhi khel ratna award think application khel ratna must written mail sports minister year old athlete added \n",
      "실제 요약 : shocked my name not among khel ratna malik \n",
      "예측 요약 :  who is the woman who called the woman\n",
      "\n",
      "\n",
      "원문 : external affairs minister sushma swaraj thursday slammed congress vice president rahul gandhi meeting chinese envoy doklam standoff sad leader largest opposition party deemed proper meet chinese envoy get information standoff rather approach indian leadership said rajya sabha \n",
      "실제 요약 : sad that leader met chinese envoy and not us swaraj \n",
      "예측 요약 :  rahul calls indian swaraj calls for chinese polls\n",
      "\n",
      "\n",
      "원문 : following end decades long driving ban women conservative muslim country flight school saudi arabia begin training women september oxford aviation academy received applications hundreds women longer living era women allowed limited applicant said \n",
      "실제 요약 : saudi aviation academy to train first women pilots \n",
      "예측 요약 :  saudi arabia bans women from women\n",
      "\n",
      "\n",
      "원문 : nasa broadcasting live footage final stages cassini spacecraft dive saturn atmosphere dubbed grand finale event marks end year billion mission first ever spacecraft went saturn planet ring gap cassini helped study planet rings ice dust discovered water moons titan \n",
      "실제 요약 : nasa to live stream spacecraft into saturn \n",
      "예측 요약 :  nasa shares video of mars mission\n",
      "\n",
      "\n",
      "원문 : elon musk tunnelling startup boring company sold within week earning million sales firm unveiled last week throw flames shorter feet making device legal per bureau notably firm offered sale \n",
      "실제 요약 : musk startup sells all earns in week \n",
      "예측 요약 :  musk boring company boring company raises million\n",
      "\n",
      "\n",
      "원문 : indian rounder hardik pandya recovering injury suffered asia cup september posted video bowling part training following day recovery break focused determined feels good bowling days road recovery hardik captioned video bowling \n",
      "실제 요약 : hardik pandya seen bowling after day recovery break \n",
      "예측 요약 :  hardik pandya takes hardik pandya\n",
      "\n",
      "\n",
      "원문 : us deployed anti aircraft missiles first time use nato military drills comes ahead exercise russia belarus nato allies believe could increase russian presence notably states expressed concern russia dominance region crimea \n",
      "실제 요약 : us deploys anti aircraft missiles in for first time \n",
      "예측 요약 :  us to ban on syria on russia\n",
      "\n",
      "\n",
      "원문 : american airlines suspended employee video showed altercation flight involving employee woman carrying child passenger said employee violently took woman hitting missing baby incident started dispute whether woman could bring flight \n",
      "실제 요약 : airline suspends employee who hit woman with baby \n",
      "예측 요약 :  us airline staff suspended for woman\n",
      "\n",
      "\n",
      "원문 : video reportedly showing slapping another student school uttar pradesh noida surfaced social media victim reportedly suffered hearing loss developing hole however school authorities claimed incident bullying consensual peer slap bet \n",
      "실제 요약 : video showing slap bet between noida goes viral \n",
      "예측 요약 :  video of student student in up school\n",
      "\n",
      "\n",
      "원문 : supreme court collegium decided recommend uttarakhand chief justice km joseph elevation sc days government asked collegium reconsider decision also recommend names three high court judges decided next week centre sent back collegium recommendation grounds representation \n",
      "실제 요약 : to again name judge for sc post centre \n",
      "예측 요약 :  sc to hear plea to hear plea for justice\n",
      "\n",
      "\n",
      "원문 : us judge stopped sales home security startup ring part lawsuit filed rival electronic security provider according lawsuit ring allegedly gained security trade secrets using theft felony used products ring known video launched protect home security system last month \n",
      "실제 요약 : us judge blocks sales by security startup over trade theft \n",
      "예측 요약 :  us court orders probe to remove ex settle victim\n",
      "\n",
      "\n",
      "원문 : student university manchester discovered slowest spinning pulsar star located light years away earth every seconds fastest spinning pulsar known science present every slowest spinning pulsar known rotation period seconds \n",
      "실제 요약 : student finds slowest once every secs \n",
      "예측 요약 :  year old star in oldest film\n",
      "\n",
      "\n",
      "원문 : rjd leader tejashwi yadav taking dig nda government said always work chemistry certainly democracy added people fed central state policies impact spoil said society general perception law order bihar got worse \n",
      "실제 요약 : not chemistry works in democracy tejashwi yadav \n",
      "예측 요약 :  will not be in politics if it does not work\n",
      "\n",
      "\n",
      "원문 : nasa successfully launched football stadium sized super pressure balloon new zealand tuesday balloon designed fly around days feet high earth surface balloon carries kg payload detect ultra high energy cosmic rays outer space nasa launched scientific balloons years operation \n",
      "실제 요약 : nasa launches football stadium sized super pressure balloon \n",
      "예측 요약 :  nasa launches new trailer of the world cup\n",
      "\n",
      "\n",
      "원문 : google home users reportedly complained company smart speaker unable answer questions like jesus could respond queries buddha muhammad disrespect ensure respect might reply cases web content vulnerable vandalism spam responded google statement \n",
      "실제 요약 : users complain google home does not answer to who is jesus \n",
      "예측 요약 :  google to shut down after years\n",
      "\n",
      "\n",
      "원문 : sex taboo gift god designed show love create life pope francis said slamming pornography part industry lies urged young protect sexuality pornography separate sex love \n",
      "실제 요약 : pope says sex is gift from god slams \n",
      "예측 요약 :  sex abuse of child sex in\n",
      "\n",
      "\n",
      "원문 : indian administration services officer anurag tewari found lying dead roadside lucknow area wednesday morning tewari batch karnataka cadre officer staying guest house area police confirmed officer injury body apart one chin \n",
      "실제 요약 : ias officer found lying dead on road in lucknow \n",
      "예측 요약 :  indian origin found dead in ias officer\n",
      "\n",
      "\n",
      "원문 : several uttar pradesh mlas caught sleeping camera gst meeting lucknow lok bhawan gst bill already cleared parliament clearance state governments pan india implementation july year recently karnataka cm siddaramaiah found sleeping meetings also legislative sessions \n",
      "실제 요약 : up mlas caught sleeping in lok during gst meeting \n",
      "예측 요약 :  gst returns to return to gst from gujarat\n",
      "\n",
      "\n",
      "원문 : cyber security breaches could pose serious risk business affecting financial prospects company major wipro stated rising number incidents cases cyber security attacks also means risk goes company noted attacks could also lead financial obligations customers added \n",
      "실제 요약 : cyber security breaches threat to our business warns wipro \n",
      "예측 요약 :  will not be used for its own oil minister\n",
      "\n",
      "\n",
      "원문 : ex world heavyweight champion tyson fury trainer ben revealed former broke tooth training paid dental bill said tyson instructions instead executing body shot caught chin purpose jury still added \n",
      "실제 요약 : boxer breaks trainer pays bill \n",
      "예측 요약 :  ex ex world no ex ex ex ex ex england\n",
      "\n",
      "\n",
      "원문 : unique identification authority india asserted schools cannot deny admission students lack aadhaar calling invalid permitted law circular addressed chief secretaries states uidai stated must ensured children deprived denied due benefits \n",
      "실제 요약 : schools cannot deny admission for lack of aadhaar uidai \n",
      "예측 요약 :  cannot be mandatory for aadhaar in india uidai\n",
      "\n",
      "\n",
      "원문 : ali abbas zafar said salman khan abused pushing much upcoming directorial tiger zinda hai scenes shot extreme conditions hated knows tried portray added ali said faith show action side well \n",
      "실제 요약 : salman abused me for pushing him hard tiger zinda hai maker \n",
      "예측 요약 :  salman khan is not playing film\n",
      "\n",
      "\n",
      "원문 : union minister vijay goel favoured three north south east order deliver services effectively barring one two civic bodies losses would efficient three merged said mcd ndmc \n",
      "실제 요약 : bjp mp vijay favours of \n",
      "예측 요약 :  minister to get visa minister\n",
      "\n",
      "\n",
      "원문 : located park china spans four includes toilets often referred world largest public building features group open air stalls entertainment options music tv shows complex inspired ancient egyptian art also called palace \n",
      "실제 요약 : in china has toilets four \n",
      "예측 요약 :  china to get world biggest\n",
      "\n",
      "\n",
      "원문 : several people took twitter troll named introduced men company design know ready need tone little tweeted user making sure nobody bathroom take pee peace read another tweet \n",
      "실제 요약 : twitter users troll introduced for men \n",
      "예측 요약 :  twitter reacts to user khan tweet on twitter\n",
      "\n",
      "\n",
      "원문 : becoming oldest men singles world number one twenty time grand slam champion roger federer tweeted apparently oldest tennis player number one ranking somebody might mentioned already hard time hearing federer become world number one first time february year old \n",
      "실제 요약 : had hard time hearing federer on becoming oldest no \n",
      "예측 요약 :  world no nadal wins his career no nadal\n",
      "\n",
      "\n",
      "원문 : two nuns working mother teresa missionaries charity arrested jharkhand ranchi thursday allegedly selling four babies three babies sold nuns jharkhand one sold uttar pradesh couple claimed paid lakh may get day old boy custody \n",
      "실제 요약 : mother teresa charity held for selling day old baby \n",
      "예측 요약 :  mother of mother arrested for selling mother\n",
      "\n",
      "\n",
      "원문 : former media mogul peter mukerjea agreed divorce indrani mukerjea admitting marriage broken two co accused sheena bora murder case children marriage indrani ex husband sanjeev khanna accused murdering daughter sheena peter arrested allegedly part conspiracy \n",
      "실제 요약 : peter agrees to end marriage with indrani \n",
      "예측 요약 :  ex husband claims he will never be ex husband\n",
      "\n",
      "\n",
      "원문 : bjp spokesperson prakash condemned mla lal recent remarks questioning cricketer virat kohli patriotism italy india get married adding business question kohli patriotism prakash said former right tarnish party image hopes mla ways \n",
      "실제 요약 : bjp condemns its mla virat kohli not remark \n",
      "예측 요약 :  bjp mla calls for remark on her remark\n",
      "\n",
      "\n"
     ]
    }
   ],
   "source": [
    "for i in range(50, 100):\n",
    "    print(\"원문 :\", seq2text(encoder_input_test[i]))\n",
    "    print(\"실제 요약 :\", seq2headlines(decoder_input_test[i]))\n",
    "    print(\"예측 요약 :\", decode_sequence(encoder_input_test[i].reshape(1, text_max_len)))\n",
    "    print(\"\\n\")"
   ]
  },
  {
   "cell_type": "markdown",
   "id": "fb9af4f7",
   "metadata": {},
   "source": [
    "대체로 요약이 훌륭하지는 않지만 주요단어들이 잘 보이는것을 확인할 수 있었다."
   ]
  },
  {
   "cell_type": "markdown",
   "id": "a2c03db4",
   "metadata": {},
   "source": [
    "# Step 5. Summa을 이용해서 추출적 요약해보기"
   ]
  },
  {
   "cell_type": "code",
   "execution_count": 55,
   "id": "77054ff8",
   "metadata": {},
   "outputs": [
    {
     "data": {
      "text/html": [
       "<div>\n",
       "<style scoped>\n",
       "    .dataframe tbody tr th:only-of-type {\n",
       "        vertical-align: middle;\n",
       "    }\n",
       "\n",
       "    .dataframe tbody tr th {\n",
       "        vertical-align: top;\n",
       "    }\n",
       "\n",
       "    .dataframe thead th {\n",
       "        text-align: right;\n",
       "    }\n",
       "</style>\n",
       "<table border=\"1\" class=\"dataframe\">\n",
       "  <thead>\n",
       "    <tr style=\"text-align: right;\">\n",
       "      <th></th>\n",
       "      <th>headlines</th>\n",
       "      <th>text</th>\n",
       "    </tr>\n",
       "  </thead>\n",
       "  <tbody>\n",
       "    <tr>\n",
       "      <th>0</th>\n",
       "      <td>upGrad learner switches to career in ML &amp; Al w...</td>\n",
       "      <td>Saurav Kant, an alumnus of upGrad and IIIT-B's...</td>\n",
       "    </tr>\n",
       "    <tr>\n",
       "      <th>1</th>\n",
       "      <td>Delhi techie wins free food from Swiggy for on...</td>\n",
       "      <td>Kunal Shah's credit card bill payment platform...</td>\n",
       "    </tr>\n",
       "    <tr>\n",
       "      <th>2</th>\n",
       "      <td>New Zealand end Rohit Sharma-led India's 12-ma...</td>\n",
       "      <td>New Zealand defeated India by 8 wickets in the...</td>\n",
       "    </tr>\n",
       "    <tr>\n",
       "      <th>3</th>\n",
       "      <td>Aegon life iTerm insurance plan helps customer...</td>\n",
       "      <td>With Aegon Life iTerm Insurance plan, customer...</td>\n",
       "    </tr>\n",
       "    <tr>\n",
       "      <th>4</th>\n",
       "      <td>Have known Hirani for yrs, what if MeToo claim...</td>\n",
       "      <td>Speaking about the sexual harassment allegatio...</td>\n",
       "    </tr>\n",
       "  </tbody>\n",
       "</table>\n",
       "</div>"
      ],
      "text/plain": [
       "                                           headlines  \\\n",
       "0  upGrad learner switches to career in ML & Al w...   \n",
       "1  Delhi techie wins free food from Swiggy for on...   \n",
       "2  New Zealand end Rohit Sharma-led India's 12-ma...   \n",
       "3  Aegon life iTerm insurance plan helps customer...   \n",
       "4  Have known Hirani for yrs, what if MeToo claim...   \n",
       "\n",
       "                                                text  \n",
       "0  Saurav Kant, an alumnus of upGrad and IIIT-B's...  \n",
       "1  Kunal Shah's credit card bill payment platform...  \n",
       "2  New Zealand defeated India by 8 wickets in the...  \n",
       "3  With Aegon Life iTerm Insurance plan, customer...  \n",
       "4  Speaking about the sexual harassment allegatio...  "
      ]
     },
     "execution_count": 55,
     "metadata": {},
     "output_type": "execute_result"
    }
   ],
   "source": [
    "from summa.summarizer import summarize\n",
    "\n",
    "file = pd.read_csv('news_summary_more.csv', encoding='iso-8859-1')\n",
    "file.head()"
   ]
  },
  {
   "cell_type": "markdown",
   "id": "1b2541ca",
   "metadata": {},
   "source": [
    "seq2seq Summa의 요약 결과 비교해보았다."
   ]
  },
  {
   "cell_type": "code",
   "execution_count": 66,
   "id": "a201d5e0",
   "metadata": {},
   "outputs": [
    {
     "name": "stdout",
     "output_type": "stream",
     "text": [
      "원문 : Former Finance Minister Yashwant Sinha on Tuesday demanded a probe into the alleged diversion of loans worth Ã¢ÂÂ¹31,000 crore by Dewan Housing Finance (DHFL). All agencies including regulators of the government have failed to track nefarious deals, he said. This comes after a media report on Tuesday accused DHFL's controlling shareholders of diverting funds to shell companies to buy assets.\n",
      "---------\n",
      "실제 요약 : Yashwant Sinha demands probe into alleged fund diversion by DHFL\n",
      "seq2seq :  man fined for driving driving to sell car\n",
      "summa : Former Finance Minister Yashwant Sinha on Tuesday demanded a probe into the alleged diversion of loans worth Ã¢ÂÂ¹31,000 crore by Dewan Housing Finance (DHFL).\n",
      "===========\n",
      "\n",
      "\n",
      "원문 : US-based Boeing on Wednesday reported annual sales worth $101.12 billion in 2018, the first time the planemaker's sales crossed the $100-billion mark in its 102-year history. The company said it expects to deliver between 895 and 905 commercial aircraft in 2019. Boeing retained its position as the world's largest planemaker for the seventh straight year, delivering 806 aircraft in 2018. \n",
      "---------\n",
      "실제 요약 : Boeing sales cross $100bn for 1st time in its 102-yr history\n",
      "seq2seq :  to buy stake in\n",
      "summa : Boeing retained its position as the world's largest planemaker for the seventh straight year, delivering 806 aircraft in 2018.\n",
      "===========\n",
      "\n",
      "\n",
      "원문 : text\n",
      "---------\n",
      "실제 요약 : headlines\n",
      "seq2seq :  kapil sharma to launch in new york reports\n",
      "summa : \n",
      "===========\n",
      "\n",
      "\n",
      "원문 : OnePlus has emerged as India's best-selling premium smartphone brand of 2018, as per a report by Counterpoint. It captured 36% of the market share in the premium segment, in Q4 2018. Further, its OnePlus 6 emerged as the highest selling premium smartphone of 2018 followed by OnePlus 6T.\n",
      "---------\n",
      "실제 요약 : OnePlus named bestselling premium smartphone brand of 2018: Report\n",
      "seq2seq :  uk fined lakh for fake war in\n",
      "summa : Further, its OnePlus 6 emerged as the highest selling premium smartphone of 2018 followed by OnePlus 6T.\n",
      "===========\n",
      "\n",
      "\n",
      "원문 : Filmmaker Pooja Bhatt, while talking about the presentation of women in her films, said, \"I can never look at a female body, even if it's naked, in a vulgar manner.\" \"Our audience can say...the women in my films are bold or sensual, but never ever vulgar,\" she added. Pooja further said her censor board is her \"own heart and mind\".\n",
      "---------\n",
      "실제 요약 : Can never look at female body, even if naked, in vulgar way: Pooja\n",
      "seq2seq :  hindu body files fir against hindu pak remark\n",
      "summa : \n",
      "===========\n",
      "\n",
      "\n",
      "원문 : Actress Mishti, who has featured in 'Manikarnika: The Queen of Jhansi', has said the film's co-director Kangana Ranaut made false promises to the cast. \"Kangana had said, 'I want dates because all characters look jumbled up...I'm trying my best to give everybody a prominent space on screen.' After watching the movie, there is no scope for other characters,\" Mishti added. \n",
      "---------\n",
      "실제 요약 : Kangana made fake promises to cast: 'Manikarnika' actress Mishti\n",
      "seq2seq :  dead as andhra pradesh cm hits hits\n",
      "summa : Actress Mishti, who has featured in 'Manikarnika: The Queen of Jhansi', has said the film's co-director Kangana Ranaut made false promises to the cast.\n",
      "===========\n",
      "\n",
      "\n",
      "원문 : The high-powered committee led by PM Narendra Modi to select the next CBI Director will meet again on February 1, Congress leader Mallikarjun Kharge has said. The panel consisting of Kharge and Chief Justice of India Ranjan Gogoi met on January 24, but the meeting ended \"inconclusively\" after Kharge cited lack of details in the list of 80 IPS officers. \n",
      "---------\n",
      "실제 요약 : PM-led panel to meet on Friday to pick new CBI chief: Kharge\n",
      "seq2seq :  what is the security attacks in afghanistan\n",
      "summa : The high-powered committee led by PM Narendra Modi to select the next CBI Director will meet again on February 1, Congress leader Mallikarjun Kharge has said.\n",
      "===========\n",
      "\n",
      "\n",
      "원문 : Nevada State Athletic Commission has banned MMA fighters Conor McGregor and Khabib Nurmagomedov for six months and nine months respectively over their roles in the mass brawl that occurred after their fight at UFC 229 last October. McGregor and Khabib have been fined $50,000 (Ã¢ÂÂ¹35 lakh) and $500,000 (Ã¢ÂÂ¹3.5 crore) respectively. The brawl occurred after Nurmagomedov confronted McGregor's teammate.\n",
      "---------\n",
      "실제 요약 : McGregor fined Ã¢ÂÂ¹35 lakh, Khabib Ã¢ÂÂ¹3.5 crore for brawl; both banned\n",
      "seq2seq :  will not be in house bjp to house\n",
      "summa : Nevada State Athletic Commission has banned MMA fighters Conor McGregor and Khabib Nurmagomedov for six months and nine months respectively over their roles in the mass brawl that occurred after their fight at UFC 229 last October.\n",
      "===========\n",
      "\n",
      "\n",
      "원문 : Pakistan captain Sarfaraz Ahmed, who has been banned for four matches over racist remarks, took an apparent dig at his critics by sharing a video of a child reciting 'log hai na' poem on Twitter. \"Pyaar karna hai to khud se kar...dushmani karne ke liye log hai na,\" the poem read. \"This is how the world is,\" Sarfaraz wrote.\n",
      "---------\n",
      "실제 요약 : Banned for 4 matches, Sarfaraz shares 'log hai na' poem for critics\n",
      "seq2seq :  srk shares pic with srk for women\n",
      "summa : Pakistan captain Sarfaraz Ahmed, who has been banned for four matches over racist remarks, took an apparent dig at his critics by sharing a video of a child reciting 'log hai na' poem on Twitter.\n",
      "===========\n",
      "\n",
      "\n",
      "원문 : Banned cricketer Sreesanth has told Supreme Court he initially confessed to Delhi Police about his alleged involvement in 2013 IPL spot-fixing scandal to escape continuous police torture. Sreesanth further said the bookie tried dragging him into spot-fixing but he didn't fall for it. Citing Sreesanth not informing BCCI about fixing approach, the apex court said Sreesanth's conduct \"wasn't good\".\n",
      "---------\n",
      "실제 요약 : Confessed to spot-fixing to escape police torture: Sreesanth to SC\n",
      "seq2seq :  indigo flight makes emergency landing after years\n",
      "summa : Sreesanth further said the bookie tried dragging him into spot-fixing but he didn't fall for it.\n",
      "===========\n",
      "\n",
      "\n",
      "원문 : The Finance Ministry on Wednesday said the government will present an Interim Budget on February 1. The clarification came amid speculations that a full Budget may be presented during the session. The government recently assigned Piyush Goyal temporary additional charge of the Finance and Corporate Affairs ministries in the absence of Arun Jaitley, who is in the US for treatment.\n",
      "---------\n",
      "실제 요약 : Govt to present Interim Budget, not full Budget on February 1\n",
      "seq2seq :  uk woman shot dead by police in\n",
      "summa : The Finance Ministry on Wednesday said the government will present an Interim Budget on February 1.\n",
      "===========\n",
      "\n",
      "\n",
      "원문 : US President Donald Trump on Wednesday called his country's top intelligence chiefs \"naive\" and \"wrong\" on Iran and added that they should perhaps \"go back to school\". Trump claimed Iran is testing rockets, calling the country \"a source of potential danger and conflict\". Top US intelligence officials on Tuesday said that Iran isn't currently taking steps towards building nuclear weapons.\n",
      "---------\n",
      "실제 요약 : US intelligence naive and wrong, should go back to school: Trump\n",
      "seq2seq :  ex uber prez ex uber exec\n",
      "summa : US President Donald Trump on Wednesday called his country's top intelligence chiefs \"naive\" and \"wrong\" on Iran and added that they should perhaps \"go back to school\".\n",
      "===========\n",
      "\n",
      "\n",
      "원문 : A senior priest at the Vatican who handled cases of sexual abuse has quit after being accused of sexual abuse by a former nun. The accused priest claimed he is innocent and said he would consider taking legal action. The Vatican said in a statement that a Church investigation of the case was underway.\n",
      "---------\n",
      "실제 요약 : Vatican priest handling sex abuse cases quits over alleged sex abuse\n",
      "seq2seq :  hc orders cong mlas to leave cong workers\n",
      "summa : A senior priest at the Vatican who handled cases of sexual abuse has quit after being accused of sexual abuse by a former nun.\n",
      "===========\n",
      "\n",
      "\n",
      "원문 : A 22-year-old writer turned down a job offer, claiming she was bullied to the point of tears during her two-hour interview by a UK company's CEO. Olivia Bland added the \"brutal\" interview brought back painful memories of her abusive relationship. \"I am so sorry that anyone has been hurt, it is never my intent,\" Web Applications CEO Craig Dean replied. \n",
      "---------\n",
      "실제 요약 : Woman rejects job after CEO bullies her in interview; he apologises\n",
      "seq2seq :  indian railways to get national award\n",
      "summa : A 22-year-old writer turned down a job offer, claiming she was bullied to the point of tears during her two-hour interview by a UK company's CEO.\n",
      "===========\n",
      "\n",
      "\n",
      "원문 : Noida Police has arrested Sector 20 station in-charge Manoj Pant and three journalists for allegedly extorting money from a call centre owner for removing his name from an FIR. The four were caught while taking bribe money of Ã¢ÂÂ¹8 lakh, police said. Pant was the lead investigator in the Paytm extortion case involving Founder Vijay Shekhar Sharma's secretary Sonia Dhawan.\n",
      "---------\n",
      "실제 요약 : Police officer probing Paytm extortion case arrested for extortion\n",
      "seq2seq :  elon musk boring company to be\n",
      "summa : Noida Police has arrested Sector 20 station in-charge Manoj Pant and three journalists for allegedly extorting money from a call centre owner for removing his name from an FIR.\n",
      "===========\n",
      "\n",
      "\n",
      "원문 : Airtel on Wednesday said that Qatar's sovereign wealth fund Qatar Investment Authority will invest $200 million through a primary equity issuance in Airtel Africa. India's second-largest telecom operator's Africa unit recently raised $1.25 billion from six investors. Airtel Africa, the holding company for Airtel's operations in 14 African countries, is preparing for an initial public offering.\n",
      "---------\n",
      "실제 요약 : Qatar to invest $200 million in Airtel Africa\n",
      "seq2seq :  delhi hc asks centre to remove his own delhi\n",
      "summa : Airtel Africa, the holding company for Airtel's operations in 14 African countries, is preparing for an initial public offering.\n",
      "===========\n",
      "\n",
      "\n",
      "원문 : Actor Shreyas Talpade said that 'Golmaal' filmmaker Rohit Shetty is still working on the script for the fifth instalment of the 'Golmaal' film franchise. \"He was telling us the other day that he...cracked some story. Once he's done with the...scripting, he'll take a call,Ã¢ÂÂ the actor added. The series features Shreyas along with Ajay Devgn, Arshad Warsi and Tusshar Kapoor.\n",
      "---------\n",
      "실제 요약 : Rohit Shetty still working on script for Golmaal 5: Shreyas\n",
      "seq2seq :  japan to get billion year after years\n",
      "summa : Actor Shreyas Talpade said that 'Golmaal' filmmaker Rohit Shetty is still working on the script for the fifth instalment of the 'Golmaal' film franchise.\n",
      "===========\n",
      "\n",
      "\n",
      "원문 : A 72-year-old man named Terry Sanderson has sued 'Avengers' actress Gwyneth Paltrow for allegedly crashing into him while skiing, and is seeking $3.1 million (over Ã¢ÂÂ¹22 crore) in damages. The lawsuit states the actress got up and skied away after knocking the man down, leaving him with broken ribs. The incident reportedly took place in 2016 in Utah, US. \n",
      "---------\n",
      "실제 요약 : Man sues Avengers actress Gwyneth for Ã¢ÂÂ¹22 crore over ski crash\n",
      "seq2seq :  cong to be cong leader in new party\n",
      "summa : A 72-year-old man named Terry Sanderson has sued 'Avengers' actress Gwyneth Paltrow for allegedly crashing into him while skiing, and is seeking $3.1 million (over Ã¢ÂÂ¹22 crore) in damages.\n",
      "===========\n",
      "\n",
      "\n",
      "원문 : Yami Gautam was felicitated by Border Security Force (BSF) in Amritsar for her performance in 'Uri: The Surgical Strike'. \"BSF is the first line of defence of our country and it gives me...pride to have met them,\" Yami said. The film, which also stars Vicky Kaushal, is based on the Indian Army's surgical strike operation which took place in 2016.\n",
      "---------\n",
      "실제 요약 : Yami Gautam felicitated by BSF for performance in 'Uri...'\n",
      "seq2seq :  delhi police to get months after months\n",
      "summa : Yami Gautam was felicitated by Border Security Force (BSF) in Amritsar for her performance in 'Uri: The Surgical Strike'.\n",
      "===========\n",
      "\n",
      "\n",
      "원문 : Social media giant Facebook has hired privacy critic Nate Cardozo, formerly the top legal counsel for US privacy watchdog EFF, as a privacy policy manager for WhatsApp. Cardozo had called Facebook a \"faceless corporation\" whose business model depends on user's confusion and indifference about privacy, in October 2015. Facebook has also hired attorney Robyn Greene as its privacy policy manager.\n",
      "---------\n",
      "실제 요약 : Facebook hires its privacy critic as privacy policy manager\n",
      "seq2seq :  aiadmk leader to be aiadmk leader\n",
      "summa : \n",
      "===========\n",
      "\n",
      "\n",
      "원문 : Apple CEO Tim Cook said the company plans to lower some iPhones' prices in markets with currencies that weakened against the US dollar in the past year. \"WeÃ¢ÂÂve decided to go back to (iPhone prices) more commensurate with...local prices...a year ago,\" Cook added. The price cuts, in hopes of increasing sales, are reportedly occurring for second time in 12 years.\n",
      "---------\n",
      "실제 요약 : Apple to cut some iPhones' prices outside US over strong dollar\n",
      "seq2seq :  ex prez naidu launches ex prez\n",
      "summa : \"WeÃ¢ÂÂve decided to go back to (iPhone prices) more commensurate with...local prices...a year ago,\" Cook added.\n",
      "===========\n",
      "\n",
      "\n",
      "원문 : Scientists in Australia's Flinders University are testing a wetsuit prototype that could protect its wearer after a shark attack. The suit, made of synthetic material similar to the material used in bulletproof vests, could help reduce blood loss after a shark attack. \"The majority of fatalities from shark bites is due to blood loss...shock from blood loss,\" a scientist said.\n",
      "---------\n",
      "실제 요약 : Scientists test wetsuit to protect wearer after shark attack\n",
      "seq2seq :  who is the woman who called the woman\n",
      "summa : \"The majority of fatalities from shark bites is due to blood loss...shock from blood loss,\" a scientist said.\n",
      "===========\n",
      "\n",
      "\n",
      "원문 : BJP National Secretary Rahul Sinha on Wednesday asked the party workers in West Bengal to come armed with sticks to PM Narendra Modi's rally in the state on February 2. His statement came a day after clashes broke out following BJP chief Amit Shah's WB rally. Sinha added the TMC is indulged in violence as they're afraid of BJP's strength.\n",
      "---------\n",
      "실제 요약 : Come armed with sticks for PM Modi's rally in WB: BJP leader\n",
      "seq2seq :  rahul calls indian swaraj calls for chinese polls\n",
      "summa : BJP National Secretary Rahul Sinha on Wednesday asked the party workers in West Bengal to come armed with sticks to PM Narendra Modi's rally in the state on February 2.\n",
      "===========\n",
      "\n",
      "\n",
      "원문 : BJP President Amit Shah on Wednesday took a dig at the Opposition parties saying that the 'mahagathbandhan' for the Opposition is 4B - \"Bua-Bhatija-Bhai-Behen\". He added that 4B for the BJP meant \"Badhta Bharat, Banta Bharat\". He said Opposition's government cannot take the country ahead and \"only Modiji can provide a 'mazboot' (strong) government\".\n",
      "---------\n",
      "실제 요약 : '4B' for Opposition is 'Bua-Bhatija-Bhai-Behen': Amit Shah\n",
      "seq2seq :  saudi arabia bans women from women\n",
      "summa : BJP President Amit Shah on Wednesday took a dig at the Opposition parties saying that the 'mahagathbandhan' for the Opposition is 4B - \"Bua-Bhatija-Bhai-Behen\".\n",
      "===========\n",
      "\n",
      "\n",
      "원문 : German automaker Volkswagen Group has retained the car industry's top spot in global sales, beating its Japanese rival Toyota. Volkswagen's sales, including its MAN and Scania heavy trucks and buses, rose 0.9% to 10.83 million in 2018, the company had said. Toyota came second with around 10.6 million deliveries, including its affiliated brands Daihatsu and Hino, in 2018.\n",
      "---------\n",
      "실제 요약 : Volkswagen retains top spot in global sales, beats Toyota\n",
      "seq2seq :  nasa shares video of mars mission\n",
      "summa : Volkswagen's sales, including its MAN and Scania heavy trucks and buses, rose 0.9% to 10.83 million in 2018, the company had said.\n",
      "===========\n",
      "\n",
      "\n",
      "원문 : Ousted Nissan Chairman Carlos Ghosn has said his arrest over alleged financial misconduct was led by \"plot and treason\" by the Japanese carmaker's executives who opposed its deeper integration with Renault and Mitsubishi. Ghosn added he had discussed the integration plans with Nissan's CEO in September, a month before his arrest. He further said he wouldn't flee if granted bail.\n",
      "---------\n",
      "실제 요약 : Plot, treason by Nissan executives led to my arrest: Ghosn\n",
      "seq2seq :  musk boring company boring company raises million\n",
      "summa : Ousted Nissan Chairman Carlos Ghosn has said his arrest over alleged financial misconduct was led by \"plot and treason\" by the Japanese carmaker's executives who opposed its deeper integration with Renault and Mitsubishi.\n",
      "===========\n",
      "\n",
      "\n",
      "원문 : The government has cut down customs duty on import of parts and components for electric vehicles to 10-15%, down from the previous 15-30%. The Central Board of Indirect Taxes and Customs said disassembled parts will attract 10% duty, whereas 15% will be levied on pre-assembled packs. However, fully built electric vehicles will continue to attract 25% import duty.\n",
      "---------\n",
      "실제 요약 : Govt cuts customs duty on electric vehicle parts to 10-15%\n",
      "seq2seq :  hardik pandya takes hardik pandya\n",
      "summa : The government has cut down customs duty on import of parts and components for electric vehicles to 10-15%, down from the previous 15-30%.\n",
      "===========\n",
      "\n",
      "\n",
      "원문 : Government officials on Wednesday said that a swine flu outbreak has killed 76 people this year in Rajasthan. Colder weather has worsened the seasonal outbreak of the H1N1 virus in the country, officials added. Rajasthan recorded more than a third of all swine flu deaths in India with Jodhpur being the worst affected area in the state, officials said.\n",
      "---------\n",
      "실제 요약 : Swine flu outbreak kills 76 in Rajasthan\n",
      "seq2seq :  us to ban on syria on russia\n",
      "summa : Government officials on Wednesday said that a swine flu outbreak has killed 76 people this year in Rajasthan.\n",
      "===========\n",
      "\n",
      "\n",
      "원문 : North Korea is \"unlikely to completely give up its nuclear weapons and production capabilities\", Director of US' National Intelligence, Daniel Coats, said. \"North Korean leaders view nuclear arms as critical to regime survival,\" he added. His statements come despite North Korea's agreement with the US at the Singapore summit last year to denuclearise the Korean Peninsula. \n",
      "---------\n",
      "실제 요약 : N Korea unlikely to give up nuclear weapons: US intelligence chief\n",
      "seq2seq :  us airline staff suspended for woman\n",
      "summa : \"North Korean leaders view nuclear arms as critical to regime survival,\" he added.\n",
      "===========\n",
      "\n",
      "\n",
      "원문 : Jet Airways on Wednesday denied it was directed by GE Capital Aviation Services to ground its aircraft due to non-payment of dues. The airline said it's in the process of delivering three aircraft to lessors due to the expiry of lease terms. Further, three aircraft have been temporarily grounded to carry out an engine normalisation exercise, it added.\n",
      "---------\n",
      "실제 요약 : Jet Airways denies being told to ground aircraft\n",
      "seq2seq :  video of student student in up school\n",
      "summa : Further, three aircraft have been temporarily grounded to carry out an engine normalisation exercise, it added.\n",
      "===========\n",
      "\n",
      "\n",
      "원문 : Retired Justice Srikrishna's enquiry panel has found that ex-CEO Chanda Kochhar violated ICICI Bank's code of conduct. The bank said it'll treat Kochhar's exit as termination and will take back all bonuses paid to her from April 2009 until March 2018. The CBI recently filed a case against Kochhar, her husband, and Videocon MD in the ICICI-Videocon loan case.\n",
      "---------\n",
      "실제 요약 : ICICI fires Chanda Kochhar, to take back bonuses paid in last 9 yrs\n",
      "seq2seq :  sc to hear plea to hear plea for justice\n",
      "summa : Retired Justice Srikrishna's enquiry panel has found that ex-CEO Chanda Kochhar violated ICICI Bank's code of conduct.\n",
      "===========\n",
      "\n",
      "\n",
      "원문 : Ex-India cricketer Jacob Martin has been shifted to general ward from the ICU after being on a ventilator for nearly a month following a road accident, wherein he severely injured his lungs. Martin's wife Khyati mentioned there are chances that Jacob will be in hospital for two more months. BCCI, CSK and various cricketers provided financial assistance for Martin's treatment.\n",
      "---------\n",
      "실제 요약 : Ex-cricketer Martin out of ICU after being on ventilator for a month\n",
      "seq2seq :  us court orders probe to remove ex settle victim\n",
      "summa : Ex-India cricketer Jacob Martin has been shifted to general ward from the ICU after being on a ventilator for nearly a month following a road accident, wherein he severely injured his lungs.\n",
      "===========\n",
      "\n",
      "\n",
      "원문 : Sri Lanka all-rounder Thisara Perera has written to Sri Lanka Cricket CEO Ashley de Silva, asking the board to intervene after ODI captain Lasith Malinga's wife Tanya targeted him on Facebook. Tanya accused Perera of meeting country's Sports Minister to secure his place in the team. \"We've become laughing stock of whole country...because of one person's personal vendetta,\" Perera wrote.\n",
      "---------\n",
      "실제 요약 : Malinga's wife targets Perera on Facebook, he seeks board's help\n",
      "seq2seq :  year old star in oldest film\n",
      "summa : Tanya accused Perera of meeting country's Sports Minister to secure his place in the team.\n",
      "===========\n",
      "\n",
      "\n",
      "원문 : Goa CM and ex-Defence Minister Manohar Parrikar has written a letter to Congress President Rahul Gandhi over his claim that Parrikar told him he has nothing to do with new Rafale deal. Parrikar wrote, \"Kindly do not use your visit to an ailing person to feed political opportunism.\" In their five-minute meeting, they didn't discuss anything about Rafale, he added.\n",
      "---------\n",
      "실제 요약 : Don't use visit to ailing man for political gains: Goa CM to Rahul\n",
      "seq2seq :  will not be in politics if it does not work\n",
      "summa : Goa CM and ex-Defence Minister Manohar Parrikar has written a letter to Congress President Rahul Gandhi over his claim that Parrikar told him he has nothing to do with new Rafale deal.\n",
      "===========\n",
      "\n",
      "\n",
      "원문 : Prime Minister Narendra Modi stopped his speech at the inauguration of the new terminal building at Surat airport after observing that a cameraman had fainted. PM Modi then asked his officers to urgently arrange for an ambulance for the cameraman. \"It's good that PM was paying attention to his surroundings during his speech,\" the cameraman later said from a hospital. \n",
      "---------\n",
      "실제 요약 : PM Modi stops speech after cameraman faints, asks officers to help\n",
      "seq2seq :  nasa launches new trailer of the world cup\n",
      "summa : PM Modi then asked his officers to urgently arrange for an ambulance for the cameraman.\n",
      "===========\n",
      "\n",
      "\n",
      "원문 : A couple got divorced minutes after their wedding ceremony got over in Gujarat's Gondal as a disagreement broke out and relatives from both sides started throwing dishes at each other during lunch. The advocates representing both sides arrived at the marriage hall and got the couple divorced within minutes. The couple even reportedly returned the gifts exchanged during the ceremony.\n",
      "---------\n",
      "실제 요약 : Couple divorces minutes after marriage as families fight over lunch\n",
      "seq2seq :  google to shut down after years\n",
      "summa : A couple got divorced minutes after their wedding ceremony got over in Gujarat's Gondal as a disagreement broke out and relatives from both sides started throwing dishes at each other during lunch.\n",
      "===========\n",
      "\n",
      "\n",
      "원문 : Gujarat Education Minister Bhupendrasinh Chudasma has written a congratulatory message to a yoga ashram run by rape-convict Asaram's organisation for observing February 14 as \"Matru-Pitru Pujan Divas\" (Mother-Father worship day). After the Congress termed the letter as \"unfortunate\", saying it \"shows the nexus between BJP and godman\", Chudasma clarified, \"All I have done is sent best wishes.\" \n",
      "---------\n",
      "실제 요약 : Minister praises rape-convict Asaram over Matru-Pitru Divas\n",
      "seq2seq :  sex abuse of child sex in\n",
      "summa : Gujarat Education Minister Bhupendrasinh Chudasma has written a congratulatory message to a yoga ashram run by rape-convict Asaram's organisation for observing February 14 as \"Matru-Pitru Pujan Divas\" (Mother-Father worship day).\n",
      "===========\n",
      "\n",
      "\n",
      "원문 : Venezuelan President NicolÃÂ¡s Maduro has claimed that his American counterpart Donald Trump ordered the Colombian government and the Colombian mafia to kill him. \"If something happens to me, Trump and Colombian President IvÃÂ¡n MÃÂ¡rquez will bear responsibility,\" he added. The US has blamed Maduro for the economic crisis in Venezuela and recognised opposition leader Juan GuaidÃÂ³ as interim President.\n",
      "---------\n",
      "실제 요약 : Trump ordered to kill me: Venezuela President Maduro\n",
      "seq2seq :  indian origin found dead in ias officer\n",
      "summa : Venezuelan President NicolÃÂ¡s Maduro has claimed that his American counterpart Donald Trump ordered the Colombian government and the Colombian mafia to kill him.\n",
      "===========\n",
      "\n",
      "\n",
      "원문 : Eight Asian billionaires aged 90 or above on the Bloomberg Billionaires Index of world's 500 richest people have a combined net worth of $125 billion. The richest among them is Hong Kong's Li Ka Shing with a net worth of $30.5 billion. India's 90-year-old Pallonji Mistry, who controls 18.3% of Tata Sons through Shapoorji Pallonji Group, is worth $20.1 billion.\n",
      "---------\n",
      "실제 요약 : 8 Asian billionaires aged over 90, including Mistry, control $125bn\n",
      "seq2seq :  gst returns to return to gst from gujarat\n",
      "summa : The richest among them is Hong Kong's Li Ka Shing with a net worth of $30.5 billion.\n",
      "===========\n",
      "\n",
      "\n",
      "원문 : Tamil Nadu food safety officials on Wednesday raided and seized 1,000 kgs of banned plastic items from Hotel Saravana Bhavan in Chennai's Vadapalani. Officials began a surprise check in the branch at 8 am. The state government had banned single-use plastics from January 1 and said the banned items should be handed over at the offices of the city corporation.\n",
      "---------\n",
      "실제 요약 : 1,000 kg banned plastic seized from Saravana Bhavan in Chennai\n",
      "seq2seq :  will not be used for its own oil minister\n",
      "summa : Tamil Nadu food safety officials on Wednesday raided and seized 1,000 kgs of banned plastic items from Hotel Saravana Bhavan in Chennai's Vadapalani.\n",
      "===========\n",
      "\n",
      "\n",
      "원문 : Actress Shamita Shetty was verbally abused and her driver was slapped in an incident of road rage in Mumbai on Tuesday, as per reports. The incident reportedly took place after a motorist who was accompanied by two friends, rammed his vehicle into Shamita's car. The men allegedly manhandled and threatened Shamita's driver when he stepped out to inspect the damage. \n",
      "---------\n",
      "실제 요약 : Shamita Shetty abused, driver slapped after accident: Report\n",
      "seq2seq :  ex ex world no ex ex ex ex ex england\n",
      "summa : Actress Shamita Shetty was verbally abused and her driver was slapped in an incident of road rage in Mumbai on Tuesday, as per reports.\n",
      "===========\n",
      "\n",
      "\n",
      "원문 : Actress Vaani Kapoor said that trolling has become a norm on social media, adding, \"There's no one who hasn't got trolled on social media.\" \"Everybody is out there to pull the other person down but it'll only bother [you] if you let it bother you,\" Vaani added. She further said, social media offers a platform \"where people enjoy belittling everybody\". \n",
      "---------\n",
      "실제 요약 : Trolling has become the norm on social media: Vaani\n",
      "seq2seq :  cannot be mandatory for aadhaar in india uidai\n",
      "summa : \n",
      "===========\n",
      "\n",
      "\n",
      "원문 : Actress Sushmita Sen took to Instagram to share a joke on the subject of marriage. \"Whoever invented marriage was creepy as hell. Like I love you so much IÃ¢ÂÂm gonna get the government involved so you canÃ¢ÂÂt leave,\" Sushmita's post read. \"This is an insult to [the] beauty of marriage,\" an Instagram user commented on her post.\n",
      "---------\n",
      "실제 요약 : Whoever invented marriage was creepy as hell: Sushmita posts joke\n",
      "seq2seq :  salman khan is not playing film\n",
      "summa : \"This is an insult to [the] beauty of marriage,\" an Instagram user commented on her post.\n",
      "===========\n",
      "\n",
      "\n",
      "원문 : Television actor Karanvir Bohra, who flew to Russia on Tuesday to attend a film festival, has been detained in Moscow due to passport damage. \"They [are] contemplating to deport me back to India,\" the actor wrote on Twitter. The Indian embassy in Russia's capital responded to his tweet and said that they were looking into the issue. \n",
      "---------\n",
      "실제 요약 : Actor Karanvir Bohra detained in Russia over passport damage\n",
      "seq2seq :  minister to get visa minister\n",
      "summa : Television actor Karanvir Bohra, who flew to Russia on Tuesday to attend a film festival, has been detained in Moscow due to passport damage.\n",
      "===========\n",
      "\n",
      "\n",
      "원문 : While speaking about winning awards for his films, Shah Rukh Khan said, \"If I don't get an award, that award is at a loss.\" \"Sometimes, the prestige of an award increases when I receive it,\" the actor jokingly added. Shah Rukh further said that he was \"extremely ambitious\" but in a \"fair manner\". \n",
      "---------\n",
      "실제 요약 : If I don't get an award, that award is at loss: SRK\n",
      "seq2seq :  china to get world biggest\n",
      "summa : While speaking about winning awards for his films, Shah Rukh Khan said, \"If I don't get an award, that award is at a loss.\" \"Sometimes, the prestige of an award increases when I receive it,\" the actor jokingly added.\n",
      "===========\n",
      "\n",
      "\n",
      "원문 : Actress Patralekhaa will make her debut in the Kannada film industry with the action-comedy film 'Where is my Kannadaka?' \"I can definitely say that itÃ¢ÂÂs a kind of role that I havenÃ¢ÂÂt portrayed on screen so far and that makes it special for me,\" the actress said in a statement. Shooting for the film will reportedly begin in April.\n",
      "---------\n",
      "실제 요약 : Actress Patralekhaa to make her Kannada film debut \n",
      "seq2seq :  twitter reacts to user khan tweet on twitter\n",
      "summa : \n",
      "===========\n",
      "\n",
      "\n",
      "원문 : Gmail on Tuesday faced a global outage, which also affected India, wherein certain users complained they faced a '404 error' message while trying to sign-in to their accounts. The error message read: \"The requested URL was not found on this server. That's all we know.\" Google responded saying \"problem with Gmail should be resolved (now). We apologise for the inconvenience\".\n",
      "---------\n",
      "실제 요약 : Gmail faces temporary global outage, users face '404 error'\n",
      "seq2seq :  world no nadal wins his career no nadal\n",
      "summa : Gmail on Tuesday faced a global outage, which also affected India, wherein certain users complained they faced a '404 error' message while trying to sign-in to their accounts.\n",
      "===========\n",
      "\n",
      "\n",
      "원문 : Shiv Sena chief Uddhav Thackeray has asked the BJP to decide about the alliance with the Sena within 15 days and said the BJP should make a concrete proposal on the alliance. Thackeray added that only if the BJP agrees to Sena's terms and conditions, the party will agree for an alliance. Sena is free to fight independently, he said. \n",
      "---------\n",
      "실제 요약 : Decide about an alliance within 15 days: Uddhav to BJP\n",
      "seq2seq :  mother of mother arrested for selling mother\n",
      "summa : Shiv Sena chief Uddhav Thackeray has asked the BJP to decide about the alliance with the Sena within 15 days and said the BJP should make a concrete proposal on the alliance.\n",
      "===========\n",
      "\n",
      "\n",
      "원문 : BJP President Amit Shah on Wednesday took a dig at the Opposition's proposed grand alliance saying if the \"mahagathbandhan comes to power, each opposition leader will be a Prime Minister every day of the week\". He added, \"[The] country will go on...holiday on Sunday\". He said the Opposition is thinking about leading the country but does not have a leader.\n",
      "---------\n",
      "실제 요약 : Grand alliance, if wins, will see a new PM every day: Shah\n",
      "seq2seq :  ex husband claims he will never be ex husband\n",
      "summa : He said the Opposition is thinking about leading the country but does not have a leader.\n",
      "===========\n",
      "\n",
      "\n",
      "원문 : Prime Minister Narendra Modi on Wednesday said his government's demonetisation decision made houses affordable for the aspiring youth. He added decisions like demonetisation and RERA have put a check on black money that used to be \"parked in the real estate sector\". He said 'UDAN' (Ude Desh ka Aam Nagrik) scheme has boosted the development of the country's aviation sector.\n",
      "---------\n",
      "실제 요약 : Demonetisation made homes affordable for youth: PM Modi\n",
      "seq2seq :  bjp mla calls for remark on her remark\n",
      "summa : He added decisions like demonetisation and RERA have put a check on black money that used to be \"parked in the real estate sector\".\n",
      "===========\n",
      "\n",
      "\n"
     ]
    }
   ],
   "source": [
    "for i in range(50,100):\n",
    "    sentence = file.loc[i, 'text']\n",
    "    print(\"원문 :\", sentence)\n",
    "    print('---------')\n",
    "    print(\"실제 요약 :\", file.loc[i, 'headlines'])\n",
    "    print(\"seq2seq :\", decode_sequence(encoder_input_test[i].reshape(1, text_max_len)))\n",
    "    print(\"summa :\", summarize(sentence, words=20))\n",
    "    print('===========')\n",
    "    print(\"\\n\")\n"
   ]
  },
  {
   "cell_type": "markdown",
   "id": "37c58000",
   "metadata": {},
   "source": [
    "## 회고\n",
    "\n",
    "### 서론 \n",
    "1. seq2seq에 알맞은 입력을 만들어주기 위해 데이터 전처리를 하였다.\n",
    "2. 다음 attention을 적용한 seq2seq 모델을 만들고 전처리를 한 데이터를 활용해 훈련을 진행했다.\n",
    "3. seq2seq에서는 교사강요라는 방법을 활용하기 때문에 인퍼런스용 모델을 별도로 구성하여 headline을 뽑아내는 과정을 진행하였다.\n",
    "\n",
    "### 배운 점 및 회고 \n",
    "솔직히 seq2seq를 통해 headline을 뽑아낸 결과가 썩 좋아보이지는 않았다. 아마도 노드에서 진행했던것보다 데이터의 수가 크게 늘지는 않았는데 더 다양한 단어를 포함해서 그런게 아닐까 싶다. 시간이 더 많아서 다양한 실험을 해보면 좋았을 것 같다.\n",
    "recurrent_dropout을 적용해 보거나, encoder쪽의 rnn 층을 조절해보는 방식, 혹은 word벡터의 dimension이나 hidden_state, cell_state의 차원을 높이는 식으로 실험을 더 해보면 좋을것 같다.\n",
    "\n"
   ]
  },
  {
   "cell_type": "code",
   "execution_count": null,
   "id": "943b0b2b",
   "metadata": {},
   "outputs": [],
   "source": []
  }
 ],
 "metadata": {
  "kernelspec": {
   "display_name": "Python 3 (ipykernel)",
   "language": "python",
   "name": "python3"
  },
  "language_info": {
   "codemirror_mode": {
    "name": "ipython",
    "version": 3
   },
   "file_extension": ".py",
   "mimetype": "text/x-python",
   "name": "python",
   "nbconvert_exporter": "python",
   "pygments_lexer": "ipython3",
   "version": "3.9.7"
  }
 },
 "nbformat": 4,
 "nbformat_minor": 5
}
