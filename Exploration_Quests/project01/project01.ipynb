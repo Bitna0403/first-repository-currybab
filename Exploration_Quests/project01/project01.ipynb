{
 "cells": [
  {
   "cell_type": "markdown",
   "id": "0f5c9b3d",
   "metadata": {},
   "source": [
    "# 프로젝트 1: 손수 설계하는 선형회귀, 당뇨병 수치를 맞춰보자!"
   ]
  },
  {
   "cell_type": "markdown",
   "id": "944e858c",
   "metadata": {},
   "source": [
    "## (1) 데이터 가져오기\n",
    "- `sklearn.datasets`의 `load_diabetes`에서 데이터를 가져와주세요.\n",
    "- `diabetes`의 `data`를 `df_X`에, `target`을 `df_y`에 저장해주세요."
   ]
  },
  {
   "cell_type": "code",
   "execution_count": 1,
   "id": "1e069540",
   "metadata": {},
   "outputs": [
    {
     "data": {
      "text/html": [
       "<div>\n",
       "<style scoped>\n",
       "    .dataframe tbody tr th:only-of-type {\n",
       "        vertical-align: middle;\n",
       "    }\n",
       "\n",
       "    .dataframe tbody tr th {\n",
       "        vertical-align: top;\n",
       "    }\n",
       "\n",
       "    .dataframe thead th {\n",
       "        text-align: right;\n",
       "    }\n",
       "</style>\n",
       "<table border=\"1\" class=\"dataframe\">\n",
       "  <thead>\n",
       "    <tr style=\"text-align: right;\">\n",
       "      <th></th>\n",
       "      <th>age</th>\n",
       "      <th>sex</th>\n",
       "      <th>bmi</th>\n",
       "      <th>bp</th>\n",
       "      <th>s1</th>\n",
       "      <th>s2</th>\n",
       "      <th>s3</th>\n",
       "      <th>s4</th>\n",
       "      <th>s5</th>\n",
       "      <th>s6</th>\n",
       "    </tr>\n",
       "  </thead>\n",
       "  <tbody>\n",
       "    <tr>\n",
       "      <th>0</th>\n",
       "      <td>0.038076</td>\n",
       "      <td>0.050680</td>\n",
       "      <td>0.061696</td>\n",
       "      <td>0.021872</td>\n",
       "      <td>-0.044223</td>\n",
       "      <td>-0.034821</td>\n",
       "      <td>-0.043401</td>\n",
       "      <td>-0.002592</td>\n",
       "      <td>0.019908</td>\n",
       "      <td>-0.017646</td>\n",
       "    </tr>\n",
       "    <tr>\n",
       "      <th>1</th>\n",
       "      <td>-0.001882</td>\n",
       "      <td>-0.044642</td>\n",
       "      <td>-0.051474</td>\n",
       "      <td>-0.026328</td>\n",
       "      <td>-0.008449</td>\n",
       "      <td>-0.019163</td>\n",
       "      <td>0.074412</td>\n",
       "      <td>-0.039493</td>\n",
       "      <td>-0.068330</td>\n",
       "      <td>-0.092204</td>\n",
       "    </tr>\n",
       "    <tr>\n",
       "      <th>2</th>\n",
       "      <td>0.085299</td>\n",
       "      <td>0.050680</td>\n",
       "      <td>0.044451</td>\n",
       "      <td>-0.005671</td>\n",
       "      <td>-0.045599</td>\n",
       "      <td>-0.034194</td>\n",
       "      <td>-0.032356</td>\n",
       "      <td>-0.002592</td>\n",
       "      <td>0.002864</td>\n",
       "      <td>-0.025930</td>\n",
       "    </tr>\n",
       "    <tr>\n",
       "      <th>3</th>\n",
       "      <td>-0.089063</td>\n",
       "      <td>-0.044642</td>\n",
       "      <td>-0.011595</td>\n",
       "      <td>-0.036656</td>\n",
       "      <td>0.012191</td>\n",
       "      <td>0.024991</td>\n",
       "      <td>-0.036038</td>\n",
       "      <td>0.034309</td>\n",
       "      <td>0.022692</td>\n",
       "      <td>-0.009362</td>\n",
       "    </tr>\n",
       "    <tr>\n",
       "      <th>4</th>\n",
       "      <td>0.005383</td>\n",
       "      <td>-0.044642</td>\n",
       "      <td>-0.036385</td>\n",
       "      <td>0.021872</td>\n",
       "      <td>0.003935</td>\n",
       "      <td>0.015596</td>\n",
       "      <td>0.008142</td>\n",
       "      <td>-0.002592</td>\n",
       "      <td>-0.031991</td>\n",
       "      <td>-0.046641</td>\n",
       "    </tr>\n",
       "  </tbody>\n",
       "</table>\n",
       "</div>"
      ],
      "text/plain": [
       "        age       sex       bmi        bp        s1        s2        s3  \\\n",
       "0  0.038076  0.050680  0.061696  0.021872 -0.044223 -0.034821 -0.043401   \n",
       "1 -0.001882 -0.044642 -0.051474 -0.026328 -0.008449 -0.019163  0.074412   \n",
       "2  0.085299  0.050680  0.044451 -0.005671 -0.045599 -0.034194 -0.032356   \n",
       "3 -0.089063 -0.044642 -0.011595 -0.036656  0.012191  0.024991 -0.036038   \n",
       "4  0.005383 -0.044642 -0.036385  0.021872  0.003935  0.015596  0.008142   \n",
       "\n",
       "         s4        s5        s6  \n",
       "0 -0.002592  0.019908 -0.017646  \n",
       "1 -0.039493 -0.068330 -0.092204  \n",
       "2 -0.002592  0.002864 -0.025930  \n",
       "3  0.034309  0.022692 -0.009362  \n",
       "4 -0.002592 -0.031991 -0.046641  "
      ]
     },
     "execution_count": 1,
     "metadata": {},
     "output_type": "execute_result"
    }
   ],
   "source": [
    "import numpy as np\n",
    "from sklearn.datasets import load_diabetes\n",
    "\n",
    "diabetes = load_diabetes(as_frame=True)\n",
    "df_X = diabetes.data\n",
    "df_y = diabetes.target\n",
    "df_X.head()"
   ]
  },
  {
   "cell_type": "markdown",
   "id": "76c9fc31",
   "metadata": {},
   "source": [
    "## (2) 모델에 입력할 데이터 X 준비하기\n",
    "- `df_X`에 있는 값들을 numpy array로 변환해서 저장해주세요."
   ]
  },
  {
   "cell_type": "code",
   "execution_count": 2,
   "id": "facba0bb",
   "metadata": {},
   "outputs": [
    {
     "name": "stdout",
     "output_type": "stream",
     "text": [
      "<class 'numpy.ndarray'> (442, 10)\n"
     ]
    }
   ],
   "source": [
    "X = df_X.values\n",
    "print(type(X), X.shape)"
   ]
  },
  {
   "cell_type": "markdown",
   "id": "44155498",
   "metadata": {},
   "source": [
    "## (3) 모델에 입력할 데이터 y 준비하기\n",
    "- `df_y`에 있는 값들을 numpy array로 변환해서 저장해주세요."
   ]
  },
  {
   "cell_type": "code",
   "execution_count": 3,
   "id": "84274e0b",
   "metadata": {},
   "outputs": [
    {
     "name": "stdout",
     "output_type": "stream",
     "text": [
      "<class 'numpy.ndarray'> (442,)\n"
     ]
    }
   ],
   "source": [
    "y = df_y.values\n",
    "print(type(y), y.shape)"
   ]
  },
  {
   "cell_type": "markdown",
   "id": "08186f61",
   "metadata": {},
   "source": [
    "## (4) train 데이터와 test 데이터로 분리하기\n",
    "- X와 y 데이터를 각각 train 데이터와 test 데이터로 분리해주세요."
   ]
  },
  {
   "cell_type": "code",
   "execution_count": 4,
   "id": "a5c14adf",
   "metadata": {},
   "outputs": [
    {
     "name": "stdout",
     "output_type": "stream",
     "text": [
      "(331, 10) (331,)\n",
      "(111, 10) (111,)\n"
     ]
    }
   ],
   "source": [
    "from sklearn.model_selection import train_test_split\n",
    "\n",
    "X_train, X_test, y_train, y_test = train_test_split(X, y, random_state=42)\n",
    "print(X_train.shape, y_train.shape)\n",
    "print(X_test.shape, y_test.shape)"
   ]
  },
  {
   "cell_type": "markdown",
   "id": "a3096f32",
   "metadata": {},
   "source": [
    "## (5) 모델 준비하기\n",
    "- 입력 데이터 개수에 맞는 가중치 W와 b를 준비해주세요.\n",
    "- 모델 함수를 구현해주세요."
   ]
  },
  {
   "cell_type": "code",
   "execution_count": 5,
   "id": "4d6a988e",
   "metadata": {},
   "outputs": [
    {
     "name": "stdout",
     "output_type": "stream",
     "text": [
      "(10,) 0.020584494295802447\n"
     ]
    }
   ],
   "source": [
    "np.random.seed(42)\n",
    "W = np.random.rand(10)\n",
    "b = np.random.rand()\n",
    "\n",
    "print(W.shape, b)"
   ]
  },
  {
   "cell_type": "code",
   "execution_count": 6,
   "id": "b39b4014",
   "metadata": {},
   "outputs": [],
   "source": [
    "def predict(X, W, b):\n",
    "    return np.dot(X, W) + b"
   ]
  },
  {
   "cell_type": "markdown",
   "id": "889e8b20",
   "metadata": {},
   "source": [
    "## (6) 손실함수 loss 정의하기\n",
    "- 손실함수를 MSE 함수로 정의해주세요."
   ]
  },
  {
   "cell_type": "code",
   "execution_count": 7,
   "id": "3462870f",
   "metadata": {},
   "outputs": [],
   "source": [
    "def loss(X, W, b, y):\n",
    "    predictions = predict(X, W, b)\n",
    "    return ((predictions - y) ** 2).mean()"
   ]
  },
  {
   "cell_type": "markdown",
   "id": "ecbda9d9",
   "metadata": {},
   "source": [
    "## (7) 기울기를 구하는 gradient 함수 구현하기\n",
    "- 기울기를 계산하는 gradient 함수를 구현해주세요."
   ]
  },
  {
   "cell_type": "code",
   "execution_count": 8,
   "id": "11c0828f",
   "metadata": {},
   "outputs": [],
   "source": [
    "def gradient(X, W, b, y):\n",
    "    N = len(y)\n",
    "    predictions = predict(X, W, b)\n",
    "    dW = 1 / N * 2 * X.T.dot(predictions - y)\n",
    "    db = 2 * (predictions - y).mean()\n",
    "    return dW, db\n",
    "    "
   ]
  },
  {
   "cell_type": "markdown",
   "id": "9b4e2697",
   "metadata": {},
   "source": [
    "## (8) 하이퍼 파라미터인 학습률 설정하기\n",
    "- 학습률, learning rate 를 설정해주세요\n",
    "- 만약 학습이 잘 되지 않는다면 learning rate 값을 한번 여러 가지로 설정하며 실험해 보세요."
   ]
  },
  {
   "cell_type": "code",
   "execution_count": 9,
   "id": "121ea720",
   "metadata": {},
   "outputs": [],
   "source": [
    "learning_rate = 0.01"
   ]
  },
  {
   "cell_type": "markdown",
   "id": "c5efbe01",
   "metadata": {},
   "source": [
    "## (9) 모델 학습하기\n",
    "- 정의된 손실함수와 기울기 함수로 모델을 학습해주세요.\n",
    "- loss값이 충분히 떨어질 때까지 학습을 진행해주세요.\n",
    "- 입력하는 데이터인 X에 들어가는 특성 컬럼들을 몇 개 빼도 괜찮습니다. 다양한 데이터로 실험해 보세요."
   ]
  },
  {
   "cell_type": "code",
   "execution_count": 10,
   "id": "ac4560a8",
   "metadata": {},
   "outputs": [
    {
     "name": "stdout",
     "output_type": "stream",
     "text": [
      "1000 epoch - train loss: 5372.81\n",
      "2000 epoch - train loss: 4889.71\n",
      "3000 epoch - train loss: 4528.54\n",
      "4000 epoch - train loss: 4254.94\n",
      "5000 epoch - train loss: 4044.63\n",
      "6000 epoch - train loss: 3880.45\n",
      "7000 epoch - train loss: 3750.18\n",
      "8000 epoch - train loss: 3645.12\n",
      "9000 epoch - train loss: 3559.03\n",
      "10000 epoch - train loss: 3487.43\n",
      "11000 epoch - train loss: 3427.04\n",
      "12000 epoch - train loss: 3375.47\n",
      "13000 epoch - train loss: 3330.95\n",
      "14000 epoch - train loss: 3292.16\n",
      "15000 epoch - train loss: 3258.08\n",
      "16000 epoch - train loss: 3227.95\n",
      "17000 epoch - train loss: 3201.16\n",
      "18000 epoch - train loss: 3177.23\n",
      "19000 epoch - train loss: 3155.78\n",
      "20000 epoch - train loss: 3136.48\n",
      "21000 epoch - train loss: 3119.09\n",
      "22000 epoch - train loss: 3103.37\n",
      "23000 epoch - train loss: 3089.13\n",
      "24000 epoch - train loss: 3076.23\n",
      "25000 epoch - train loss: 3064.52\n",
      "26000 epoch - train loss: 3053.87\n",
      "27000 epoch - train loss: 3044.19\n",
      "28000 epoch - train loss: 3035.36\n",
      "29000 epoch - train loss: 3027.32\n",
      "30000 epoch - train loss: 3019.99\n",
      "31000 epoch - train loss: 3013.29\n",
      "32000 epoch - train loss: 3007.17\n",
      "33000 epoch - train loss: 3001.57\n",
      "34000 epoch - train loss: 2996.45\n",
      "35000 epoch - train loss: 2991.77\n"
     ]
    }
   ],
   "source": [
    "losses1 = []\n",
    "ilist = []\n",
    "for i in range(1, 35001):\n",
    "    l = loss(X_train, W, b, y_train)\n",
    "    dW, db = gradient(X_train, W, b, y_train)\n",
    "    W -= learning_rate * dW\n",
    "    b -= learning_rate * db\n",
    "    losses1.append(l)\n",
    "    ilist.append(i)\n",
    "    if i % 1000 == 0:\n",
    "        print(f\"{i} epoch - train loss: {l:.02f}\")\n",
    "    "
   ]
  },
  {
   "cell_type": "code",
   "execution_count": 11,
   "id": "71faa778",
   "metadata": {},
   "outputs": [
    {
     "name": "stdout",
     "output_type": "stream",
     "text": [
      "1000 epoch - train loss: 6387.34\n",
      "2000 epoch - train loss: 5886.55\n",
      "3000 epoch - train loss: 5808.43\n",
      "4000 epoch - train loss: 5740.13\n",
      "5000 epoch - train loss: 5674.04\n",
      "6000 epoch - train loss: 5609.96\n",
      "7000 epoch - train loss: 5547.81\n",
      "8000 epoch - train loss: 5487.53\n",
      "9000 epoch - train loss: 5429.06\n",
      "10000 epoch - train loss: 5372.34\n",
      "11000 epoch - train loss: 5317.31\n",
      "12000 epoch - train loss: 5263.91\n",
      "13000 epoch - train loss: 5212.09\n",
      "14000 epoch - train loss: 5161.80\n",
      "15000 epoch - train loss: 5112.98\n",
      "16000 epoch - train loss: 5065.59\n",
      "17000 epoch - train loss: 5019.58\n",
      "18000 epoch - train loss: 4974.91\n",
      "19000 epoch - train loss: 4931.52\n",
      "20000 epoch - train loss: 4889.39\n",
      "21000 epoch - train loss: 4848.46\n",
      "22000 epoch - train loss: 4808.70\n",
      "23000 epoch - train loss: 4770.06\n",
      "24000 epoch - train loss: 4732.53\n",
      "25000 epoch - train loss: 4696.04\n",
      "26000 epoch - train loss: 4660.58\n",
      "27000 epoch - train loss: 4626.11\n",
      "28000 epoch - train loss: 4592.60\n",
      "29000 epoch - train loss: 4560.01\n",
      "30000 epoch - train loss: 4528.32\n",
      "31000 epoch - train loss: 4497.49\n",
      "32000 epoch - train loss: 4467.51\n",
      "33000 epoch - train loss: 4438.33\n",
      "34000 epoch - train loss: 4409.95\n",
      "35000 epoch - train loss: 4382.32\n"
     ]
    }
   ],
   "source": [
    "np.random.seed(42)\n",
    "W2 = np.random.rand(10)\n",
    "b2 = np.random.rand()\n",
    "\n",
    "learning_rate2 = 0.001\n",
    "losses2 = []\n",
    "for i in range(1, 35001):\n",
    "    l = loss(X_train, W2, b2, y_train)\n",
    "    dW, db = gradient(X_train, W2, b2, y_train)\n",
    "    W2 -= learning_rate2 * dW\n",
    "    b2 -= learning_rate2 * db\n",
    "    losses2.append(l)\n",
    "    if i % 1000 == 0:\n",
    "        print(f\"{i} epoch - train loss: {l:.02f}\")"
   ]
  },
  {
   "cell_type": "code",
   "execution_count": 12,
   "id": "8e84c485",
   "metadata": {},
   "outputs": [
    {
     "name": "stdout",
     "output_type": "stream",
     "text": [
      "1000 epoch - train loss: 21990.44\n",
      "2000 epoch - train loss: 16716.64\n",
      "3000 epoch - train loss: 13179.22\n",
      "4000 epoch - train loss: 10805.66\n",
      "5000 epoch - train loss: 9212.25\n",
      "6000 epoch - train loss: 8141.76\n",
      "7000 epoch - train loss: 7421.78\n",
      "8000 epoch - train loss: 6936.76\n",
      "9000 epoch - train loss: 6609.23\n",
      "10000 epoch - train loss: 6387.27\n",
      "11000 epoch - train loss: 6236.09\n",
      "12000 epoch - train loss: 6132.35\n",
      "13000 epoch - train loss: 6060.42\n",
      "14000 epoch - train loss: 6009.82\n",
      "15000 epoch - train loss: 5973.53\n",
      "16000 epoch - train loss: 5946.83\n",
      "17000 epoch - train loss: 5926.56\n",
      "18000 epoch - train loss: 5910.63\n",
      "19000 epoch - train loss: 5897.59\n",
      "20000 epoch - train loss: 5886.51\n",
      "21000 epoch - train loss: 5876.75\n",
      "22000 epoch - train loss: 5867.88\n",
      "23000 epoch - train loss: 5859.61\n",
      "24000 epoch - train loss: 5851.76\n",
      "25000 epoch - train loss: 5844.19\n",
      "26000 epoch - train loss: 5836.81\n",
      "27000 epoch - train loss: 5829.57\n",
      "28000 epoch - train loss: 5822.44\n",
      "29000 epoch - train loss: 5815.38\n",
      "30000 epoch - train loss: 5808.37\n",
      "31000 epoch - train loss: 5801.41\n",
      "32000 epoch - train loss: 5794.49\n",
      "33000 epoch - train loss: 5787.60\n",
      "34000 epoch - train loss: 5780.74\n",
      "35000 epoch - train loss: 5773.91\n"
     ]
    }
   ],
   "source": [
    "np.random.seed(42)\n",
    "W3 = np.random.rand(10)\n",
    "b3 = np.random.rand()\n",
    "\n",
    "learning_rate3 = 0.0001\n",
    "losses3 = []\n",
    "for i in range(1, 35001):\n",
    "    l = loss(X_train, W3, b3, y_train)\n",
    "    dW, db = gradient(X_train, W3, b3, y_train)\n",
    "    W3 -= learning_rate3 * dW\n",
    "    b3 -= learning_rate3 * db\n",
    "    losses3.append(l)\n",
    "    if i % 1000 == 0:\n",
    "        print(f\"{i} epoch - train loss: {l:.02f}\")"
   ]
  },
  {
   "cell_type": "code",
   "execution_count": 17,
   "id": "027c8bb0",
   "metadata": {},
   "outputs": [
    {
     "data": {
      "text/plain": [
       "<matplotlib.legend.Legend at 0x7f39b7693c70>"
      ]
     },
     "execution_count": 17,
     "metadata": {},
     "output_type": "execute_result"
    },
    {
     "data": {
      "image/png": "[encoded data removed]",
      "text/plain": [
       "<Figure size 432x288 with 1 Axes>"
      ]
     },
     "metadata": {
      "needs_background": "light"
     },
     "output_type": "display_data"
    }
   ],
   "source": [
    "import matplotlib.pyplot as plt\n",
    "\n",
    "plt.plot(ilist, losses1, label=\"lr=0.01\")\n",
    "plt.plot(ilist, losses2, label=\"lr=0.001\")\n",
    "plt.plot(ilist, losses3, label=\"lr=0.0001\")\n",
    "plt.legend()"
   ]
  },
  {
   "cell_type": "markdown",
   "id": "16908b27",
   "metadata": {},
   "source": [
    "하이퍼 파라미터인 학습률이 일단 높을수록 빠르게 좋은 결과로 수렴하는것으로 보임"
   ]
  },
  {
   "cell_type": "code",
   "execution_count": 27,
   "id": "8d771561",
   "metadata": {},
   "outputs": [
    {
     "name": "stdout",
     "output_type": "stream",
     "text": [
      "1000 epoch - train loss: 5387.57\n",
      "2000 epoch - train loss: 4910.21\n",
      "3000 epoch - train loss: 4550.27\n",
      "4000 epoch - train loss: 4275.54\n",
      "5000 epoch - train loss: 4063.05\n",
      "6000 epoch - train loss: 3896.34\n",
      "7000 epoch - train loss: 3763.60\n",
      "8000 epoch - train loss: 3656.33\n",
      "9000 epoch - train loss: 3568.36\n",
      "10000 epoch - train loss: 3495.20\n",
      "11000 epoch - train loss: 3433.57\n",
      "12000 epoch - train loss: 3381.03\n",
      "13000 epoch - train loss: 3335.77\n",
      "14000 epoch - train loss: 3296.42\n",
      "15000 epoch - train loss: 3261.94\n",
      "16000 epoch - train loss: 3231.53\n",
      "17000 epoch - train loss: 3204.55\n",
      "18000 epoch - train loss: 3180.51\n",
      "19000 epoch - train loss: 3158.99\n",
      "20000 epoch - train loss: 3139.68\n",
      "21000 epoch - train loss: 3122.30\n",
      "22000 epoch - train loss: 3106.61\n",
      "23000 epoch - train loss: 3092.44\n",
      "24000 epoch - train loss: 3079.60\n",
      "25000 epoch - train loss: 3067.96\n",
      "26000 epoch - train loss: 3057.39\n",
      "27000 epoch - train loss: 3047.78\n",
      "28000 epoch - train loss: 3039.04\n",
      "29000 epoch - train loss: 3031.07\n",
      "30000 epoch - train loss: 3023.81\n",
      "31000 epoch - train loss: 3017.19\n",
      "32000 epoch - train loss: 3011.14\n",
      "33000 epoch - train loss: 3005.61\n",
      "34000 epoch - train loss: 3000.56\n",
      "35000 epoch - train loss: 2995.93\n"
     ]
    }
   ],
   "source": [
    "np.random.seed(42)\n",
    "W4 = np.random.rand(9)\n",
    "b4 = np.random.rand()\n",
    "\n",
    "for i in range(1, 35001):\n",
    "    l = loss(X_train[:, 1:], W4, b4, y_train)\n",
    "    dW, db = gradient(X_train[:, 1:], W4, b4, y_train)\n",
    "    W4 -= learning_rate * dW\n",
    "    b4 -= learning_rate * db\n",
    "    if i % 1000 == 0:\n",
    "        print(f\"{i} epoch - train loss: {l:.02f}\")"
   ]
  },
  {
   "cell_type": "markdown",
   "id": "799c9891",
   "metadata": {},
   "source": [
    "## (10) test 데이터에 대한 성능 확인하기\n",
    "- test 데이터에 대한 성능을 확인해주세요."
   ]
  },
  {
   "cell_type": "code",
   "execution_count": 14,
   "id": "78d00da5",
   "metadata": {},
   "outputs": [
    {
     "name": "stdout",
     "output_type": "stream",
     "text": [
      "test loss: 2810.269563510548\n"
     ]
    }
   ],
   "source": [
    "test_loss = loss(X_test, W, b, y_test)\n",
    "print(f\"test loss: {test_loss}\")"
   ]
  },
  {
   "cell_type": "markdown",
   "id": "40e48dc8",
   "metadata": {},
   "source": [
    "## (11) 정답 데이터와 예측한 데이터 시각화하기\n",
    "- x축에는 X 데이터의 첫 번째 컬럼을, y축에는 정답인 target 데이터를 넣어서 모델이 예측한 데이터를 시각화해 주세요."
   ]
  },
  {
   "cell_type": "code",
   "execution_count": 15,
   "id": "9379c196",
   "metadata": {},
   "outputs": [
    {
     "data": {
      "text/plain": [
       "<matplotlib.legend.Legend at 0x7f39b77636d0>"
      ]
     },
     "execution_count": 15,
     "metadata": {},
     "output_type": "execute_result"
    },
    {
     "data": {
      "image/png": "[encoded data removed]",
      "text/plain": [
       "<Figure size 432x288 with 1 Axes>"
      ]
     },
     "metadata": {
      "needs_background": "light"
     },
     "output_type": "display_data"
    }
   ],
   "source": [
    "import matplotlib.pyplot as plt\n",
    "\n",
    "y_predict = predict(X_test, W, b)\n",
    "plt.scatter(X_test[:, 0], y_test, label=\"y_test\")\n",
    "plt.scatter(X_test[:, 0], y_predict, color=\"red\", alpha=0.4, label=\"y_pred\")\n",
    "plt.legend()"
   ]
  },
  {
   "cell_type": "markdown",
   "id": "085921bc",
   "metadata": {},
   "source": [
    "비교적 예측치가 실제결과를 잘 나타내고 있음이 보임."
   ]
  },
  {
   "cell_type": "code",
   "execution_count": null,
   "id": "7f9f6dcb",
   "metadata": {},
   "outputs": [],
   "source": []
  }
 ],
 "metadata": {
  "kernelspec": {
   "display_name": "Python 3 (ipykernel)",
   "language": "python",
   "name": "python3"
  },
  "language_info": {
   "codemirror_mode": {
    "name": "ipython",
    "version": 3
   },
   "file_extension": ".py",
   "mimetype": "text/x-python",
   "name": "python",
   "nbconvert_exporter": "python",
   "pygments_lexer": "ipython3",
   "version": "3.9.7"
  }
 },
 "nbformat": 4,
 "nbformat_minor": 5
}
