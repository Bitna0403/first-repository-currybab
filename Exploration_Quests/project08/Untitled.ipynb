{
 "cells": [
  {
   "cell_type": "code",
   "execution_count": 1,
   "id": "4c31d639",
   "metadata": {},
   "outputs": [
    {
     "name": "stdout",
     "output_type": "stream",
     "text": [
      "1.3.3\n",
      "0.5.2\n",
      "4.1.2\n",
      "2.6.0\n"
     ]
    }
   ],
   "source": [
    "import pandas as pd\n",
    "import konlpy\n",
    "import gensim\n",
    "import tensorflow as tf\n",
    "\n",
    "print(pd.__version__)\n",
    "print(konlpy.__version__)\n",
    "print(gensim.__version__)\n",
    "print(tf.__version__)"
   ]
  },
  {
   "cell_type": "markdown",
   "id": "9f4eccc0",
   "metadata": {},
   "source": [
    "## 1) 데이터 준비와 확인"
   ]
  },
  {
   "cell_type": "code",
   "execution_count": 2,
   "id": "1447b95a",
   "metadata": {},
   "outputs": [
    {
     "data": {
      "text/html": [
       "<div>\n",
       "<style scoped>\n",
       "    .dataframe tbody tr th:only-of-type {\n",
       "        vertical-align: middle;\n",
       "    }\n",
       "\n",
       "    .dataframe tbody tr th {\n",
       "        vertical-align: top;\n",
       "    }\n",
       "\n",
       "    .dataframe thead th {\n",
       "        text-align: right;\n",
       "    }\n",
       "</style>\n",
       "<table border=\"1\" class=\"dataframe\">\n",
       "  <thead>\n",
       "    <tr style=\"text-align: right;\">\n",
       "      <th></th>\n",
       "      <th>id</th>\n",
       "      <th>document</th>\n",
       "      <th>label</th>\n",
       "    </tr>\n",
       "  </thead>\n",
       "  <tbody>\n",
       "    <tr>\n",
       "      <th>0</th>\n",
       "      <td>9976970</td>\n",
       "      <td>아 더빙.. 진짜 짜증나네요 목소리</td>\n",
       "      <td>0</td>\n",
       "    </tr>\n",
       "    <tr>\n",
       "      <th>1</th>\n",
       "      <td>3819312</td>\n",
       "      <td>흠...포스터보고 초딩영화줄....오버연기조차 가볍지 않구나</td>\n",
       "      <td>1</td>\n",
       "    </tr>\n",
       "    <tr>\n",
       "      <th>2</th>\n",
       "      <td>10265843</td>\n",
       "      <td>너무재밓었다그래서보는것을추천한다</td>\n",
       "      <td>0</td>\n",
       "    </tr>\n",
       "    <tr>\n",
       "      <th>3</th>\n",
       "      <td>9045019</td>\n",
       "      <td>교도소 이야기구먼 ..솔직히 재미는 없다..평점 조정</td>\n",
       "      <td>0</td>\n",
       "    </tr>\n",
       "    <tr>\n",
       "      <th>4</th>\n",
       "      <td>6483659</td>\n",
       "      <td>사이몬페그의 익살스런 연기가 돋보였던 영화!스파이더맨에서 늙어보이기만 했던 커스틴 ...</td>\n",
       "      <td>1</td>\n",
       "    </tr>\n",
       "  </tbody>\n",
       "</table>\n",
       "</div>"
      ],
      "text/plain": [
       "         id                                           document  label\n",
       "0   9976970                                아 더빙.. 진짜 짜증나네요 목소리      0\n",
       "1   3819312                  흠...포스터보고 초딩영화줄....오버연기조차 가볍지 않구나      1\n",
       "2  10265843                                  너무재밓었다그래서보는것을추천한다      0\n",
       "3   9045019                      교도소 이야기구먼 ..솔직히 재미는 없다..평점 조정      0\n",
       "4   6483659  사이몬페그의 익살스런 연기가 돋보였던 영화!스파이더맨에서 늙어보이기만 했던 커스틴 ...      1"
      ]
     },
     "execution_count": 2,
     "metadata": {},
     "output_type": "execute_result"
    }
   ],
   "source": [
    "train_data = pd.read_table('~/aiffel/sentiment_classification/data/ratings_train.txt')\n",
    "test_data = pd.read_table('~/aiffel/sentiment_classification/data/ratings_test.txt')\n",
    "\n",
    "train_data.head()"
   ]
  },
  {
   "cell_type": "code",
   "execution_count": 3,
   "id": "b2abae62",
   "metadata": {},
   "outputs": [
    {
     "name": "stdout",
     "output_type": "stream",
     "text": [
      "id          False\n",
      "document     True\n",
      "label       False\n",
      "dtype: bool\n",
      "id          False\n",
      "document     True\n",
      "label       False\n",
      "dtype: bool\n"
     ]
    }
   ],
   "source": [
    "# 결측 데이터 확인\n",
    "print(train_data.isnull().any(axis = 0))\n",
    "print(test_data.isnull().any(axis = 0))"
   ]
  },
  {
   "cell_type": "markdown",
   "id": "68a610d4",
   "metadata": {},
   "source": [
    "양쪽 모두 document에 결측데이터가 있음을 확인함 -> 결측 데이터 제거"
   ]
  },
  {
   "cell_type": "code",
   "execution_count": 4,
   "id": "1b595802",
   "metadata": {},
   "outputs": [
    {
     "data": {
      "text/plain": [
       "(3817, 842)"
      ]
     },
     "execution_count": 4,
     "metadata": {},
     "output_type": "execute_result"
    }
   ],
   "source": [
    "# 중복 데이터 확인\n",
    "train_data.duplicated(subset=['document']).sum(), test_data.duplicated(subset=['document']).sum()"
   ]
  },
  {
   "cell_type": "code",
   "execution_count": 5,
   "id": "a09ba939",
   "metadata": {},
   "outputs": [
    {
     "data": {
      "text/html": [
       "<div>\n",
       "<style scoped>\n",
       "    .dataframe tbody tr th:only-of-type {\n",
       "        vertical-align: middle;\n",
       "    }\n",
       "\n",
       "    .dataframe tbody tr th {\n",
       "        vertical-align: top;\n",
       "    }\n",
       "\n",
       "    .dataframe thead th {\n",
       "        text-align: right;\n",
       "    }\n",
       "</style>\n",
       "<table border=\"1\" class=\"dataframe\">\n",
       "  <thead>\n",
       "    <tr style=\"text-align: right;\">\n",
       "      <th></th>\n",
       "      <th>id</th>\n",
       "      <th>document</th>\n",
       "      <th>label</th>\n",
       "    </tr>\n",
       "  </thead>\n",
       "  <tbody>\n",
       "    <tr>\n",
       "      <th>1058</th>\n",
       "      <td>5890638</td>\n",
       "      <td>4</td>\n",
       "      <td>0</td>\n",
       "    </tr>\n",
       "    <tr>\n",
       "      <th>1097</th>\n",
       "      <td>2062443</td>\n",
       "      <td>쵝오</td>\n",
       "      <td>1</td>\n",
       "    </tr>\n",
       "    <tr>\n",
       "      <th>1248</th>\n",
       "      <td>3502685</td>\n",
       "      <td>최고</td>\n",
       "      <td>1</td>\n",
       "    </tr>\n",
       "    <tr>\n",
       "      <th>1483</th>\n",
       "      <td>775332</td>\n",
       "      <td>최고</td>\n",
       "      <td>1</td>\n",
       "    </tr>\n",
       "    <tr>\n",
       "      <th>1707</th>\n",
       "      <td>8009134</td>\n",
       "      <td>재밌다</td>\n",
       "      <td>1</td>\n",
       "    </tr>\n",
       "    <tr>\n",
       "      <th>...</th>\n",
       "      <td>...</td>\n",
       "      <td>...</td>\n",
       "      <td>...</td>\n",
       "    </tr>\n",
       "    <tr>\n",
       "      <th>149919</th>\n",
       "      <td>6502490</td>\n",
       "      <td>짱</td>\n",
       "      <td>1</td>\n",
       "    </tr>\n",
       "    <tr>\n",
       "      <th>149949</th>\n",
       "      <td>3924716</td>\n",
       "      <td>OO 영화</td>\n",
       "      <td>0</td>\n",
       "    </tr>\n",
       "    <tr>\n",
       "      <th>149960</th>\n",
       "      <td>6368431</td>\n",
       "      <td>지루하다</td>\n",
       "      <td>0</td>\n",
       "    </tr>\n",
       "    <tr>\n",
       "      <th>149966</th>\n",
       "      <td>6735753</td>\n",
       "      <td>1</td>\n",
       "      <td>0</td>\n",
       "    </tr>\n",
       "    <tr>\n",
       "      <th>149987</th>\n",
       "      <td>7669621</td>\n",
       "      <td>재미있어요^^</td>\n",
       "      <td>1</td>\n",
       "    </tr>\n",
       "  </tbody>\n",
       "</table>\n",
       "<p>3817 rows × 3 columns</p>\n",
       "</div>"
      ],
      "text/plain": [
       "             id document  label\n",
       "1058    5890638        4      0\n",
       "1097    2062443       쵝오      1\n",
       "1248    3502685       최고      1\n",
       "1483     775332       최고      1\n",
       "1707    8009134      재밌다      1\n",
       "...         ...      ...    ...\n",
       "149919  6502490        짱      1\n",
       "149949  3924716    OO 영화      0\n",
       "149960  6368431     지루하다      0\n",
       "149966  6735753        1      0\n",
       "149987  7669621  재미있어요^^      1\n",
       "\n",
       "[3817 rows x 3 columns]"
      ]
     },
     "execution_count": 5,
     "metadata": {},
     "output_type": "execute_result"
    }
   ],
   "source": [
    "train_data[train_data.duplicated(subset=['document'])]"
   ]
  },
  {
   "cell_type": "markdown",
   "id": "9fa744e8",
   "metadata": {},
   "source": [
    "중복데이터가 많음을 확인하였다. -> 중복데이터 중 처음것만 남김"
   ]
  },
  {
   "cell_type": "markdown",
   "id": "88a6632f",
   "metadata": {},
   "source": [
    "## 2) 데이터로더 구성"
   ]
  },
  {
   "cell_type": "code",
   "execution_count": 6,
   "id": "a383dcb8",
   "metadata": {},
   "outputs": [],
   "source": [
    "from konlpy.tag import Mecab\n",
    "import numpy as np\n",
    "from collections import Counter\n",
    "\n",
    "tokenizer = Mecab()\n",
    "stopwords = ['의','가','이','은','들','는','좀','잘','걍','과','도','를','으로','자','에','와','한','하다']\n",
    "\n",
    "def load_data(train_data, test_data, num_words=10000):\n",
    "    # 중복 및 결측 데이터 처리\n",
    "    train_data = train_data.drop_duplicates(subset=['document'])\n",
    "    train_data = train_data.dropna(how = 'any') \n",
    "    test_data = test_data.drop_duplicates(subset=['document'])\n",
    "    test_data = test_data.dropna(how = 'any') \n",
    "    \n",
    "    X_train = []\n",
    "    for sentence in train_data['document']:\n",
    "        temp_X = tokenizer.morphs(sentence) # 토큰화 (형태소 추출)\n",
    "        temp_X = [word for word in temp_X if not word in stopwords] # 불용어 제거\n",
    "        X_train.append(temp_X)\n",
    "\n",
    "    X_test = []\n",
    "    for sentence in test_data['document']:\n",
    "        temp_X = tokenizer.morphs(sentence) # 토큰화 (형태소 추출)\n",
    "        temp_X = [word for word in temp_X if not word in stopwords] # 불용어 제거\n",
    "        X_test.append(temp_X)\n",
    "    \n",
    "    words = np.concatenate(X_train).tolist()\n",
    "    counter = Counter(words)\n",
    "    counter = counter.most_common(num_words - 4)\n",
    "    vocab = ['<PAD>', '<BOS>', '<UNK>', '<UNUSED>'] + [key for key, _ in counter]\n",
    "    word_to_index = {word:index for index, word in enumerate(vocab)}\n",
    "        \n",
    "    def wordlist_to_indexlist(wordlist):\n",
    "        return [1] + [word_to_index[word] if word in word_to_index else word_to_index['<UNK>'] for word in wordlist]\n",
    "        \n",
    "    X_train = list(map(wordlist_to_indexlist, X_train))\n",
    "    X_test = list(map(wordlist_to_indexlist, X_test))\n",
    "        \n",
    "    return X_train, train_data['label'].values, X_test, test_data['label'].values, word_to_index\n",
    "    \n",
    "X_train, y_train, X_test, y_test, word_to_index = load_data(train_data, test_data)"
   ]
  },
  {
   "cell_type": "code",
   "execution_count": 7,
   "id": "b93df1ff",
   "metadata": {},
   "outputs": [
    {
     "data": {
      "text/plain": [
       "(146182, (146182,), 49157, (49157,))"
      ]
     },
     "execution_count": 7,
     "metadata": {},
     "output_type": "execute_result"
    }
   ],
   "source": [
    "len(X_train), y_train.shape, len(X_test), y_test.shape"
   ]
  },
  {
   "cell_type": "code",
   "execution_count": 8,
   "id": "22bba34b",
   "metadata": {},
   "outputs": [],
   "source": [
    "# word_to_index에서 index_to_word도 만들어줌.\n",
    "index_to_word = {index:word for word, index in word_to_index.items()}"
   ]
  },
  {
   "cell_type": "code",
   "execution_count": 9,
   "id": "523513b7",
   "metadata": {},
   "outputs": [],
   "source": [
    "# 문장 1개를 활용할 딕셔너리와 함께 주면, 단어 인덱스 리스트 벡터로 변환해 주는 함수입니다. \n",
    "# 단, 모든 문장은 <BOS>로 시작하는 것으로 합니다. \n",
    "def get_encoded_sentence(sentence, word_to_index):\n",
    "    return [word_to_index['<BOS>']]+[word_to_index[word] if word in word_to_index else word_to_index['<UNK>'] for word in sentence.split()]\n",
    "\n",
    "# 여러 개의 문장 리스트를 한꺼번에 단어 인덱스 리스트 벡터로 encode해 주는 함수입니다. \n",
    "def get_encoded_sentences(sentences, word_to_index):\n",
    "    return [get_encoded_sentence(sentence, word_to_index) for sentence in sentences]\n",
    "\n",
    "# 숫자 벡터로 encode된 문장을 원래대로 decode하는 함수입니다. \n",
    "def get_decoded_sentence(encoded_sentence, index_to_word):\n",
    "    return ' '.join(index_to_word[index] if index in index_to_word else '<UNK>' for index in encoded_sentence[1:])  #[1:]를 통해 <BOS>를 제외\n",
    "\n",
    "# 여러 개의 숫자 벡터로 encode된 문장을 한꺼번에 원래대로 decode하는 함수입니다. \n",
    "def get_decoded_sentences(encoded_sentences, index_to_word):\n",
    "    return [get_decoded_sentence(encoded_sentence, index_to_word) for encoded_sentence in encoded_sentences]"
   ]
  },
  {
   "cell_type": "markdown",
   "id": "7479582e",
   "metadata": {},
   "source": [
    "## 3) 모델 구성을 위한 데이터 분석 및 가공\n",
    "- 데이터셋 내 문장 길이 분포\n",
    "- 적절한 최대 문장 길이 지정\n",
    "- keras.preprocessing.sequence.pad_sequences 을 활용한 패딩 추가"
   ]
  },
  {
   "cell_type": "code",
   "execution_count": 10,
   "id": "57ec65cf",
   "metadata": {},
   "outputs": [
    {
     "name": "stdout",
     "output_type": "stream",
     "text": [
      "문장길이 평균 :  16.96940191154864\n",
      "문장길이 최대 :  117\n",
      "문장길이 표준편차 :  12.843571191092\n"
     ]
    }
   ],
   "source": [
    "total_data_text = list(X_train) + list(X_test)\n",
    "# 텍스트데이터 문장길이의 리스트를 생성한 후\n",
    "num_tokens = [len(tokens) for tokens in total_data_text]\n",
    "num_tokens = np.array(num_tokens)\n",
    "\n",
    "# 문장길이의 평균값, 최대값, 표준편차를 계산해 본다. \n",
    "print('문장길이 평균 : ', np.mean(num_tokens))\n",
    "print('문장길이 최대 : ', np.max(num_tokens))\n",
    "print('문장길이 표준편차 : ', np.std(num_tokens))"
   ]
  },
  {
   "cell_type": "code",
   "execution_count": 11,
   "id": "099fd773",
   "metadata": {},
   "outputs": [
    {
     "name": "stdout",
     "output_type": "stream",
     "text": [
      "pad_sequences maxlen :  42\n",
      "전체 문장의 93.42988343341575%가 maxlen 설정값 이내에 포함됩니다. \n"
     ]
    }
   ],
   "source": [
    "max_tokens = np.mean(num_tokens) + 2 * np.std(num_tokens)\n",
    "maxlen = int(max_tokens)\n",
    "print('pad_sequences maxlen : ', maxlen)\n",
    "print(f'전체 문장의 {np.sum(num_tokens < max_tokens) / len(num_tokens) * 100}%가 maxlen 설정값 이내에 포함됩니다. ')"
   ]
  },
  {
   "cell_type": "code",
   "execution_count": 12,
   "id": "ddcceab6",
   "metadata": {},
   "outputs": [],
   "source": [
    "X_train = tf.keras.preprocessing.sequence.pad_sequences(X_train,\n",
    "                                                        value=word_to_index[\"<PAD>\"],\n",
    "                                                        padding='pre',\n",
    "                                                        maxlen=maxlen)\n",
    "\n",
    "X_test = tf.keras.preprocessing.sequence.pad_sequences(X_test,\n",
    "                                                       value=word_to_index[\"<PAD>\"],\n",
    "                                                       padding='pre',\n",
    "                                                       maxlen=maxlen)"
   ]
  },
  {
   "cell_type": "code",
   "execution_count": 13,
   "id": "e532d10e",
   "metadata": {},
   "outputs": [
    {
     "data": {
      "text/plain": [
       "((146182, 42), (49157, 42))"
      ]
     },
     "execution_count": 13,
     "metadata": {},
     "output_type": "execute_result"
    }
   ],
   "source": [
    "X_train.shape, X_test.shape"
   ]
  },
  {
   "cell_type": "code",
   "execution_count": 14,
   "id": "d7ad4de7",
   "metadata": {},
   "outputs": [],
   "source": [
    "# X_train = tf.keras.preprocessing.sequence.pad_sequences(X_train,\n",
    "#                                                         value=word_to_index[\"<PAD>\"],\n",
    "#                                                         padding='post',\n",
    "#                                                         maxlen=maxlen)\n",
    "\n",
    "# X_test = tf.keras.preprocessing.sequence.pad_sequences(X_test,\n",
    "#                                                        value=word_to_index[\"<PAD>\"],\n",
    "#                                                        padding='post',\n",
    "#                                                        maxlen=maxlen)"
   ]
  },
  {
   "cell_type": "markdown",
   "id": "1ef4310b",
   "metadata": {},
   "source": [
    "## 4) 모델 구성 및 validation set 구성\n",
    "- 모델은 3가지 이상 다양하게 구성하여 실험해 보세요."
   ]
  },
  {
   "cell_type": "code",
   "execution_count": 15,
   "id": "7440b7a5",
   "metadata": {},
   "outputs": [],
   "source": [
    "vocab_size = 10000\n",
    "word_vector_dim = 16"
   ]
  },
  {
   "cell_type": "code",
   "execution_count": 16,
   "id": "bcac312a",
   "metadata": {},
   "outputs": [
    {
     "name": "stdout",
     "output_type": "stream",
     "text": [
      "Model: \"sequential\"\n",
      "_________________________________________________________________\n",
      "Layer (type)                 Output Shape              Param #   \n",
      "=================================================================\n",
      "embedding (Embedding)        (None, None, 16)          160000    \n",
      "_________________________________________________________________\n",
      "lstm (LSTM)                  (None, 12)                1392      \n",
      "_________________________________________________________________\n",
      "dense (Dense)                (None, 12)                156       \n",
      "_________________________________________________________________\n",
      "dense_1 (Dense)              (None, 1)                 13        \n",
      "=================================================================\n",
      "Total params: 161,561\n",
      "Trainable params: 161,561\n",
      "Non-trainable params: 0\n",
      "_________________________________________________________________\n"
     ]
    }
   ],
   "source": [
    "# LSTM 1 + Dense 2\n",
    "\n",
    "model1 = tf.keras.Sequential()\n",
    "model1.add(tf.keras.layers.Embedding(vocab_size, word_vector_dim))\n",
    "model1.add(tf.keras.layers.LSTM(12))   \n",
    "model1.add(tf.keras.layers.Dense(12, activation='relu'))\n",
    "model1.add(tf.keras.layers.Dense(1, activation='sigmoid')) \n",
    "\n",
    "model1.summary()"
   ]
  },
  {
   "cell_type": "code",
   "execution_count": 17,
   "id": "a60b3337",
   "metadata": {},
   "outputs": [
    {
     "name": "stdout",
     "output_type": "stream",
     "text": [
      "Model: \"sequential_1\"\n",
      "_________________________________________________________________\n",
      "Layer (type)                 Output Shape              Param #   \n",
      "=================================================================\n",
      "embedding_1 (Embedding)      (None, None, 16)          160000    \n",
      "_________________________________________________________________\n",
      "conv1d (Conv1D)              (None, None, 16)          1808      \n",
      "_________________________________________________________________\n",
      "max_pooling1d (MaxPooling1D) (None, None, 16)          0         \n",
      "_________________________________________________________________\n",
      "conv1d_1 (Conv1D)            (None, None, 16)          1808      \n",
      "_________________________________________________________________\n",
      "global_max_pooling1d (Global (None, 16)                0         \n",
      "_________________________________________________________________\n",
      "dense_2 (Dense)              (None, 8)                 136       \n",
      "_________________________________________________________________\n",
      "dense_3 (Dense)              (None, 1)                 9         \n",
      "=================================================================\n",
      "Total params: 163,761\n",
      "Trainable params: 163,761\n",
      "Non-trainable params: 0\n",
      "_________________________________________________________________\n"
     ]
    }
   ],
   "source": [
    "# using conv-1d\n",
    "\n",
    "model2 = tf.keras.Sequential()\n",
    "model2.add(tf.keras.layers.Embedding(vocab_size, word_vector_dim, input_shape=(None,)))\n",
    "model2.add(tf.keras.layers.Conv1D(16, 7, activation='relu'))\n",
    "model2.add(tf.keras.layers.MaxPooling1D(5))\n",
    "model2.add(tf.keras.layers.Conv1D(16, 7, activation='relu'))\n",
    "model2.add(tf.keras.layers.GlobalMaxPooling1D())\n",
    "model2.add(tf.keras.layers.Dense(8, activation='relu'))\n",
    "model2.add(tf.keras.layers.Dense(1, activation='sigmoid'))\n",
    "\n",
    "model2.summary()"
   ]
  },
  {
   "cell_type": "code",
   "execution_count": 18,
   "id": "64292047",
   "metadata": {},
   "outputs": [
    {
     "name": "stdout",
     "output_type": "stream",
     "text": [
      "Model: \"sequential_2\"\n",
      "_________________________________________________________________\n",
      "Layer (type)                 Output Shape              Param #   \n",
      "=================================================================\n",
      "embedding_2 (Embedding)      (None, None, 16)          160000    \n",
      "_________________________________________________________________\n",
      "global_max_pooling1d_1 (Glob (None, 16)                0         \n",
      "_________________________________________________________________\n",
      "dense_4 (Dense)              (None, 8)                 136       \n",
      "_________________________________________________________________\n",
      "dense_5 (Dense)              (None, 1)                 9         \n",
      "=================================================================\n",
      "Total params: 160,145\n",
      "Trainable params: 160,145\n",
      "Non-trainable params: 0\n",
      "_________________________________________________________________\n"
     ]
    }
   ],
   "source": [
    "# only using global max pooling\n",
    "\n",
    "model3 = tf.keras.Sequential()\n",
    "model3.add(tf.keras.layers.Embedding(vocab_size, word_vector_dim, input_shape=(None,)))\n",
    "model3.add(tf.keras.layers.GlobalMaxPooling1D())\n",
    "model3.add(tf.keras.layers.Dense(8, activation='relu'))\n",
    "model3.add(tf.keras.layers.Dense(1, activation='sigmoid'))\n",
    "\n",
    "model3.summary()"
   ]
  },
  {
   "cell_type": "code",
   "execution_count": 19,
   "id": "db15b689",
   "metadata": {},
   "outputs": [],
   "source": [
    "from sklearn.model_selection import train_test_split\n",
    "X, X_val, y, y_val = train_test_split(X_train, y_train, random_state=42)"
   ]
  },
  {
   "cell_type": "code",
   "execution_count": 20,
   "id": "6d4d31e8",
   "metadata": {},
   "outputs": [],
   "source": [
    "model1.compile(optimizer='adam',\n",
    "              loss='binary_crossentropy',\n",
    "              metrics=['accuracy'])"
   ]
  },
  {
   "cell_type": "code",
   "execution_count": 21,
   "id": "3f785492",
   "metadata": {},
   "outputs": [],
   "source": [
    "model2.compile(optimizer='adam',\n",
    "              loss='binary_crossentropy',\n",
    "              metrics=['accuracy'])"
   ]
  },
  {
   "cell_type": "code",
   "execution_count": 22,
   "id": "95fd502e",
   "metadata": {},
   "outputs": [],
   "source": [
    "model3.compile(optimizer='adam',\n",
    "              loss='binary_crossentropy',\n",
    "              metrics=['accuracy'])"
   ]
  },
  {
   "cell_type": "markdown",
   "id": "0fd181dc",
   "metadata": {},
   "source": [
    "## 5) 모델 훈련 개시"
   ]
  },
  {
   "cell_type": "code",
   "execution_count": 23,
   "id": "ab775179",
   "metadata": {},
   "outputs": [],
   "source": [
    "epochs = 20"
   ]
  },
  {
   "cell_type": "code",
   "execution_count": 24,
   "id": "4753e017",
   "metadata": {},
   "outputs": [
    {
     "name": "stdout",
     "output_type": "stream",
     "text": [
      "Epoch 1/20\n",
      "215/215 [==============================] - 5s 8ms/step - loss: 0.5064 - accuracy: 0.7603 - val_loss: 0.3713 - val_accuracy: 0.8414\n",
      "Epoch 2/20\n",
      "215/215 [==============================] - 1s 6ms/step - loss: 0.3409 - accuracy: 0.8555 - val_loss: 0.3563 - val_accuracy: 0.8469\n",
      "Epoch 3/20\n",
      "215/215 [==============================] - 1s 6ms/step - loss: 0.3172 - accuracy: 0.8683 - val_loss: 0.3519 - val_accuracy: 0.8485\n",
      "Epoch 4/20\n",
      "215/215 [==============================] - 1s 6ms/step - loss: 0.3031 - accuracy: 0.8750 - val_loss: 0.3556 - val_accuracy: 0.8467\n",
      "Epoch 5/20\n",
      "215/215 [==============================] - 1s 6ms/step - loss: 0.2928 - accuracy: 0.8798 - val_loss: 0.3614 - val_accuracy: 0.8452\n",
      "Epoch 6/20\n",
      "215/215 [==============================] - 1s 6ms/step - loss: 0.2813 - accuracy: 0.8859 - val_loss: 0.3626 - val_accuracy: 0.8453\n",
      "Epoch 7/20\n",
      "215/215 [==============================] - 1s 6ms/step - loss: 0.2710 - accuracy: 0.8904 - val_loss: 0.3731 - val_accuracy: 0.8430\n",
      "Epoch 8/20\n",
      "215/215 [==============================] - 1s 6ms/step - loss: 0.2612 - accuracy: 0.8957 - val_loss: 0.3761 - val_accuracy: 0.8435\n",
      "Epoch 9/20\n",
      "215/215 [==============================] - 1s 6ms/step - loss: 0.2514 - accuracy: 0.9002 - val_loss: 0.3876 - val_accuracy: 0.8425\n",
      "Epoch 10/20\n",
      "215/215 [==============================] - 1s 6ms/step - loss: 0.2434 - accuracy: 0.9037 - val_loss: 0.4109 - val_accuracy: 0.8400\n",
      "Epoch 11/20\n",
      "215/215 [==============================] - 1s 6ms/step - loss: 0.2346 - accuracy: 0.9077 - val_loss: 0.4097 - val_accuracy: 0.8403\n",
      "Epoch 12/20\n",
      "215/215 [==============================] - 1s 6ms/step - loss: 0.2257 - accuracy: 0.9121 - val_loss: 0.4324 - val_accuracy: 0.8361\n",
      "Epoch 13/20\n",
      "215/215 [==============================] - 1s 6ms/step - loss: 0.2188 - accuracy: 0.9145 - val_loss: 0.4330 - val_accuracy: 0.8389\n",
      "Epoch 14/20\n",
      "215/215 [==============================] - 1s 6ms/step - loss: 0.2116 - accuracy: 0.9177 - val_loss: 0.4439 - val_accuracy: 0.8364\n",
      "Epoch 15/20\n",
      "215/215 [==============================] - 1s 6ms/step - loss: 0.2029 - accuracy: 0.9208 - val_loss: 0.4541 - val_accuracy: 0.8346\n",
      "Epoch 16/20\n",
      "215/215 [==============================] - 1s 6ms/step - loss: 0.1972 - accuracy: 0.9236 - val_loss: 0.5099 - val_accuracy: 0.8365\n",
      "Epoch 17/20\n",
      "215/215 [==============================] - 1s 6ms/step - loss: 0.1932 - accuracy: 0.9249 - val_loss: 0.4846 - val_accuracy: 0.8321\n",
      "Epoch 18/20\n",
      "215/215 [==============================] - 1s 6ms/step - loss: 0.1844 - accuracy: 0.9289 - val_loss: 0.5140 - val_accuracy: 0.8302\n",
      "Epoch 19/20\n",
      "215/215 [==============================] - 1s 6ms/step - loss: 0.1798 - accuracy: 0.9317 - val_loss: 0.5203 - val_accuracy: 0.8309\n",
      "Epoch 20/20\n",
      "215/215 [==============================] - 1s 6ms/step - loss: 0.1740 - accuracy: 0.9345 - val_loss: 0.5522 - val_accuracy: 0.8301\n",
      "1537/1537 - 3s - loss: 0.5474 - accuracy: 0.8295\n"
     ]
    }
   ],
   "source": [
    "history1 = model1.fit(X,\n",
    "                    y,\n",
    "                    epochs=epochs,\n",
    "                    batch_size=512,\n",
    "                    validation_data=(X_val, y_val),\n",
    "                    verbose=1)\n",
    "\n",
    "results1 = model1.evaluate(X_test,  y_test, verbose=2)"
   ]
  },
  {
   "cell_type": "code",
   "execution_count": 25,
   "id": "613bf618",
   "metadata": {},
   "outputs": [
    {
     "name": "stdout",
     "output_type": "stream",
     "text": [
      "Epoch 1/20\n",
      "215/215 [==============================] - 3s 6ms/step - loss: 0.5411 - accuracy: 0.7190 - val_loss: 0.3821 - val_accuracy: 0.8301\n",
      "Epoch 2/20\n",
      "215/215 [==============================] - 1s 5ms/step - loss: 0.3435 - accuracy: 0.8516 - val_loss: 0.3629 - val_accuracy: 0.8392\n",
      "Epoch 3/20\n",
      "215/215 [==============================] - 1s 5ms/step - loss: 0.3027 - accuracy: 0.8723 - val_loss: 0.3608 - val_accuracy: 0.8411\n",
      "Epoch 4/20\n",
      "215/215 [==============================] - 1s 5ms/step - loss: 0.2713 - accuracy: 0.8887 - val_loss: 0.3709 - val_accuracy: 0.8383\n",
      "Epoch 5/20\n",
      "215/215 [==============================] - 1s 5ms/step - loss: 0.2408 - accuracy: 0.9026 - val_loss: 0.3905 - val_accuracy: 0.8370\n",
      "Epoch 6/20\n",
      "215/215 [==============================] - 1s 5ms/step - loss: 0.2092 - accuracy: 0.9189 - val_loss: 0.4302 - val_accuracy: 0.8333\n",
      "Epoch 7/20\n",
      "215/215 [==============================] - 1s 5ms/step - loss: 0.1803 - accuracy: 0.9322 - val_loss: 0.4586 - val_accuracy: 0.8311\n",
      "Epoch 8/20\n",
      "215/215 [==============================] - 1s 5ms/step - loss: 0.1546 - accuracy: 0.9443 - val_loss: 0.5187 - val_accuracy: 0.8267\n",
      "Epoch 9/20\n",
      "215/215 [==============================] - 1s 5ms/step - loss: 0.1331 - accuracy: 0.9529 - val_loss: 0.5480 - val_accuracy: 0.8251\n",
      "Epoch 10/20\n",
      "215/215 [==============================] - 1s 5ms/step - loss: 0.1143 - accuracy: 0.9607 - val_loss: 0.5990 - val_accuracy: 0.8234\n",
      "Epoch 11/20\n",
      "215/215 [==============================] - 1s 5ms/step - loss: 0.1005 - accuracy: 0.9664 - val_loss: 0.6470 - val_accuracy: 0.8179\n",
      "Epoch 12/20\n",
      "215/215 [==============================] - 1s 5ms/step - loss: 0.0884 - accuracy: 0.9705 - val_loss: 0.7006 - val_accuracy: 0.8162\n",
      "Epoch 13/20\n",
      "215/215 [==============================] - 1s 5ms/step - loss: 0.0784 - accuracy: 0.9745 - val_loss: 0.7567 - val_accuracy: 0.8171\n",
      "Epoch 14/20\n",
      "215/215 [==============================] - 1s 5ms/step - loss: 0.0711 - accuracy: 0.9764 - val_loss: 0.8195 - val_accuracy: 0.8150\n",
      "Epoch 15/20\n",
      "215/215 [==============================] - 1s 5ms/step - loss: 0.0654 - accuracy: 0.9787 - val_loss: 0.8708 - val_accuracy: 0.8136\n",
      "Epoch 16/20\n",
      "215/215 [==============================] - 1s 5ms/step - loss: 0.0601 - accuracy: 0.9810 - val_loss: 0.9312 - val_accuracy: 0.8114\n",
      "Epoch 17/20\n",
      "215/215 [==============================] - 1s 5ms/step - loss: 0.0557 - accuracy: 0.9822 - val_loss: 1.0027 - val_accuracy: 0.8093\n",
      "Epoch 18/20\n",
      "215/215 [==============================] - 1s 5ms/step - loss: 0.0533 - accuracy: 0.9831 - val_loss: 1.0992 - val_accuracy: 0.8091\n",
      "Epoch 19/20\n",
      "215/215 [==============================] - 1s 5ms/step - loss: 0.0505 - accuracy: 0.9840 - val_loss: 1.0830 - val_accuracy: 0.8119\n",
      "Epoch 20/20\n",
      "215/215 [==============================] - 1s 5ms/step - loss: 0.0499 - accuracy: 0.9842 - val_loss: 1.1229 - val_accuracy: 0.8071\n",
      "1537/1537 - 2s - loss: 1.1378 - accuracy: 0.8048\n"
     ]
    }
   ],
   "source": [
    "history2 = model2.fit(X,\n",
    "                    y,\n",
    "                    epochs=epochs,\n",
    "                    batch_size=512,\n",
    "                    validation_data=(X_val, y_val),\n",
    "                    verbose=1)\n",
    "\n",
    "results2 = model2.evaluate(X_test,  y_test, verbose=2)"
   ]
  },
  {
   "cell_type": "code",
   "execution_count": 26,
   "id": "7a540016",
   "metadata": {},
   "outputs": [
    {
     "name": "stdout",
     "output_type": "stream",
     "text": [
      "Epoch 1/20\n",
      "215/215 [==============================] - 1s 5ms/step - loss: 0.5983 - accuracy: 0.7559 - val_loss: 0.4547 - val_accuracy: 0.8148\n",
      "Epoch 2/20\n",
      "215/215 [==============================] - 1s 4ms/step - loss: 0.3879 - accuracy: 0.8355 - val_loss: 0.3700 - val_accuracy: 0.8384\n",
      "Epoch 3/20\n",
      "215/215 [==============================] - 1s 4ms/step - loss: 0.3310 - accuracy: 0.8593 - val_loss: 0.3572 - val_accuracy: 0.8431\n",
      "Epoch 4/20\n",
      "215/215 [==============================] - 1s 4ms/step - loss: 0.3020 - accuracy: 0.8740 - val_loss: 0.3552 - val_accuracy: 0.8429\n",
      "Epoch 5/20\n",
      "215/215 [==============================] - 1s 4ms/step - loss: 0.2804 - accuracy: 0.8849 - val_loss: 0.3586 - val_accuracy: 0.8441\n",
      "Epoch 6/20\n",
      "215/215 [==============================] - 1s 4ms/step - loss: 0.2630 - accuracy: 0.8928 - val_loss: 0.3651 - val_accuracy: 0.8443\n",
      "Epoch 7/20\n",
      "215/215 [==============================] - 1s 4ms/step - loss: 0.2482 - accuracy: 0.8990 - val_loss: 0.3742 - val_accuracy: 0.8426\n",
      "Epoch 8/20\n",
      "215/215 [==============================] - 1s 4ms/step - loss: 0.2355 - accuracy: 0.9052 - val_loss: 0.3844 - val_accuracy: 0.8404\n",
      "Epoch 9/20\n",
      "215/215 [==============================] - 1s 4ms/step - loss: 0.2242 - accuracy: 0.9108 - val_loss: 0.3953 - val_accuracy: 0.8386\n",
      "Epoch 10/20\n",
      "215/215 [==============================] - 1s 4ms/step - loss: 0.2139 - accuracy: 0.9153 - val_loss: 0.4063 - val_accuracy: 0.8395\n",
      "Epoch 11/20\n",
      "215/215 [==============================] - 1s 4ms/step - loss: 0.2045 - accuracy: 0.9198 - val_loss: 0.4181 - val_accuracy: 0.8392\n",
      "Epoch 12/20\n",
      "215/215 [==============================] - 1s 4ms/step - loss: 0.1961 - accuracy: 0.9241 - val_loss: 0.4306 - val_accuracy: 0.8354\n",
      "Epoch 13/20\n",
      "215/215 [==============================] - 1s 4ms/step - loss: 0.1884 - accuracy: 0.9278 - val_loss: 0.4420 - val_accuracy: 0.8364\n",
      "Epoch 14/20\n",
      "215/215 [==============================] - 1s 4ms/step - loss: 0.1811 - accuracy: 0.9312 - val_loss: 0.4547 - val_accuracy: 0.8331\n",
      "Epoch 15/20\n",
      "215/215 [==============================] - 1s 4ms/step - loss: 0.1742 - accuracy: 0.9344 - val_loss: 0.4637 - val_accuracy: 0.8342\n",
      "Epoch 16/20\n",
      "215/215 [==============================] - 1s 4ms/step - loss: 0.1683 - accuracy: 0.9368 - val_loss: 0.4765 - val_accuracy: 0.8314\n",
      "Epoch 17/20\n",
      "215/215 [==============================] - 1s 4ms/step - loss: 0.1623 - accuracy: 0.9404 - val_loss: 0.4887 - val_accuracy: 0.8310\n",
      "Epoch 18/20\n",
      "215/215 [==============================] - 1s 4ms/step - loss: 0.1574 - accuracy: 0.9425 - val_loss: 0.5006 - val_accuracy: 0.8298\n",
      "Epoch 19/20\n",
      "215/215 [==============================] - 1s 4ms/step - loss: 0.1524 - accuracy: 0.9446 - val_loss: 0.5123 - val_accuracy: 0.8291\n",
      "Epoch 20/20\n",
      "215/215 [==============================] - 1s 4ms/step - loss: 0.1480 - accuracy: 0.9469 - val_loss: 0.5208 - val_accuracy: 0.8287\n",
      "1537/1537 - 2s - loss: 0.5276 - accuracy: 0.8254\n"
     ]
    }
   ],
   "source": [
    "history3 = model3.fit(X,\n",
    "                    y,\n",
    "                    epochs=epochs,\n",
    "                    batch_size=512,\n",
    "                    validation_data=(X_val, y_val),\n",
    "                    verbose=1)\n",
    "\n",
    "results3 = model3.evaluate(X_test,  y_test, verbose=2)"
   ]
  },
  {
   "cell_type": "markdown",
   "id": "50b9b552",
   "metadata": {},
   "source": [
    "## 6) Loss, Accuracy 그래프 시각화"
   ]
  },
  {
   "cell_type": "code",
   "execution_count": 27,
   "id": "a88f5cc1",
   "metadata": {},
   "outputs": [],
   "source": [
    "import matplotlib.pyplot as plt\n",
    "\n",
    "# 손실과 정확도를 그래프로 그려본다\n",
    "def show_loss_and_accuracy_graph(history):\n",
    "    history_dict = history.history\n",
    "    acc = history_dict['accuracy']\n",
    "    val_acc = history_dict['val_accuracy']\n",
    "    loss = history_dict['loss']\n",
    "    val_loss = history_dict['val_loss']\n",
    "\n",
    "    epochs = range(1, len(acc) + 1)\n",
    "    fig = plt.subplots(2, 1, figsize=(5,8))\n",
    "    \n",
    "    plt.subplot(211)\n",
    "    # \"bo\"는 \"파란색 점\"입니다\n",
    "    plt.plot(epochs, loss, 'bo', label='Training loss')\n",
    "    # b는 \"파란 실선\"입니다\n",
    "    plt.plot(epochs, val_loss, 'b', label='Validation loss')\n",
    "    plt.title('Training and validation loss')\n",
    "    plt.xlabel('Epochs')\n",
    "    plt.ylabel('Loss')\n",
    "    plt.legend()\n",
    "    \n",
    "    plt.subplot(212)\n",
    "    plt.plot(epochs, acc, 'bo', label='Training acc')\n",
    "    plt.plot(epochs, val_acc, 'b', label='Validation acc')\n",
    "    plt.title('Training and validation accuracy')\n",
    "    plt.xlabel('Epochs')\n",
    "    plt.ylabel('Accuracy')\n",
    "    plt.legend()\n",
    "\n",
    "    plt.show()"
   ]
  },
  {
   "cell_type": "code",
   "execution_count": 28,
   "id": "61a04c4d",
   "metadata": {},
   "outputs": [
    {
     "data": {
      "image/png": "[encoded data removed]",
      "text/plain": [
       "<Figure size 360x576 with 2 Axes>"
      ]
     },
     "metadata": {
      "needs_background": "light"
     },
     "output_type": "display_data"
    }
   ],
   "source": [
    "show_loss_and_accuracy_graph(history1)"
   ]
  },
  {
   "cell_type": "code",
   "execution_count": 29,
   "id": "e7bb00c2",
   "metadata": {},
   "outputs": [
    {
     "data": {
      "image/png": "[encoded data removed]",
      "text/plain": [
       "<Figure size 360x576 with 2 Axes>"
      ]
     },
     "metadata": {
      "needs_background": "light"
     },
     "output_type": "display_data"
    }
   ],
   "source": [
    "show_loss_and_accuracy_graph(history2)"
   ]
  },
  {
   "cell_type": "code",
   "execution_count": 30,
   "id": "658872fe",
   "metadata": {},
   "outputs": [
    {
     "data": {
      "image/png": "[encoded data removed]",
      "text/plain": [
       "<Figure size 360x576 with 2 Axes>"
      ]
     },
     "metadata": {
      "needs_background": "light"
     },
     "output_type": "display_data"
    }
   ],
   "source": [
    "show_loss_and_accuracy_graph(history3)"
   ]
  },
  {
   "cell_type": "markdown",
   "id": "3adb2e35",
   "metadata": {},
   "source": [
    "3회정도 이후에는 traing loss와 validation loss간의 간격이 벌어지고 accuracy 벌어지는것이 확인됨.(과적합 발생)\n",
    "따라서 20회까지 돌릴 필요가 없고 epoch을 줄여주는것이 현명 할 듯. 추후에는 4~5까지 줄 일 예정"
   ]
  },
  {
   "cell_type": "markdown",
   "id": "17aef644",
   "metadata": {},
   "source": [
    "## 7) 학습된 Embedding 레이어 분석"
   ]
  },
  {
   "cell_type": "code",
   "execution_count": 31,
   "id": "22b8f7e9",
   "metadata": {},
   "outputs": [],
   "source": [
    "import os\n",
    "\n",
    "# 첫번째 모델의 임베딩 레이어를 가져와서 분석\n",
    "embedding_layer = model1.layers[0]\n",
    "embedding_vectors = embedding_layer.get_weights()[0]\n",
    "word2vec_file_path = os.getenv('HOME')+'/aiffel/sentiment_classification/data/word2vec.txt'\n",
    "f = open(word2vec_file_path, 'w')\n",
    "f.write('{} {}\\n'.format(vocab_size - 4, word_vector_dim)) \n",
    "# 단어 개수(에서 특수문자 4개는 제외하고)만큼의 워드 벡터를 파일에 기록합니다. \n",
    "for i in range(4,vocab_size):\n",
    "    f.write('{} {}\\n'.format(index_to_word[i], ' '.join(map(str, list(embedding_vectors[i, :])))))\n",
    "f.close()"
   ]
  },
  {
   "cell_type": "code",
   "execution_count": 32,
   "id": "ce03b991",
   "metadata": {},
   "outputs": [
    {
     "data": {
      "text/plain": [
       "[('고인', 0.9709150791168213),\n",
       " ('재미있', 0.9681718945503235),\n",
       " ('☆', 0.9585041403770447),\n",
       " ('재밌', 0.9579300284385681),\n",
       " ('소위', 0.9561741948127747),\n",
       " ('영리', 0.9537058472633362),\n",
       " ('강해', 0.9525737166404724),\n",
       " ('-)', 0.9524561166763306),\n",
       " ('유전', 0.9461868405342102),\n",
       " ('엄연히', 0.9457743167877197)]"
      ]
     },
     "execution_count": 32,
     "metadata": {},
     "output_type": "execute_result"
    }
   ],
   "source": [
    "from gensim.models.keyedvectors import Word2VecKeyedVectors\n",
    "\n",
    "\n",
    "word_vectors = Word2VecKeyedVectors.load_word2vec_format(word2vec_file_path, binary=False)\n",
    "word_vectors.similar_by_word(\"최고\")"
   ]
  },
  {
   "cell_type": "markdown",
   "id": "6a5d5986",
   "metadata": {},
   "source": [
    "딱히 임베딩이 뜻을 잘 담는지 의문임."
   ]
  },
  {
   "cell_type": "markdown",
   "id": "1061e7ca",
   "metadata": {},
   "source": [
    "## 8) 한국어 Word2Vec 임베딩 활용하여 성능 개선\n",
    "- 한국어 Word2Vec은 /data 폴더 안에 있는 word2vec_ko.model을 활용하세요.\n",
    "- 한국어 Word2Vec을 활용할 때는 load_word2vec_format() 형태가 아닌 load() 형태로 모델을 불러와주세요. 또한 모델을 활용할 때에는 아래 예시와 같이 .wv를 붙여서 활용합니다. 좀더 자세한 활용법에 대해선 다음 링크들을 참조해주세요. [참고 링크1](https://radimrehurek.com/gensim/auto_examples/tutorials/run_word2vec.html#storing-and-loading-models), [참고 링크2](https://radimrehurek.com/gensim/models/keyedvectors.html)\n",
    "\n",
    "```\n",
    "# 예시 코드\n",
    "from gensim.models.keyedvectors import Word2VecKeyedVectors\n",
    "word_vectors = Word2VecKeyedVectors.load(word2vec_file_path)\n",
    "vector = word_vectors.wv['끝']\n",
    "```"
   ]
  },
  {
   "cell_type": "code",
   "execution_count": 33,
   "id": "a6606051",
   "metadata": {},
   "outputs": [],
   "source": [
    "from gensim.models.keyedvectors import Word2VecKeyedVectors\n",
    "word2vec = Word2VecKeyedVectors.load(\n",
    "    os.getenv('HOME') + '/aiffel/sentiment_classification/data/word2vec_ko.model',\n",
    ").wv"
   ]
  },
  {
   "cell_type": "code",
   "execution_count": 34,
   "id": "7a3fabf8",
   "metadata": {},
   "outputs": [
    {
     "data": {
      "text/plain": [
       "(100,)"
      ]
     },
     "execution_count": 34,
     "metadata": {},
     "output_type": "execute_result"
    }
   ],
   "source": [
    "vector = word2vec['컴퓨터']\n",
    "vector.shape "
   ]
  },
  {
   "cell_type": "code",
   "execution_count": 35,
   "id": "00c4a472",
   "metadata": {},
   "outputs": [
    {
     "data": {
      "text/plain": [
       "[('역대', 0.6544249653816223),\n",
       " ('최다', 0.6139797568321228),\n",
       " ('최악', 0.6104292273521423),\n",
       " ('최대', 0.6001774072647095),\n",
       " ('최저', 0.5936914682388306),\n",
       " ('정상급', 0.5868951082229614),\n",
       " ('올해', 0.5790539383888245),\n",
       " ('우수', 0.5667292475700378),\n",
       " ('최고령', 0.5547829866409302),\n",
       " ('최초', 0.5517786741256714)]"
      ]
     },
     "execution_count": 35,
     "metadata": {},
     "output_type": "execute_result"
    }
   ],
   "source": [
    "word2vec.similar_by_word(\"최고\")"
   ]
  },
  {
   "cell_type": "code",
   "execution_count": 36,
   "id": "7fcc9a3f",
   "metadata": {},
   "outputs": [
    {
     "data": {
      "text/plain": [
       "[('하드웨어', 0.806628942489624),\n",
       " ('소프트웨어', 0.7847487330436707),\n",
       " ('컴퓨팅', 0.7836830019950867),\n",
       " ('노트북', 0.7603618502616882),\n",
       " ('가상현실', 0.7591529488563538),\n",
       " ('그래픽스', 0.7564041614532471),\n",
       " ('메인프레임', 0.7557739019393921),\n",
       " ('PC', 0.7514778971672058),\n",
       " ('인공지능', 0.7492970824241638),\n",
       " ('프린터', 0.7475006580352783)]"
      ]
     },
     "execution_count": 36,
     "metadata": {},
     "output_type": "execute_result"
    }
   ],
   "source": [
    "word2vec.similar_by_word(\"컴퓨터\")"
   ]
  },
  {
   "cell_type": "markdown",
   "id": "703d30fb",
   "metadata": {},
   "source": [
    "사전 학습된 한국어 word2vec은 상당히 의미를 잘 담고 있는것으로 보인다."
   ]
  },
  {
   "cell_type": "code",
   "execution_count": 37,
   "id": "1e76122f",
   "metadata": {},
   "outputs": [],
   "source": [
    "from tensorflow.keras.initializers import Constant\n",
    "\n",
    "word2vec_dim = 100\n",
    "\n",
    "def init_embedding_matrix(vocab_size, word_dim):\n",
    "    embedding_matrix = np.random.rand(vocab_size, word_dim)\n",
    "    for i in range(4,vocab_size):\n",
    "        if index_to_word[i] in word2vec:\n",
    "            embedding_matrix[i] = word2vec[index_to_word[i]]\n",
    "    return Constant(embedding_matrix)"
   ]
  },
  {
   "cell_type": "code",
   "execution_count": 38,
   "id": "97d479ea",
   "metadata": {
    "scrolled": true
   },
   "outputs": [
    {
     "name": "stdout",
     "output_type": "stream",
     "text": [
      "Model: \"sequential_3\"\n",
      "_________________________________________________________________\n",
      "Layer (type)                 Output Shape              Param #   \n",
      "=================================================================\n",
      "embedding_3 (Embedding)      (None, 42, 100)           1000000   \n",
      "_________________________________________________________________\n",
      "lstm_1 (LSTM)                (None, 64)                42240     \n",
      "_________________________________________________________________\n",
      "dense_6 (Dense)              (None, 1)                 65        \n",
      "=================================================================\n",
      "Total params: 1,042,305\n",
      "Trainable params: 1,042,305\n",
      "Non-trainable params: 0\n",
      "_________________________________________________________________\n",
      "Epoch 1/5\n",
      "1714/1714 [==============================] - 11s 6ms/step - loss: 0.4177 - accuracy: 0.8047 - val_loss: 0.3464 - val_accuracy: 0.8471\n",
      "Epoch 2/5\n",
      "1714/1714 [==============================] - 10s 6ms/step - loss: 0.3145 - accuracy: 0.8645 - val_loss: 0.3342 - val_accuracy: 0.8557\n",
      "Epoch 3/5\n",
      "1714/1714 [==============================] - 10s 6ms/step - loss: 0.2746 - accuracy: 0.8850 - val_loss: 0.3270 - val_accuracy: 0.8596\n",
      "Epoch 4/5\n",
      "1714/1714 [==============================] - 9s 6ms/step - loss: 0.2447 - accuracy: 0.8985 - val_loss: 0.3230 - val_accuracy: 0.8641\n",
      "Epoch 5/5\n",
      "1714/1714 [==============================] - 10s 6ms/step - loss: 0.2169 - accuracy: 0.9123 - val_loss: 0.3355 - val_accuracy: 0.8627\n",
      "1537/1537 - 3s - loss: 0.3422 - accuracy: 0.8614\n"
     ]
    }
   ],
   "source": [
    "model = tf.keras.Sequential()\n",
    "model.add(tf.keras.layers.Embedding(vocab_size, \n",
    "                word2vec_dim, \n",
    "                embeddings_initializer=init_embedding_matrix(vocab_size, word2vec_dim),\n",
    "                input_length=maxlen, \n",
    "                trainable=True))\n",
    "model.add(tf.keras.layers.LSTM(64))   \n",
    "# model.add(tf.keras.layers.Dense(8, activation='relu'))\n",
    "model.add(tf.keras.layers.Dense(1, activation='sigmoid')) \n",
    "\n",
    "model.summary()\n",
    "model.compile(optimizer='adam',\n",
    "              loss='binary_crossentropy',\n",
    "              metrics=['accuracy'])\n",
    "history = model.fit(X,\n",
    "                    y,\n",
    "                    epochs=5,\n",
    "                    batch_size=64,\n",
    "                    validation_data=(X_val, y_val),\n",
    "                    verbose=1)\n",
    "\n",
    "results = model.evaluate(X_test,  y_test, verbose=2)"
   ]
  },
  {
   "cell_type": "code",
   "execution_count": 39,
   "id": "13f7a7b8",
   "metadata": {},
   "outputs": [
    {
     "name": "stdout",
     "output_type": "stream",
     "text": [
      "total loss: 0.3422\taccuracy: 0.861\n"
     ]
    },
    {
     "data": {
      "image/png": "[encoded data removed]",
      "text/plain": [
       "<Figure size 360x576 with 2 Axes>"
      ]
     },
     "metadata": {
      "needs_background": "light"
     },
     "output_type": "display_data"
    }
   ],
   "source": [
    "print(f\"total loss: {results[0]:.4f}\\taccuracy: {results[1]:.3f}\")\n",
    "show_loss_and_accuracy_graph(history)"
   ]
  },
  {
   "cell_type": "markdown",
   "id": "a752a0c0",
   "metadata": {},
   "source": [
    "목표기준이였던 85프로를 훌쩍~? 뛰어넘는 86프로 달성하였다 미션 성공!!"
   ]
  },
  {
   "cell_type": "markdown",
   "id": "f67b8a00",
   "metadata": {},
   "source": [
    "## 평가기준\n",
    "- Text classification 3가지 이상의 모델이 성공적으로 시도됨\n",
    "- gensim의 유사단어 찾기를 활용하여 자체학습한 임베딩과 사전학습 임베딩을 비교 분석함\n",
    "- 네이버 영화리뷰 데이터 감성분석 정확도를 85% 이상 달성함"
   ]
  },
  {
   "cell_type": "markdown",
   "id": "89f644ed",
   "metadata": {},
   "source": [
    "## 회고\n",
    "\n",
    "실제 데이터를 활용해서 감성 분석을 진행해서 즐거웠습니다. \n",
    "엄청 정확도가 높진 않지만 어쨌든 목표를 달성해서 기쁘고,\n",
    "과정에서 dense layer를 제거하니 점수가 소폭 상승했는데 레이어를 잘 쌓아야하는지 알고 싶은 점도 있습니다."
   ]
  },
  {
   "cell_type": "code",
   "execution_count": 40,
   "id": "01515703",
   "metadata": {},
   "outputs": [
    {
     "name": "stdout",
     "output_type": "stream",
     "text": [
      "Model: \"sequential_4\"\n",
      "_________________________________________________________________\n",
      "Layer (type)                 Output Shape              Param #   \n",
      "=================================================================\n",
      "embedding_4 (Embedding)      (None, 42, 100)           1000000   \n",
      "_________________________________________________________________\n",
      "gru (GRU)                    (None, 64)                31872     \n",
      "_________________________________________________________________\n",
      "dense_7 (Dense)              (None, 1)                 65        \n",
      "=================================================================\n",
      "Total params: 1,031,937\n",
      "Trainable params: 1,031,937\n",
      "Non-trainable params: 0\n",
      "_________________________________________________________________\n",
      "Epoch 1/5\n",
      "1714/1714 [==============================] - 11s 6ms/step - loss: 0.4217 - accuracy: 0.8035 - val_loss: 0.3499 - val_accuracy: 0.8469\n",
      "Epoch 2/5\n",
      "1714/1714 [==============================] - 10s 6ms/step - loss: 0.3129 - accuracy: 0.8648 - val_loss: 0.3247 - val_accuracy: 0.8584\n",
      "Epoch 3/5\n",
      "1714/1714 [==============================] - 9s 5ms/step - loss: 0.2741 - accuracy: 0.8844 - val_loss: 0.3223 - val_accuracy: 0.8623\n",
      "Epoch 4/5\n",
      "1714/1714 [==============================] - 9s 5ms/step - loss: 0.2439 - accuracy: 0.8989 - val_loss: 0.3280 - val_accuracy: 0.8611\n",
      "Epoch 5/5\n",
      "1714/1714 [==============================] - 9s 5ms/step - loss: 0.2165 - accuracy: 0.9126 - val_loss: 0.3464 - val_accuracy: 0.8620\n",
      "1537/1537 - 3s - loss: 0.3498 - accuracy: 0.8602\n"
     ]
    }
   ],
   "source": [
    "model = tf.keras.Sequential()\n",
    "model.add(tf.keras.layers.Embedding(vocab_size, \n",
    "                word2vec_dim, \n",
    "                embeddings_initializer=init_embedding_matrix(vocab_size, word2vec_dim),\n",
    "                input_length=maxlen, \n",
    "                trainable=True))\n",
    "model.add(tf.keras.layers.GRU(64))   \n",
    "# model.add(tf.keras.layers.Dense(8, activation='relu'))\n",
    "model.add(tf.keras.layers.Dense(1, activation='sigmoid')) \n",
    "\n",
    "model.summary()\n",
    "model.compile(optimizer='adam',\n",
    "              loss='binary_crossentropy',\n",
    "              metrics=['accuracy'])\n",
    "history = model.fit(X,\n",
    "                    y,\n",
    "                    epochs=5,\n",
    "                    batch_size=64,\n",
    "                    validation_data=(X_val, y_val),\n",
    "                    verbose=1)\n",
    "\n",
    "results = model.evaluate(X_test,  y_test, verbose=2)"
   ]
  },
  {
   "cell_type": "code",
   "execution_count": null,
   "id": "60145c2c",
   "metadata": {},
   "outputs": [],
   "source": []
  }
 ],
 "metadata": {
  "kernelspec": {
   "display_name": "Python 3 (ipykernel)",
   "language": "python",
   "name": "python3"
  },
  "language_info": {
   "codemirror_mode": {
    "name": "ipython",
    "version": 3
   },
   "file_extension": ".py",
   "mimetype": "text/x-python",
   "name": "python",
   "nbconvert_exporter": "python",
   "pygments_lexer": "ipython3",
   "version": "3.9.7"
  }
 },
 "nbformat": 4,
 "nbformat_minor": 5
}
