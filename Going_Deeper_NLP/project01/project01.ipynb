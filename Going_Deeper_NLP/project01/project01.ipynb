{
 "cells": [
  {
   "cell_type": "markdown",
   "id": "a311fcc5",
   "metadata": {},
   "source": [
    "# 라이브러리 버전 확인"
   ]
  },
  {
   "cell_type": "code",
   "execution_count": 1,
   "id": "becb3eaf",
   "metadata": {},
   "outputs": [
    {
     "name": "stdout",
     "output_type": "stream",
     "text": [
      "2.6.0\n",
      "1.21.4\n",
      "0.5.2\n"
     ]
    }
   ],
   "source": [
    "import tensorflow as tf\n",
    "import numpy as np\n",
    "import matplotlib.pyplot as plt\n",
    "import konlpy\n",
    "\n",
    "print(tf.__version__)\n",
    "print(np.__version__)\n",
    "print(konlpy.__version__)"
   ]
  },
  {
   "cell_type": "markdown",
   "id": "b8d76451",
   "metadata": {},
   "source": [
    "# step 1. SentencePiece 설치하기"
   ]
  },
  {
   "cell_type": "code",
   "execution_count": 2,
   "id": "8c90af02",
   "metadata": {},
   "outputs": [
    {
     "name": "stdout",
     "output_type": "stream",
     "text": [
      "Requirement already satisfied: sentencepiece in /opt/conda/lib/python3.9/site-packages (0.1.96)\n",
      "\u001b[33mWARNING: Running pip as the 'root' user can result in broken permissions and conflicting behaviour with the system package manager. It is recommended to use a virtual environment instead: https://pip.pypa.io/warnings/venv\u001b[0m\n"
     ]
    }
   ],
   "source": [
    "!pip install sentencepiece"
   ]
  },
  {
   "cell_type": "markdown",
   "id": "850a9145",
   "metadata": {},
   "source": [
    "# step 2. SentencePiece 모델 학습"
   ]
  },
  {
   "cell_type": "code",
   "execution_count": 3,
   "id": "61586151",
   "metadata": {},
   "outputs": [
    {
     "name": "stdout",
     "output_type": "stream",
     "text": [
      "Data Size: 94123\n",
      "Example:\n",
      ">> 개인용 컴퓨터 사용의 상당 부분은 \"이것보다 뛰어날 수 있느냐?\"\n",
      ">> 북한의 핵무기 계획을 포기하도록 하려는 압력이 거세지고 있는 가운데, 일본과 북한의 외교관들이 외교 관계를 정상화하려는 회담을 재개했다.\n",
      ">> \"경호 로보트가 침입자나 화재를 탐지하기 위해서 개인적으로, 그리고 전문적으로 사용되고 있습니다.\"\n",
      ">> 수자원부 당국은 논란이 되고 있고, 막대한 비용이 드는 이 사업에 대해 내년에 건설을 시작할 계획이다.\n",
      ">> 또한 근력 운동은 활발하게 걷는 것이나 최소한 20분 동안 뛰는 것과 같은 유산소 활동에서 얻는 운동 효과를 심장과 폐에 주지 않기 때문에, 연구학자들은 근력 운동이 심장에 큰 영향을 미치는지 여부에 대해 논쟁을 해왔다.\n"
     ]
    }
   ],
   "source": [
    "import os\n",
    "path_to_file = os.getenv('HOME')+'/aiffel/sp_tokenizer/data/korean-english-park.train.ko'\n",
    "\n",
    "with open(path_to_file, \"r\") as f:\n",
    "    raw = f.read().splitlines()\n",
    "\n",
    "print(\"Data Size:\", len(raw))\n",
    "\n",
    "print(\"Example:\")\n",
    "for sen in raw[0:100][::20]: print(\">>\", sen)"
   ]
  },
  {
   "cell_type": "code",
   "execution_count": 4,
   "id": "d8de9836",
   "metadata": {},
   "outputs": [],
   "source": [
    "max_len = 150\n",
    "min_len = 10\n",
    "\n",
    "# 중복 제거\n",
    "cleaned_corpus = list(set(raw))\n",
    "\n",
    "# 길이 조건에 맞는 문장만 선택합니다.\n",
    "filtered_corpus = [s for s in cleaned_corpus if (len(s) < max_len) & (len(s) >= min_len)]"
   ]
  },
  {
   "cell_type": "code",
   "execution_count": 5,
   "id": "7bb36f48",
   "metadata": {},
   "outputs": [],
   "source": [
    "def tokenize(corpus):  # corpus: Tokenized Sentence's List\n",
    "    tokenizer = tf.keras.preprocessing.text.Tokenizer(filters='')\n",
    "    tokenizer.fit_on_texts(corpus)\n",
    "\n",
    "    tensor = tokenizer.texts_to_sequences(corpus)\n",
    "\n",
    "    tensor = tf.keras.preprocessing.sequence.pad_sequences(tensor, padding='post')\n",
    "\n",
    "    return tensor, tokenizer"
   ]
  },
  {
   "cell_type": "code",
   "execution_count": 6,
   "id": "8073613a",
   "metadata": {},
   "outputs": [
    {
     "name": "stderr",
     "output_type": "stream",
     "text": [
      "sentencepiece_trainer.cc(177) LOG(INFO) Running command: --input=/aiffel/aiffel/sp_tokenizer/data/korean-english-park.train.ko.temp --model_prefix=korean_spm --vocab_size=8000\n",
      "sentencepiece_trainer.cc(77) LOG(INFO) Starts training with : \n",
      "trainer_spec {\n",
      "  input: /aiffel/aiffel/sp_tokenizer/data/korean-english-park.train.ko.temp\n",
      "  input_format: \n",
      "  model_prefix: korean_spm\n",
      "  model_type: UNIGRAM\n",
      "  vocab_size: 8000\n",
      "  self_test_sample_size: 0\n",
      "  character_coverage: 0.9995\n",
      "  input_sentence_size: 0\n",
      "  shuffle_input_sentence: 1\n",
      "  seed_sentencepiece_size: 1000000\n",
      "  shrinking_factor: 0.75\n",
      "  max_sentence_length: 4192\n",
      "  num_threads: 16\n",
      "  num_sub_iterations: 2\n",
      "  max_sentencepiece_length: 16\n",
      "  split_by_unicode_script: 1\n",
      "  split_by_number: 1\n",
      "  split_by_whitespace: 1\n",
      "  split_digits: 0\n",
      "  treat_whitespace_as_suffix: 0\n",
      "  allow_whitespace_only_pieces: 0\n",
      "  required_chars: \n",
      "  byte_fallback: 0\n",
      "  vocabulary_output_piece_score: 1\n",
      "  train_extremely_large_corpus: 0\n",
      "  hard_vocab_limit: 1\n",
      "  use_all_vocab: 0\n",
      "  unk_id: 0\n",
      "  bos_id: 1\n",
      "  eos_id: 2\n",
      "  pad_id: -1\n",
      "  unk_piece: <unk>\n",
      "  bos_piece: <s>\n",
      "  eos_piece: </s>\n",
      "  pad_piece: <pad>\n",
      "  unk_surface:  ⁇ \n",
      "}\n",
      "normalizer_spec {\n",
      "  name: nmt_nfkc\n",
      "  add_dummy_prefix: 1\n",
      "  remove_extra_whitespaces: 1\n",
      "  escape_whitespaces: 1\n",
      "  normalization_rule_tsv: \n",
      "}\n",
      "denormalizer_spec {}\n",
      "trainer_interface.cc(329) LOG(INFO) SentenceIterator is not specified. Using MultiFileSentenceIterator.\n",
      "trainer_interface.cc(178) LOG(INFO) Loading corpus: /aiffel/aiffel/sp_tokenizer/data/korean-english-park.train.ko.temp\n",
      "trainer_interface.cc(385) LOG(INFO) Loaded all 76908 sentences\n",
      "trainer_interface.cc(400) LOG(INFO) Adding meta_piece: <unk>\n",
      "trainer_interface.cc(400) LOG(INFO) Adding meta_piece: <s>\n",
      "trainer_interface.cc(400) LOG(INFO) Adding meta_piece: </s>\n",
      "trainer_interface.cc(405) LOG(INFO) Normalizing sentences...\n",
      "trainer_interface.cc(466) LOG(INFO) all chars count=4996369\n",
      "trainer_interface.cc(477) LOG(INFO) Done: 99.95% characters are covered.\n",
      "trainer_interface.cc(487) LOG(INFO) Alphabet size=1317\n",
      "trainer_interface.cc(488) LOG(INFO) Final character coverage=0.9995\n",
      "trainer_interface.cc(520) LOG(INFO) Done! preprocessed 76908 sentences.\n",
      "unigram_model_trainer.cc(139) LOG(INFO) Making suffix array...\n",
      "unigram_model_trainer.cc(143) LOG(INFO) Extracting frequent sub strings...\n",
      "unigram_model_trainer.cc(194) LOG(INFO) Initialized 174340 seed sentencepieces\n",
      "trainer_interface.cc(526) LOG(INFO) Tokenizing input sentences with whitespace: 76908\n",
      "trainer_interface.cc(537) LOG(INFO) Done! 237965\n",
      "unigram_model_trainer.cc(489) LOG(INFO) Using 237965 sentences for EM training\n",
      "unigram_model_trainer.cc(505) LOG(INFO) EM sub_iter=0 size=92555 obj=14.853 num_tokens=523272 num_tokens/piece=5.65363\n",
      "unigram_model_trainer.cc(505) LOG(INFO) EM sub_iter=1 size=82083 obj=13.516 num_tokens=525776 num_tokens/piece=6.40542\n",
      "unigram_model_trainer.cc(505) LOG(INFO) EM sub_iter=0 size=61555 obj=13.5533 num_tokens=546907 num_tokens/piece=8.88485\n",
      "unigram_model_trainer.cc(505) LOG(INFO) EM sub_iter=1 size=61506 obj=13.5101 num_tokens=547350 num_tokens/piece=8.89913\n",
      "unigram_model_trainer.cc(505) LOG(INFO) EM sub_iter=0 size=46126 obj=13.6926 num_tokens=575369 num_tokens/piece=12.4739\n",
      "unigram_model_trainer.cc(505) LOG(INFO) EM sub_iter=1 size=46126 obj=13.6493 num_tokens=575466 num_tokens/piece=12.476\n",
      "unigram_model_trainer.cc(505) LOG(INFO) EM sub_iter=0 size=34594 obj=13.8894 num_tokens=606014 num_tokens/piece=17.5179\n",
      "unigram_model_trainer.cc(505) LOG(INFO) EM sub_iter=1 size=34594 obj=13.8387 num_tokens=606012 num_tokens/piece=17.5178\n",
      "unigram_model_trainer.cc(505) LOG(INFO) EM sub_iter=0 size=25945 obj=14.1301 num_tokens=637532 num_tokens/piece=24.5724\n",
      "unigram_model_trainer.cc(505) LOG(INFO) EM sub_iter=1 size=25945 obj=14.0747 num_tokens=637568 num_tokens/piece=24.5738\n",
      "unigram_model_trainer.cc(505) LOG(INFO) EM sub_iter=0 size=19458 obj=14.4091 num_tokens=670960 num_tokens/piece=34.4825\n",
      "unigram_model_trainer.cc(505) LOG(INFO) EM sub_iter=1 size=19458 obj=14.3468 num_tokens=670999 num_tokens/piece=34.4845\n",
      "unigram_model_trainer.cc(505) LOG(INFO) EM sub_iter=0 size=14593 obj=14.7196 num_tokens=705636 num_tokens/piece=48.3544\n",
      "unigram_model_trainer.cc(505) LOG(INFO) EM sub_iter=1 size=14593 obj=14.648 num_tokens=705645 num_tokens/piece=48.355\n",
      "unigram_model_trainer.cc(505) LOG(INFO) EM sub_iter=0 size=10944 obj=15.0875 num_tokens=741620 num_tokens/piece=67.765\n",
      "unigram_model_trainer.cc(505) LOG(INFO) EM sub_iter=1 size=10944 obj=15.007 num_tokens=741624 num_tokens/piece=67.7654\n",
      "unigram_model_trainer.cc(505) LOG(INFO) EM sub_iter=0 size=8800 obj=15.3757 num_tokens=769363 num_tokens/piece=87.4276\n",
      "unigram_model_trainer.cc(505) LOG(INFO) EM sub_iter=1 size=8800 obj=15.307 num_tokens=769367 num_tokens/piece=87.4281\n",
      "trainer_interface.cc(615) LOG(INFO) Saving model: korean_spm.model\n",
      "trainer_interface.cc(626) LOG(INFO) Saving vocabs: korean_spm.vocab\n"
     ]
    }
   ],
   "source": [
    "import sentencepiece as spm\n",
    "import os\n",
    "temp_file = os.getenv('HOME')+'/aiffel/sp_tokenizer/data/korean-english-park.train.ko.temp'\n",
    "\n",
    "vocab_size = 8000\n",
    "\n",
    "with open(temp_file, 'w') as f:\n",
    "    for row in filtered_corpus:   # 이전에 나왔던 정제했던 corpus를 활용해서 진행해야 합니다.\n",
    "        f.write(str(row) + '\\n')\n",
    "\n",
    "spm.SentencePieceTrainer.Train(\n",
    "    '--input={} --model_prefix=korean_spm --vocab_size={}'.format(temp_file, vocab_size)    \n",
    ")\n",
    "#위 Train에서  --model_type = unigram이 디폴트 적용되어 있습니다. --model_type = bpe로 옵션을 주어 변경할 수 있습니다.\n"
   ]
  },
  {
   "cell_type": "code",
   "execution_count": 7,
   "id": "c02a2d20",
   "metadata": {},
   "outputs": [
    {
     "name": "stdout",
     "output_type": "stream",
     "text": [
      "-rw-r--r-- 1 root root 376816 Dec 27 06:59 korean_spm.model\r\n",
      "-rw-r--r-- 1 root root 146213 Dec 27 06:59 korean_spm.vocab\r\n"
     ]
    }
   ],
   "source": [
    "!ls -l korean_spm*"
   ]
  },
  {
   "cell_type": "code",
   "execution_count": 8,
   "id": "9d4c6a4e",
   "metadata": {},
   "outputs": [
    {
     "name": "stdout",
     "output_type": "stream",
     "text": [
      "[1243, 11, 302, 7, 3608, 11, 287, 38, 3]\n",
      "['▁아버지', '가', '방', '에', '들어', '가', '신', '다', '.']\n",
      "아버지가방에들어가신다.\n"
     ]
    }
   ],
   "source": [
    "s = spm.SentencePieceProcessor()\n",
    "s.Load('korean_spm.model')\n",
    "\n",
    "# SentencePiece를 활용한 sentence -> encoding\n",
    "tokensIDs = s.EncodeAsIds('아버지가방에들어가신다.')\n",
    "print(tokensIDs)\n",
    "\n",
    "# SentencePiece를 활용한 sentence -> encoded pieces\n",
    "print(s.SampleEncodeAsPieces('아버지가방에들어가신다.',1, 0.0))\n",
    "\n",
    "# SentencePiece를 활용한 encoding -> sentence 복원\n",
    "print(s.DecodeIds(tokensIDs))"
   ]
  },
  {
   "cell_type": "markdown",
   "id": "297c361a",
   "metadata": {},
   "source": [
    "# step 3. Tokenizer 함수 작성"
   ]
  },
  {
   "cell_type": "code",
   "execution_count": 9,
   "id": "61fb3639",
   "metadata": {},
   "outputs": [],
   "source": [
    "def sp_tokenize(s, corpus): \n",
    "\n",
    "    tensor = []\n",
    "\n",
    "    for sen in corpus:\n",
    "        tensor.append(s.EncodeAsIds(sen))\n",
    "\n",
    "    with open(\"./korean_spm.vocab\", 'r') as f:\n",
    "        vocab = f.readlines()\n",
    "\n",
    "    word_index = {}\n",
    "    index_word = {}\n",
    "\n",
    "    for idx, line in enumerate(vocab):\n",
    "        word = line.split(\"\\t\")[0]\n",
    "\n",
    "        word_index.update({word:idx})\n",
    "        index_word.update({idx:word})\n",
    "\n",
    "    tensor = tf.keras.preprocessing.sequence.pad_sequences(tensor, padding='post')\n",
    "\n",
    "    return tensor, word_index, index_word"
   ]
  },
  {
   "cell_type": "markdown",
   "id": "1e1ca576",
   "metadata": {},
   "source": [
    "# step 4. 네이버 영화리뷰 감정 분석 문제에 SentencePiece 적용해 보기"
   ]
  },
  {
   "cell_type": "markdown",
   "id": "69ebf44a",
   "metadata": {},
   "source": [
    "## 데이터 준비 및 로드"
   ]
  },
  {
   "cell_type": "code",
   "execution_count": 10,
   "id": "72d06700",
   "metadata": {},
   "outputs": [],
   "source": [
    "import os\n",
    "\n",
    "train_file = os.getenv(\"HOME\") + \"/aiffel/sentiment_classification/ratings_train.txt\"\n",
    "test_file = os.getenv(\"HOME\") + \"/aiffel/sentiment_classification/ratings_test.txt\""
   ]
  },
  {
   "cell_type": "code",
   "execution_count": 11,
   "id": "d2c3a4b7",
   "metadata": {},
   "outputs": [],
   "source": [
    "import pandas as pd\n",
    "\n",
    "train_data = pd.read_table(train_file)\n",
    "test_data = pd.read_table(test_file)"
   ]
  },
  {
   "cell_type": "code",
   "execution_count": 12,
   "id": "030af922",
   "metadata": {},
   "outputs": [
    {
     "data": {
      "text/html": [
       "<div>\n",
       "<style scoped>\n",
       "    .dataframe tbody tr th:only-of-type {\n",
       "        vertical-align: middle;\n",
       "    }\n",
       "\n",
       "    .dataframe tbody tr th {\n",
       "        vertical-align: top;\n",
       "    }\n",
       "\n",
       "    .dataframe thead th {\n",
       "        text-align: right;\n",
       "    }\n",
       "</style>\n",
       "<table border=\"1\" class=\"dataframe\">\n",
       "  <thead>\n",
       "    <tr style=\"text-align: right;\">\n",
       "      <th></th>\n",
       "      <th>id</th>\n",
       "      <th>document</th>\n",
       "      <th>label</th>\n",
       "    </tr>\n",
       "  </thead>\n",
       "  <tbody>\n",
       "    <tr>\n",
       "      <th>0</th>\n",
       "      <td>9976970</td>\n",
       "      <td>아 더빙.. 진짜 짜증나네요 목소리</td>\n",
       "      <td>0</td>\n",
       "    </tr>\n",
       "    <tr>\n",
       "      <th>1</th>\n",
       "      <td>3819312</td>\n",
       "      <td>흠...포스터보고 초딩영화줄....오버연기조차 가볍지 않구나</td>\n",
       "      <td>1</td>\n",
       "    </tr>\n",
       "    <tr>\n",
       "      <th>2</th>\n",
       "      <td>10265843</td>\n",
       "      <td>너무재밓었다그래서보는것을추천한다</td>\n",
       "      <td>0</td>\n",
       "    </tr>\n",
       "    <tr>\n",
       "      <th>3</th>\n",
       "      <td>9045019</td>\n",
       "      <td>교도소 이야기구먼 ..솔직히 재미는 없다..평점 조정</td>\n",
       "      <td>0</td>\n",
       "    </tr>\n",
       "    <tr>\n",
       "      <th>4</th>\n",
       "      <td>6483659</td>\n",
       "      <td>사이몬페그의 익살스런 연기가 돋보였던 영화!스파이더맨에서 늙어보이기만 했던 커스틴 ...</td>\n",
       "      <td>1</td>\n",
       "    </tr>\n",
       "  </tbody>\n",
       "</table>\n",
       "</div>"
      ],
      "text/plain": [
       "         id                                           document  label\n",
       "0   9976970                                아 더빙.. 진짜 짜증나네요 목소리      0\n",
       "1   3819312                  흠...포스터보고 초딩영화줄....오버연기조차 가볍지 않구나      1\n",
       "2  10265843                                  너무재밓었다그래서보는것을추천한다      0\n",
       "3   9045019                      교도소 이야기구먼 ..솔직히 재미는 없다..평점 조정      0\n",
       "4   6483659  사이몬페그의 익살스런 연기가 돋보였던 영화!스파이더맨에서 늙어보이기만 했던 커스틴 ...      1"
      ]
     },
     "execution_count": 12,
     "metadata": {},
     "output_type": "execute_result"
    }
   ],
   "source": [
    "train_data.head()"
   ]
  },
  {
   "cell_type": "code",
   "execution_count": 13,
   "id": "bf143826",
   "metadata": {},
   "outputs": [
    {
     "data": {
      "text/html": [
       "<div>\n",
       "<style scoped>\n",
       "    .dataframe tbody tr th:only-of-type {\n",
       "        vertical-align: middle;\n",
       "    }\n",
       "\n",
       "    .dataframe tbody tr th {\n",
       "        vertical-align: top;\n",
       "    }\n",
       "\n",
       "    .dataframe thead th {\n",
       "        text-align: right;\n",
       "    }\n",
       "</style>\n",
       "<table border=\"1\" class=\"dataframe\">\n",
       "  <thead>\n",
       "    <tr style=\"text-align: right;\">\n",
       "      <th></th>\n",
       "      <th>id</th>\n",
       "      <th>document</th>\n",
       "      <th>label</th>\n",
       "    </tr>\n",
       "  </thead>\n",
       "  <tbody>\n",
       "    <tr>\n",
       "      <th>0</th>\n",
       "      <td>6270596</td>\n",
       "      <td>굳 ㅋ</td>\n",
       "      <td>1</td>\n",
       "    </tr>\n",
       "    <tr>\n",
       "      <th>1</th>\n",
       "      <td>9274899</td>\n",
       "      <td>GDNTOPCLASSINTHECLUB</td>\n",
       "      <td>0</td>\n",
       "    </tr>\n",
       "    <tr>\n",
       "      <th>2</th>\n",
       "      <td>8544678</td>\n",
       "      <td>뭐야 이 평점들은.... 나쁘진 않지만 10점 짜리는 더더욱 아니잖아</td>\n",
       "      <td>0</td>\n",
       "    </tr>\n",
       "    <tr>\n",
       "      <th>3</th>\n",
       "      <td>6825595</td>\n",
       "      <td>지루하지는 않은데 완전 막장임... 돈주고 보기에는....</td>\n",
       "      <td>0</td>\n",
       "    </tr>\n",
       "    <tr>\n",
       "      <th>4</th>\n",
       "      <td>6723715</td>\n",
       "      <td>3D만 아니었어도 별 다섯 개 줬을텐데.. 왜 3D로 나와서 제 심기를 불편하게 하죠??</td>\n",
       "      <td>0</td>\n",
       "    </tr>\n",
       "  </tbody>\n",
       "</table>\n",
       "</div>"
      ],
      "text/plain": [
       "        id                                           document  label\n",
       "0  6270596                                                굳 ㅋ      1\n",
       "1  9274899                               GDNTOPCLASSINTHECLUB      0\n",
       "2  8544678             뭐야 이 평점들은.... 나쁘진 않지만 10점 짜리는 더더욱 아니잖아      0\n",
       "3  6825595                   지루하지는 않은데 완전 막장임... 돈주고 보기에는....      0\n",
       "4  6723715  3D만 아니었어도 별 다섯 개 줬을텐데.. 왜 3D로 나와서 제 심기를 불편하게 하죠??      0"
      ]
     },
     "execution_count": 13,
     "metadata": {},
     "output_type": "execute_result"
    }
   ],
   "source": [
    "test_data.head()"
   ]
  },
  {
   "cell_type": "code",
   "execution_count": 14,
   "id": "ea0d21ab",
   "metadata": {},
   "outputs": [
    {
     "name": "stdout",
     "output_type": "stream",
     "text": [
      "150000 50000\n"
     ]
    }
   ],
   "source": [
    "print(len(train_data), len(test_data))"
   ]
  },
  {
   "cell_type": "markdown",
   "id": "c3e212c2",
   "metadata": {},
   "source": [
    "train_data: 15만개, test_data: 5만개 데이터가 있음을 확인"
   ]
  },
  {
   "cell_type": "markdown",
   "id": "c3816b53",
   "metadata": {},
   "source": [
    "## 중복치 확인 및 제거"
   ]
  },
  {
   "cell_type": "markdown",
   "id": "78e39180",
   "metadata": {},
   "source": [
    "데이터에 중복치가 있는지 확인하고 있는 경우 제외를 한다."
   ]
  },
  {
   "cell_type": "code",
   "execution_count": 15,
   "id": "f5c1b79b",
   "metadata": {},
   "outputs": [
    {
     "data": {
      "text/plain": [
       "3817"
      ]
     },
     "execution_count": 15,
     "metadata": {},
     "output_type": "execute_result"
    }
   ],
   "source": [
    "train_data[\"document\"].duplicated().sum()"
   ]
  },
  {
   "cell_type": "markdown",
   "id": "8cbedbf6",
   "metadata": {},
   "source": [
    "약 3817개의 중복데이터가 있음을 확인하였다."
   ]
  },
  {
   "cell_type": "code",
   "execution_count": 16,
   "id": "5c9231f0",
   "metadata": {},
   "outputs": [],
   "source": [
    "train_data = train_data.drop_duplicates(subset=['document'])"
   ]
  },
  {
   "cell_type": "code",
   "execution_count": 17,
   "id": "12d05e04",
   "metadata": {},
   "outputs": [
    {
     "name": "stdout",
     "output_type": "stream",
     "text": [
      "146183\n"
     ]
    }
   ],
   "source": [
    "print(len(train_data))"
   ]
  },
  {
   "cell_type": "markdown",
   "id": "0b8f0a4e",
   "metadata": {},
   "source": [
    "## 대소문자 합침"
   ]
  },
  {
   "cell_type": "markdown",
   "id": "deb6b12e",
   "metadata": {},
   "source": [
    "영어 대소문자가 있다면 큰 의미가 있을것 같지 않으니 다 소문자화 시켜줌."
   ]
  },
  {
   "cell_type": "code",
   "execution_count": 18,
   "id": "090f2047",
   "metadata": {},
   "outputs": [],
   "source": [
    "train_data[\"_document\"] = train_data[\"document\"].apply(lambda s: str(s).lower())"
   ]
  },
  {
   "cell_type": "markdown",
   "id": "1df868dd",
   "metadata": {},
   "source": [
    "## 문장 길이 선택"
   ]
  },
  {
   "cell_type": "code",
   "execution_count": 19,
   "id": "5c1dd730",
   "metadata": {},
   "outputs": [],
   "source": [
    "train_data[\"num_letter\"] = train_data[\"document\"].apply(lambda s: len(str(s)))"
   ]
  },
  {
   "cell_type": "code",
   "execution_count": 20,
   "id": "606710b4",
   "metadata": {},
   "outputs": [
    {
     "data": {
      "text/plain": [
       "count    146183.000000\n",
       "mean         35.981113\n",
       "std          29.491258\n",
       "min           1.000000\n",
       "25%          16.000000\n",
       "50%          27.000000\n",
       "75%          43.000000\n",
       "max         146.000000\n",
       "Name: num_letter, dtype: float64"
      ]
     },
     "execution_count": 20,
     "metadata": {},
     "output_type": "execute_result"
    }
   ],
   "source": [
    "train_data[\"num_letter\"].describe()"
   ]
  },
  {
   "cell_type": "code",
   "execution_count": 21,
   "id": "a83f39bd",
   "metadata": {},
   "outputs": [],
   "source": [
    "max_len = 146"
   ]
  },
  {
   "cell_type": "code",
   "execution_count": 22,
   "id": "a0d784db",
   "metadata": {},
   "outputs": [
    {
     "data": {
      "image/png": "[encoded data removed]",
      "text/plain": [
       "<Figure size 432x288 with 1 Axes>"
      ]
     },
     "metadata": {
      "needs_background": "light"
     },
     "output_type": "display_data"
    }
   ],
   "source": [
    "sentence_length = np.zeros((max_len,))\n",
    "for sen in train_data[\"_document\"]:   # 중복이 제거된 코퍼스 기준\n",
    "    sentence_length[len(sen)-1] += 1\n",
    "\n",
    "plt.bar(range(max_len), sentence_length, width=1.0)\n",
    "plt.title(\"Sentence Length Distribution\")\n",
    "plt.show()"
   ]
  },
  {
   "cell_type": "markdown",
   "id": "6049819b",
   "metadata": {},
   "source": [
    "위 그림과 describe 수치 통계를 기반으로 max_len을 50으로 정하고 자름"
   ]
  },
  {
   "cell_type": "code",
   "execution_count": 23,
   "id": "7f9de9fa",
   "metadata": {},
   "outputs": [],
   "source": [
    "max_len = 50"
   ]
  },
  {
   "cell_type": "code",
   "execution_count": 24,
   "id": "0399bdab",
   "metadata": {},
   "outputs": [],
   "source": [
    "train_data[\"_document\"] = train_data[\"_document\"].apply(lambda s: s[:50])"
   ]
  },
  {
   "cell_type": "markdown",
   "id": "a9fc994f",
   "metadata": {},
   "source": [
    "## 형태소 기반 토큰화 적용"
   ]
  },
  {
   "cell_type": "code",
   "execution_count": 25,
   "id": "35920a93",
   "metadata": {},
   "outputs": [],
   "source": [
    "from konlpy.tag import Mecab\n",
    "\n",
    "mecab = Mecab()"
   ]
  },
  {
   "cell_type": "code",
   "execution_count": 26,
   "id": "9dc5cb11",
   "metadata": {},
   "outputs": [],
   "source": [
    "def tokenize(corpus, num_words=8000, maxlen=max_len):\n",
    "    tokenizer = tf.keras.preprocessing.text.Tokenizer(filters='', num_words=num_words)\n",
    "    tokenizer.fit_on_texts(corpus)\n",
    "\n",
    "    tensor = tokenizer.texts_to_sequences(corpus)\n",
    "\n",
    "    tensor = tf.keras.preprocessing.sequence.pad_sequences(tensor, padding='post', maxlen=maxlen)\n",
    "\n",
    "    return tensor, tokenizer"
   ]
  },
  {
   "cell_type": "code",
   "execution_count": 27,
   "id": "88102656",
   "metadata": {},
   "outputs": [],
   "source": [
    "from konlpy.tag import Mecab\n",
    "\n",
    "def mecab_split(sentence):\n",
    "    return mecab.morphs(sentence)\n",
    "\n",
    "mecab_corpus = []\n",
    "\n",
    "for sen in train_data[\"_document\"]:\n",
    "    mecab_corpus.append(mecab_split(sen))"
   ]
  },
  {
   "cell_type": "code",
   "execution_count": 28,
   "id": "6e6ec750",
   "metadata": {},
   "outputs": [
    {
     "name": "stdout",
     "output_type": "stream",
     "text": [
      "48670\n",
      "50 7999\n"
     ]
    }
   ],
   "source": [
    "mecab_tensor, mecab_tokenizer = tokenize(mecab_corpus, 8000, max_len)\n",
    "\n",
    "print(len(mecab_tokenizer.word_index))\n",
    "print(len(mecab_tensor[0]), mecab_tensor.max())"
   ]
  },
  {
   "cell_type": "markdown",
   "id": "cdda8f78",
   "metadata": {},
   "source": [
    "8000개의 단어 사전을 활용하는 길이 50의 mecab_tensor 생성"
   ]
  },
  {
   "cell_type": "markdown",
   "id": "372245e0",
   "metadata": {},
   "source": [
    "## sentence piece 토큰화 적용"
   ]
  },
  {
   "cell_type": "code",
   "execution_count": 29,
   "id": "2424c3db",
   "metadata": {},
   "outputs": [],
   "source": [
    "import sentencepiece as spm\n",
    "\n",
    "def sentence_piece_train(model_type, vocab_size):\n",
    "    train_file = os.getenv(\"HOME\") + \"/aiffel/sentiment_classification/ratings_train.txt.temp\"\n",
    "    with open(train_file, 'w') as f:\n",
    "        for row in train_data[\"_document\"].to_numpy():   \n",
    "            f.write(str(row) + '\\n')\n",
    "\n",
    "    spm.SentencePieceTrainer.Train(\n",
    "        '--input={} --model_type={} --model_prefix=ratings_{} --vocab_size={}'.format(\n",
    "            train_file, model_type, model_type, vocab_size\n",
    "        )    \n",
    "    )"
   ]
  },
  {
   "cell_type": "code",
   "execution_count": 30,
   "id": "d1cf1535",
   "metadata": {},
   "outputs": [
    {
     "name": "stderr",
     "output_type": "stream",
     "text": [
      "sentencepiece_trainer.cc(177) LOG(INFO) Running command: --input=/aiffel/aiffel/sentiment_classification/ratings_train.txt.temp --model_type=unigram --model_prefix=ratings_unigram --vocab_size=8000\n",
      "sentencepiece_trainer.cc(77) LOG(INFO) Starts training with : \n",
      "trainer_spec {\n",
      "  input: /aiffel/aiffel/sentiment_classification/ratings_train.txt.temp\n",
      "  input_format: \n",
      "  model_prefix: ratings_unigram\n",
      "  model_type: UNIGRAM\n",
      "  vocab_size: 8000\n",
      "  self_test_sample_size: 0\n",
      "  character_coverage: 0.9995\n",
      "  input_sentence_size: 0\n",
      "  shuffle_input_sentence: 1\n",
      "  seed_sentencepiece_size: 1000000\n",
      "  shrinking_factor: 0.75\n",
      "  max_sentence_length: 4192\n",
      "  num_threads: 16\n",
      "  num_sub_iterations: 2\n",
      "  max_sentencepiece_length: 16\n",
      "  split_by_unicode_script: 1\n",
      "  split_by_number: 1\n",
      "  split_by_whitespace: 1\n",
      "  split_digits: 0\n",
      "  treat_whitespace_as_suffix: 0\n",
      "  allow_whitespace_only_pieces: 0\n",
      "  required_chars: \n",
      "  byte_fallback: 0\n",
      "  vocabulary_output_piece_score: 1\n",
      "  train_extremely_large_corpus: 0\n",
      "  hard_vocab_limit: 1\n",
      "  use_all_vocab: 0\n",
      "  unk_id: 0\n",
      "  bos_id: 1\n",
      "  eos_id: 2\n",
      "  pad_id: -1\n",
      "  unk_piece: <unk>\n",
      "  bos_piece: <s>\n",
      "  eos_piece: </s>\n",
      "  pad_piece: <pad>\n",
      "  unk_surface:  ⁇ \n",
      "}\n",
      "normalizer_spec {\n",
      "  name: nmt_nfkc\n",
      "  add_dummy_prefix: 1\n",
      "  remove_extra_whitespaces: 1\n",
      "  escape_whitespaces: 1\n",
      "  normalization_rule_tsv: \n",
      "}\n",
      "denormalizer_spec {}\n",
      "trainer_interface.cc(329) LOG(INFO) SentenceIterator is not specified. Using MultiFileSentenceIterator.\n",
      "trainer_interface.cc(178) LOG(INFO) Loading corpus: /aiffel/aiffel/sentiment_classification/ratings_train.txt.temp\n",
      "trainer_interface.cc(385) LOG(INFO) Loaded all 146183 sentences\n",
      "trainer_interface.cc(400) LOG(INFO) Adding meta_piece: <unk>\n",
      "trainer_interface.cc(400) LOG(INFO) Adding meta_piece: <s>\n",
      "trainer_interface.cc(400) LOG(INFO) Adding meta_piece: </s>\n",
      "trainer_interface.cc(405) LOG(INFO) Normalizing sentences...\n",
      "trainer_interface.cc(466) LOG(INFO) all chars count=4392011\n",
      "trainer_interface.cc(477) LOG(INFO) Done: 99.95% characters are covered.\n",
      "trainer_interface.cc(487) LOG(INFO) Alphabet size=1701\n",
      "trainer_interface.cc(488) LOG(INFO) Final character coverage=0.9995\n",
      "trainer_interface.cc(520) LOG(INFO) Done! preprocessed 146183 sentences.\n",
      "unigram_model_trainer.cc(139) LOG(INFO) Making suffix array...\n",
      "unigram_model_trainer.cc(143) LOG(INFO) Extracting frequent sub strings...\n",
      "unigram_model_trainer.cc(194) LOG(INFO) Initialized 259935 seed sentencepieces\n",
      "trainer_interface.cc(526) LOG(INFO) Tokenizing input sentences with whitespace: 146183\n",
      "trainer_interface.cc(537) LOG(INFO) Done! 297988\n",
      "unigram_model_trainer.cc(489) LOG(INFO) Using 297988 sentences for EM training\n",
      "unigram_model_trainer.cc(505) LOG(INFO) EM sub_iter=0 size=134243 obj=15.2483 num_tokens=695575 num_tokens/piece=5.18146\n",
      "unigram_model_trainer.cc(505) LOG(INFO) EM sub_iter=1 size=124711 obj=14.2161 num_tokens=699710 num_tokens/piece=5.61065\n",
      "unigram_model_trainer.cc(505) LOG(INFO) EM sub_iter=0 size=93487 obj=14.3255 num_tokens=729597 num_tokens/piece=7.80426\n",
      "unigram_model_trainer.cc(505) LOG(INFO) EM sub_iter=1 size=93338 obj=14.2685 num_tokens=730692 num_tokens/piece=7.82845\n",
      "unigram_model_trainer.cc(505) LOG(INFO) EM sub_iter=0 size=70001 obj=14.5122 num_tokens=768255 num_tokens/piece=10.9749\n",
      "unigram_model_trainer.cc(505) LOG(INFO) EM sub_iter=1 size=69990 obj=14.4483 num_tokens=768416 num_tokens/piece=10.9789\n",
      "unigram_model_trainer.cc(505) LOG(INFO) EM sub_iter=0 size=52492 obj=14.7114 num_tokens=804091 num_tokens/piece=15.3184\n",
      "unigram_model_trainer.cc(505) LOG(INFO) EM sub_iter=1 size=52492 obj=14.6483 num_tokens=804092 num_tokens/piece=15.3184\n",
      "unigram_model_trainer.cc(505) LOG(INFO) EM sub_iter=0 size=39369 obj=14.9541 num_tokens=842826 num_tokens/piece=21.4084\n",
      "unigram_model_trainer.cc(505) LOG(INFO) EM sub_iter=1 size=39369 obj=14.8873 num_tokens=842851 num_tokens/piece=21.409\n",
      "unigram_model_trainer.cc(505) LOG(INFO) EM sub_iter=0 size=29526 obj=15.2233 num_tokens=882274 num_tokens/piece=29.8813\n",
      "unigram_model_trainer.cc(505) LOG(INFO) EM sub_iter=1 size=29526 obj=15.1542 num_tokens=882338 num_tokens/piece=29.8834\n",
      "unigram_model_trainer.cc(505) LOG(INFO) EM sub_iter=0 size=22144 obj=15.5221 num_tokens=922824 num_tokens/piece=41.6738\n",
      "unigram_model_trainer.cc(505) LOG(INFO) EM sub_iter=1 size=22144 obj=15.4473 num_tokens=922837 num_tokens/piece=41.6744\n",
      "unigram_model_trainer.cc(505) LOG(INFO) EM sub_iter=0 size=16608 obj=15.8446 num_tokens=966043 num_tokens/piece=58.1673\n",
      "unigram_model_trainer.cc(505) LOG(INFO) EM sub_iter=1 size=16608 obj=15.7611 num_tokens=966053 num_tokens/piece=58.1679\n",
      "unigram_model_trainer.cc(505) LOG(INFO) EM sub_iter=0 size=12456 obj=16.1931 num_tokens=1011063 num_tokens/piece=81.1708\n",
      "unigram_model_trainer.cc(505) LOG(INFO) EM sub_iter=1 size=12456 obj=16.0918 num_tokens=1011206 num_tokens/piece=81.1822\n",
      "unigram_model_trainer.cc(505) LOG(INFO) EM sub_iter=0 size=9342 obj=16.5753 num_tokens=1059190 num_tokens/piece=113.379\n",
      "unigram_model_trainer.cc(505) LOG(INFO) EM sub_iter=1 size=9342 obj=16.469 num_tokens=1059205 num_tokens/piece=113.381\n",
      "unigram_model_trainer.cc(505) LOG(INFO) EM sub_iter=0 size=8800 obj=16.5668 num_tokens=1069212 num_tokens/piece=121.501\n",
      "unigram_model_trainer.cc(505) LOG(INFO) EM sub_iter=1 size=8800 obj=16.544 num_tokens=1069354 num_tokens/piece=121.517\n",
      "trainer_interface.cc(615) LOG(INFO) Saving model: ratings_unigram.model\n",
      "trainer_interface.cc(626) LOG(INFO) Saving vocabs: ratings_unigram.vocab\n",
      "sentencepiece_trainer.cc(177) LOG(INFO) Running command: --input=/aiffel/aiffel/sentiment_classification/ratings_train.txt.temp --model_type=bpe --model_prefix=ratings_bpe --vocab_size=8000\n",
      "sentencepiece_trainer.cc(77) LOG(INFO) Starts training with : \n",
      "trainer_spec {\n",
      "  input: /aiffel/aiffel/sentiment_classification/ratings_train.txt.temp\n",
      "  input_format: \n",
      "  model_prefix: ratings_bpe\n",
      "  model_type: BPE\n",
      "  vocab_size: 8000\n",
      "  self_test_sample_size: 0\n",
      "  character_coverage: 0.9995\n",
      "  input_sentence_size: 0\n",
      "  shuffle_input_sentence: 1\n",
      "  seed_sentencepiece_size: 1000000\n",
      "  shrinking_factor: 0.75\n",
      "  max_sentence_length: 4192\n",
      "  num_threads: 16\n",
      "  num_sub_iterations: 2\n",
      "  max_sentencepiece_length: 16\n",
      "  split_by_unicode_script: 1\n",
      "  split_by_number: 1\n",
      "  split_by_whitespace: 1\n",
      "  split_digits: 0\n",
      "  treat_whitespace_as_suffix: 0\n",
      "  allow_whitespace_only_pieces: 0\n",
      "  required_chars: \n",
      "  byte_fallback: 0\n",
      "  vocabulary_output_piece_score: 1\n",
      "  train_extremely_large_corpus: 0\n",
      "  hard_vocab_limit: 1\n",
      "  use_all_vocab: 0\n",
      "  unk_id: 0\n",
      "  bos_id: 1\n",
      "  eos_id: 2\n",
      "  pad_id: -1\n",
      "  unk_piece: <unk>\n",
      "  bos_piece: <s>\n",
      "  eos_piece: </s>\n",
      "  pad_piece: <pad>\n",
      "  unk_surface:  ⁇ \n",
      "}\n",
      "normalizer_spec {\n",
      "  name: nmt_nfkc\n",
      "  add_dummy_prefix: 1\n",
      "  remove_extra_whitespaces: 1\n",
      "  escape_whitespaces: 1\n",
      "  normalization_rule_tsv: \n",
      "}\n",
      "denormalizer_spec {}\n",
      "trainer_interface.cc(329) LOG(INFO) SentenceIterator is not specified. Using MultiFileSentenceIterator.\n",
      "trainer_interface.cc(178) LOG(INFO) Loading corpus: /aiffel/aiffel/sentiment_classification/ratings_train.txt.temp\n",
      "trainer_interface.cc(385) LOG(INFO) Loaded all 146183 sentences\n",
      "trainer_interface.cc(400) LOG(INFO) Adding meta_piece: <unk>\n",
      "trainer_interface.cc(400) LOG(INFO) Adding meta_piece: <s>\n",
      "trainer_interface.cc(400) LOG(INFO) Adding meta_piece: </s>\n",
      "trainer_interface.cc(405) LOG(INFO) Normalizing sentences...\n",
      "trainer_interface.cc(466) LOG(INFO) all chars count=4392011\n",
      "trainer_interface.cc(477) LOG(INFO) Done: 99.95% characters are covered.\n",
      "trainer_interface.cc(487) LOG(INFO) Alphabet size=1701\n",
      "trainer_interface.cc(488) LOG(INFO) Final character coverage=0.9995\n",
      "trainer_interface.cc(520) LOG(INFO) Done! preprocessed 146183 sentences.\n",
      "trainer_interface.cc(526) LOG(IN"
     ]
    }
   ],
   "source": [
    "vocab_size = 8000\n",
    "sentence_piece_train('unigram', vocab_size)\n",
    "sentence_piece_train(\"bpe\", vocab_size)"
   ]
  },
  {
   "cell_type": "code",
   "execution_count": 31,
   "id": "2eda550a",
   "metadata": {},
   "outputs": [
    {
     "name": "stderr",
     "output_type": "stream",
     "text": [
      "FO) Tokenizing input sentences with whitespace: 146183\n",
      "trainer_interface.cc(537) LOG(INFO) Done! 297988\n",
      "bpe_model_trainer.cc(167) LOG(INFO) Updating active symbols. max_freq=61032 min_freq=80\n",
      "bpe_model_trainer.cc(258) LOG(INFO) Added: freq=9107 size=20 all=100751 active=9723 piece=▁하\n",
      "bpe_model_trainer.cc(258) LOG(INFO) Added: freq=7076 size=40 all=104406 active=13378 piece=▁안\n",
      "bpe_model_trainer.cc(258) LOG(INFO) Added: freq=5030 size=60 all=107792 active=16764 piece=▁수\n",
      "bpe_model_trainer.cc(258) LOG(INFO) Added: freq=4266 size=80 all=111638 active=20610 piece=▁인\n",
      "bpe_model_trainer.cc(258) LOG(INFO) Added: freq=3384 size=100 all=114830 active=23802 piece=▁같\n",
      "bpe_model_trainer.cc(167) LOG(INFO) Updating active symbols. max_freq=3369 min_freq=66\n",
      "bpe_model_trainer.cc(258) LOG(INFO) Added: freq=3002 size=120 all=117779 active=8651 piece=▁완\n",
      "bpe_model_trainer.cc(258) LOG(INFO) Added: freq=2654 size=140 all=120012 active=10884 piece=▁저\n",
      "bpe_model_trainer.cc(258) LOG(INFO) Added: freq=2353 size=160 all=122438 active=13310 piece=▁영화를\n",
      "bpe_model_trainer.cc(258) LOG(INFO) Added: freq=2106 size=180 all=124164 active=15036 piece=▁완전\n",
      "bpe_model_trainer.cc(258) LOG(INFO) Added: freq=1980 size=200 all=126252 active=17124 piece=▁없는\n",
      "bpe_model_trainer.cc(167) LOG(INFO) Updating active symbols. max_freq=1967 min_freq=58\n",
      "bpe_model_trainer.cc(258) LOG(INFO) Added: freq=1805 size=220 all=128807 active=8838 piece=적이\n",
      "bpe_model_trainer.cc(258) LOG(INFO) Added: freq=1662 size=240 all=131147 active=11178 piece=▁현\n",
      "bpe_model_trainer.cc(258) LOG(INFO) Added: freq=1551 size=260 all=133205 active=13236 piece=들은\n",
      "bpe_model_trainer.cc(258) LOG(INFO) Added: freq=1466 size=280 all=135094 active=15125 piece=있는\n",
      "bpe_model_trainer.cc(258) LOG(INFO) Added: freq=1350 size=300 all=137540 active=17571 piece=배우\n",
      "bpe_model_trainer.cc(167) LOG(INFO) Updating active symbols. max_freq=1347 min_freq=52\n",
      "bpe_model_trainer.cc(258) LOG(INFO) Added: freq=1266 size=320 all=139814 active=8892 piece=▁발\n",
      "bpe_model_trainer.cc(258) LOG(INFO) Added: freq=1165 size=340 all=141763 active=10841 piece=▁차\n",
      "bpe_model_trainer.cc(258) LOG(INFO) Added: freq=1118 size=360 all=143490 active=12568 piece=미디\n",
      "bpe_model_trainer.cc(258) LOG(INFO) Added: freq=1076 size=380 all=145170 active=14248 piece=▁이상\n",
      "bpe_model_trainer.cc(258) LOG(INFO) Added: freq=1044 size=400 all=146828 active=15906 piece=나는\n",
      "bpe_model_trainer.cc(167) LOG(INFO) Updating active symbols. max_freq=1041 min_freq=48\n",
      "bpe_model_trainer.cc(258) LOG(INFO) Added: freq=991 size=420 all=148548 active=8918 piece=▁인생\n",
      "bpe_model_trainer.cc(258) LOG(INFO) Added: freq=943 size=440 all=149968 active=10338 piece=▁9\n",
      "bpe_model_trainer.cc(258) LOG(INFO) Added: freq=903 size=460 all=151362 active=11732 piece=▁있다\n",
      "bpe_model_trainer.cc(258) LOG(INFO) Added: freq=863 size=480 all=153116 active=13486 piece=▁8\n",
      "bpe_model_trainer.cc(258) LOG(INFO) Added: freq=835 size=500 all=154183 active=14553 piece=아요\n",
      "bpe_model_trainer.cc(167) LOG(INFO) Updating active symbols. max_freq=835 min_freq=45\n",
      "bpe_model_trainer.cc(258) LOG(INFO) Added: freq=794 size=520 all=155839 active=9276 piece=▁좋다\n",
      "bpe_model_trainer.cc(258) LOG(INFO) Added: freq=762 size=540 all=156933 active=10370 piece=떻게\n",
      "bpe_model_trainer.cc(258) LOG(INFO) Added: freq=740 size=560 all=158402 active=11839 piece=▁레\n",
      "bpe_model_trainer.cc(258) LOG(INFO) Added: freq=721 size=580 all=160148 active=13585 piece=된다\n",
      "bpe_model_trainer.cc(258) LOG(INFO) Added: freq=703 size=600 all=162287 active=15724 piece=준다\n",
      "bpe_model_trainer.cc(167) LOG(INFO) Updating active symbols. max_freq=702 min_freq=41\n",
      "bpe_model_trainer.cc(258) LOG(INFO) Added: freq=684 size=620 all=164268 active=10024 piece=생각\n",
      "bpe_model_trainer.cc(258) LOG(INFO) Added: freq=658 size=640 all=165928 active=11684 piece=내용\n",
      "bpe_model_trainer.cc(258) LOG(INFO) Added: freq=635 size=660 all=167565 active=13321 piece=▁아쉽\n",
      "bpe_model_trainer.cc(258) LOG(INFO) Added: freq=618 size=680 all=168755 active=14511 piece=▁보다가\n",
      "bpe_model_trainer.cc(258) LOG(INFO) Added: freq=594 size=700 all=169589 active=15345 piece=▁천\n",
      "bpe_model_trainer.cc(167) LOG(INFO) Updating active symbols. max_freq=593 min_freq=39\n",
      "bpe_model_trainer.cc(258) LOG(INFO) Added: freq=575 size=720 all=171471 active=10294 piece=있다\n",
      "bpe_model_trainer.cc(258) LOG(INFO) Added: freq=560 size=740 all=173381 active=12204 piece=난다\n",
      "bpe_model_trainer.cc(258) LOG(INFO) Added: freq=545 size=760 all=174825 active=13648 piece=_-\n",
      "bpe_model_trainer.cc(258) LOG(INFO) Added: freq=536 size=780 all=175652 active=14475 piece=▁나도\n",
      "bpe_model_trainer.cc(258) LOG(INFO) Added: freq=522 size=800 all=176713 active=15536 piece=▁스토리도\n",
      "bpe_model_trainer.cc(167) LOG(INFO) Updating active symbols. max_freq=521 min_freq=36\n",
      "bpe_model_trainer.cc(258) LOG(INFO) Added: freq=504 size=820 all=178187 active=10293 piece=진다\n",
      "bpe_model_trainer.cc(258) LOG(INFO) Added: freq=498 size=840 all=179439 active=11545 piece=으로도\n",
      "bpe_model_trainer.cc(258) LOG(INFO) Added: freq=489 size=860 all=180248 active=12354 piece=▁추억\n",
      "bpe_model_trainer.cc(258) LOG(INFO) Added: freq=477 size=880 all=181469 active=13575 piece=▁답답\n",
      "bpe_model_trainer.cc(258) LOG(INFO) Added: freq=464 size=900 all=182191 active=14296 piece=▁길\n",
      "bpe_model_trainer.cc(167) LOG(INFO) Updating active symbols. max_freq=463 min_freq=35\n",
      "bpe_model_trainer.cc(258) LOG(INFO) Added: freq=454 size=920 all=183720 active=10581 piece=한데\n",
      "bpe_model_trainer.cc(258) LOG(INFO) Added: freq=445 size=940 all=184810 active=11671 piece=▁훨\n",
      "bpe_model_trainer.cc(258) LOG(INFO) Added: freq=435 size=960 all=185904 active=12765 piece=▁이해가\n",
      "bpe_model_trainer.cc(258) LOG(INFO) Added: freq=427 size=980 all=186910 active=13771 piece=▁관객\n",
      "bpe_model_trainer.cc(258) LOG(INFO) Added: freq=418 size=1000 all=188042 active=14903 piece=▁흐\n",
      "bpe_model_trainer.cc(167) LOG(INFO) Updating active symbols. max_freq=418 min_freq=33\n",
      "bpe_model_trainer.cc(258) LOG(INFO) Added: freq=409 size=1020 all=189205 active=10530 piece=▁뛰\n",
      "bpe_model_trainer.cc(258) LOG(INFO) Added: freq=396 size=1040 all=190045 active=11370 piece=인줄\n",
      "bpe_model_trainer.cc(258) LOG(INFO) Added: freq=388 size=1060 all=191477 active=12802 piece=▁주제\n",
      "bpe_model_trainer.cc(258) LOG(INFO) Added: freq=378 size=1080 all=192619 active=13944 piece=재밋\n",
      "bpe_model_trainer.cc(258) LOG(INFO) Added: freq=369 size=1100 all=193657 active=14982 piece=▁낫\n",
      "bpe_model_trainer.cc(167) LOG(INFO) Updating active symbols. max_freq=369 min_freq=31\n",
      "bpe_model_trainer.cc(258) LOG(INFO) Added: freq=362 size=1120 all=194560 active=10557 piece=마디\n",
      "bpe_model_trainer.cc(258) LOG(INFO) Added: freq=355 size=1140 all=195438 active=11435 piece=▁왕\n",
      "bpe_model_trainer.cc(258) LOG(INFO) Added: freq=347 size=1160 all=196447 active=12444 piece=00\n",
      "bpe_model_trainer.cc(258) LOG(INFO) Added: freq=341 size=1180 all=197549 active=13546 piece=하며\n",
      "bpe_model_trainer.cc(258) LOG(INFO) Added: freq=334 size=1200 all=198596 active=14593 piece=▁감동도\n",
      "bpe_model_trainer.cc(167) LOG(INFO) Updating active symbols. max_freq=333 min_freq=30\n",
      "bpe_model_trainer.cc(258) LOG(INFO) Added: freq=328 size=1220 all=199648 active=10966 piece=▁여주인공\n",
      "bpe_model_trainer.cc(258) LOG(INFO) Added: freq=321 size=1240 all=200485 active=11803 piece=▁비슷\n",
      "bpe_model_trainer.cc(258) LOG(INFO) Added: freq=314 size=1260 all=201396 active=12714 piece=르는\n",
      "bpe_model_trainer.cc(258) LOG(INFO) Added: freq=307 size=1280 all=202635 active=13953 piece=땜에\n",
      "bpe_model_trainer.cc(258) LOG(INFO) Added: freq=301 size=1300 all=203644 active=14962 piece=라서\n",
      "bpe_model_trainer.cc(167) LOG(INFO) Updating active symbols. max_freq=301 min_freq=29\n",
      "bpe_model_trainer.cc(258) LOG(INFO) Added: freq=297 size=1320 all=204398 active=10811 piece=적이다\n",
      "bpe_model_trainer.cc(258) LOG(INFO) Added: freq=291 size=1340 all=205078 active=11491 piece=그런\n",
      "bpe_model_trainer.cc(258) LOG(INFO) Added: freq=285 size=1360 all=206439 active=12852 piece=라면\n",
      "bpe_model_trainer.cc(258) LOG(INFO) Added: freq=282 size=1380 all=207687 active=14100 piece=▁이영화를\n",
      "bpe_model_trainer.cc(258) LOG(INFO) Added: freq=277 size=1400 all=208458 active=14871 piece=????\n",
      "bpe_model_trainer.cc(167) LOG(INFO) Updating active symbols. max_freq=277 min_freq=28\n",
      "bpe_model_trainer.cc(258) LOG(INFO) Added: freq=272 size=1420 all=209325 active=11269 piece=▁예상\n",
      "bpe_model_trainer.cc(258) LOG(INFO) Added: freq=266 size=1440 all=210374 active=12318 piece=▁낮은\n",
      "bpe_model_trainer.cc(258) LOG(INFO) Added: freq=262 size=1460 all=211243 active=13187 piece=감이\n",
      "bpe_model_trainer.cc(258) LOG(INFO) Added: freq=257 size=1480 all=212204 active=14148 piece=▁빈\n",
      "bpe_model_trainer.cc(258) LOG(INFO) Added: freq=252 size=1500 all=213347 active=15291 piece=으니\n",
      "bpe_model_trainer.cc(167) LOG(INFO) Updating active symbols. max_freq=252 min_freq=27\n",
      "bpe_model_trainer.cc(258) LOG(INFO) Added: freq=248 size=1520 all=214351 active=11589 piece=▁굉장히\n",
      "bpe_model_trainer.cc(258) LOG(INFO) Added: freq=244 size=1540 all=215190 active=12428 piece=되고\n",
      "bpe_model_trainer.cc(258) LOG(INFO) Added: freq=241 size=1560 all=216131 active=13369 piece=▁여주\n",
      "bpe_model_trainer.cc(258) LOG(INFO) Added: freq=238 size=1580 all=216771 active=14009 piece=▁장면이\n",
      "bpe_model_trainer.cc(258) LOG(INFO) Added: freq=235 size=1600 all=217727 active=14965 piece=▁식상\n",
      "bpe_model_trainer.cc(167) LOG(INFO) Updating active symbols. max_freq=235 min_freq=26\n",
      "bpe_model_trainer.cc(258) LOG(INFO) Added: freq=231 size=1620 all=218509 active=11646 piece=▁해서\n",
      "bpe_model_trainer.cc(258) LOG(INFO) Added: freq=227 size=1640 all=219391 active=12528 piece=시다\n",
      "bpe_model_trainer.cc(258) LOG(INFO) Added: freq=223 size=1660 all=220451 active=13588 piece=없어\n",
      "bpe_model_trainer.cc(258) LOG(INFO) Added: freq=220 size=1680 all=221473 active=14610 piece=▁살인\n",
      "bpe_model_trainer.cc(258) LOG(INFO) Added: freq=217 size=1700 all=222369 active=15506 piece=▁w\n",
      "bpe_model_trainer.cc(167) LOG(INFO) Updating active symbols. max_freq=217 min_freq=25\n",
      "bpe_model_trainer.cc(258) LOG(INFO) Added: freq=215 size=1720 all=223136 active=11874 piece=▁좋네요\n",
      "bpe_model_trainer.cc(258) LOG(INFO) Added: freq=212 size=1740 all=223924 active=12662 piece=▁초등\n",
      "bpe_model_trainer.cc(258) LOG(INFO) Added: freq=210 size=1760 all=224654 active=13392 piece=▁충분히\n",
      "bpe_model_trainer.cc(258) LOG(INFO) Added: freq=207 size=1780 all=225116 active=13854 piece=▁멍청\n",
      "bpe_model_trainer.cc(258) LOG(INFO) Added: freq=205 size=1800 all=226155 active=14893 piece=▁사랑을\n",
      "bpe_model_trainer.cc(167) LOG(INFO) Updating active symbols. max_freq=204 min_freq=24\n",
      "bpe_model_trainer.cc(258) LOG(INFO) Added: freq=201 size=1820 all=226710 active=11856 piece=▁최근\n",
      "bpe_model_trainer.cc(258) LOG(INFO) Added: freq=198 size=1840 all=227285 active=12431 piece=이냐\n",
      "bpe_model_trainer.cc(258) LOG(INFO) Added: freq=195 size=1860 all=228288 active=13434 piece=이하\n",
      "bpe_model_trainer.cc(258) LOG(INFO) Added: freq=193 size=1880 all=229068 active=14214 piece=▁핵\n",
      "bpe_model_trainer.cc(258) LOG(INFO) Added: freq=191 size=1900 all=230168 active=15314 piece=▁그럴\n",
      "bpe_model_trainer.cc(167) LOG(INFO) Updating active symbols. max_freq=191 min_freq=24\n",
      "bpe_model_trainer.cc(258) LOG(INFO) Added: freq=189 size=1920 all=230683 active=11996 piece=웃음\n",
      "bpe_model_trainer.cc(258) LOG(INFO) Added: freq=186 size=1940 all=231482 active=12795 piece=▁분명\n",
      "bpe_model_trainer.cc(258) LOG(INFO) Added: freq=184 size=1960 all=232079 active=13392 piece=▁완성도\n",
      "bpe_model_trainer.cc(258) LOG(INFO) Added: freq=181 size=1980 all=233022 active=14334 piece=었으면\n",
      "bpe_model_trainer.cc(258) LOG(INFO) Added: freq=178 size=2000 all=233903 active=15215 piece=▁지난\n",
      "bpe_model_trainer.cc(167) LOG(INFO) Updating active symbols. max_freq=178 min_freq=23\n",
      "bpe_model_trainer.cc(258) LOG(INFO) Added: freq=176 size=2020 all=234567 active=12346 piece=▁15\n",
      "bpe_model_trainer.cc(258) LOG(INFO) Added: freq=174 size=2040 all=235035 active=12814 piece=봤어요\n",
      "bpe_model_trainer.cc(258) LOG(INFO) Added: freq=171 size=2060 all=235943 active=13722 piece=▁샤\n",
      "bpe_model_trainer.cc(258) LOG(INFO) Added: freq=169 size=2080 all=236780 active=14559 piece=다운\n",
      "bpe_model_trainer.cc(258) LOG(INFO) Added: freq=167 size=2100 all=237635 active=15414 piece=▁ᄏᄏᄏᄏᄏ\n",
      "bpe_model_trainer.cc(167) LOG(INFO) Updating active symbols. max_freq=167 min_freq=22\n",
      "bpe_model_trainer.cc(258) LOG(INFO) Added: freq=165 size=2120 all=238532 active=12754 piece=▁말하고\n",
      "bpe_model_trainer.cc(258) LOG(INFO) Added: freq=163 size=2140 all=239247 active=13469 piece=▁풀어\n",
      "bpe_model_trainer.cc(258) LOG(INFO) Added: freq=161 size=2160 all=239732 active=13954 piece=반전\n",
      "bpe_model_trainer.cc(258) LOG(INFO) Added: freq=160 size=2180 all=240660 active=14882 piece=▁잘만든\n",
      "bpe_model_trainer.cc(258) LOG(INFO) Added: freq=158 size=2200 all=241560 active=15782 piece=▁내생\n",
      "bpe_model_trainer.cc(167) LOG(INFO) Updating active symbols. max_freq=158 min_freq=22\n",
      "bpe_model_trainer.cc(258) LOG(INFO) Added: freq=157 size=2220 all=242193 active=12707 piece=▁앞으로\n",
      "bpe_model_trainer.cc(258) LOG(INFO) Added: freq=155 size=2240 all=242712 active=13226 piece=터리\n",
      "bpe_model_trainer.cc(258) LOG(INFO) Added: freq=154 size=2260 all=243404 active=13918 piece=▁가끔\n",
      "bpe_model_trainer.cc(258) LOG(INFO) Added: freq=153 size=2280 all=244066 active=14580 piece=▁다소\n",
      "bpe_model_trainer.cc(258) LOG(INFO) Added: freq=152 size=2300 all=244668 active=15182 piece=▁드라마를\n",
      "bpe_model_trainer.cc(167) LOG(INFO) Updating active symbols. max_freq=152 min_freq=21\n",
      "bpe_model_trainer.cc(258) LOG(INFO) Added: freq=151 size=2320 all=245313 active=12874 piece=▁감동적이고\n",
      "bpe_model_trainer.cc(258) LOG(INFO) Added: freq=149 size=2340 all=245992 active=13553 piece=▁라는\n",
      "bpe_model_trainer.cc(258) LOG(INFO) Added: freq=147 size=2360 all=246531 active=14092 piece=▁밤\n",
      "bpe_model_trainer.cc(258) LOG(INFO) Added: freq=146 size=2380 all=247068 active=14629 piece=▁아마\n",
      "bpe_model_trainer.cc(258) LOG(INFO) Added: freq=145 size=2400 all=247599 active=15160 piece=▁좋았음\n",
      "bpe_model_trainer.cc(167) LOG(INFO) Updating active symbols. max_freq=145 min_freq=21\n",
      "bpe_model_trainer.cc(258) LOG(INFO) Added: freq=144 size=2420 all=248421 active=13196 piece=▁것이다\n",
      "bpe_model_trainer.cc(258) LOG(INFO) Added: freq=142 size=2440 all=248895 active=13670 piece=▁꾸\n",
      "bpe_model_trainer.cc(258) LOG(INFO) Added: freq=141 size=2460 all=249479 active=14254 piece=▁재미있음\n",
      "bpe_model_trainer.cc(258) LOG(INFO) Added: freq=139 size=2480 all=250145 active=14920 piece=감을\n",
      "bpe_model_trainer.cc(258) LOG(INFO) Added: freq=138 size=2500 all=250948 active=15723 piece=었어\n",
      "bpe_model_trainer.cc(167) LOG(INFO) Updating active symbols. max_freq=138 min_freq=20\n",
      "bpe_model_trainer.cc(258) LOG(INFO) Added: freq=137 size=2520 all=251526 active=13064 piece=무비\n",
      "bpe_model_trainer.cc(258) LOG(INFO) Added: freq=136 size=2540 all=252140 active=13678 piece=▁넘어\n",
      "bpe_model_trainer.cc(258) LOG(INFO) Added: freq=135 size=2560 all=252464 active=14002 piece=마저\n",
      "bpe_model_trainer.cc(258) LOG(INFO) Added: freq=134 size=2580 all=253401 active=14939 piece=한국\n",
      "bpe_model_trainer.cc(258) LOG(INFO) Added: freq=133 size=2600 all=254003 active=15541 piece=▁레이\n",
      "bpe_model_trainer.cc(167) LOG(INFO) Updating active symbols. max_freq=133 min_freq=20\n",
      "bpe_model_trainer.cc(258) LOG(INFO) Added: freq=132 size=2620 all=254940 active=13614 piece=▁1,\n",
      "bpe_model_trainer.cc(258) LOG(INFO) Added: freq=131 size=2640 all=255503 active=14177 piece=▁태어\n",
      "bpe_model_trainer.cc(258) LOG(INFO) Added: freq=130 size=2660 all=256067 active=14741 piece=▁막판\n",
      "bpe_model_trainer.cc(258) LOG(INFO) Added: freq=129 size=2680 all=256642 active=15316 piece=▁힐링\n",
      "bpe_model_trainer.cc(258) LOG(INFO) Added: freq=128 size=2700 all=257235 active=15909 piece=하려는\n",
      "bpe_model_trainer.cc(167) LOG(INFO) Updating active symbols. max_freq=127 min_freq=19\n",
      "bpe_model_trainer.cc(258) LOG(INFO) Added: freq=126 size=2720 all=257825 active=13396 piece=▁가진\n",
      "bpe_model_trainer.cc(258) LOG(INFO) Added: freq=125 size=2740 all=258469 active=14040 piece=▁느낀\n",
      "bpe_model_trainer.cc(258) LOG(INFO) Added: freq=124 size=2760 all=258960 active=14531 piece=▁보러\n",
      "bpe_model_trainer.cc(258) LOG(INFO) Added: freq=123 size=2780 all=259377 active=14948 piece=▁헛\n",
      "bpe_model_trainer.cc(258) LOG(INFO) Added: freq=122 size=2800 all=259940 active=15511 piece=▁다가\n",
      "bpe_model_trainer.cc(167) LOG(INFO) Updating active symbols. max_freq=122 min_freq=19\n",
      "bpe_model_trainer.cc(258) LOG(INFO) Added: freq=121 size=2820 all=260344 active=13388 piece=▁또한\n",
      "bpe_model_trainer.cc(258) LOG(INFO) Added: freq=120 size=2840 all=260678 active=13722 piece=라스\n",
      "bpe_model_trainer.cc(258) LOG(INFO) Added: freq=120 size=2860 all=261347 active=14391 piece=영화라고\n",
      "bpe_model_trainer.cc(258) LOG(INFO) Added: freq=119 size=2880 all=262000 active=15044 piece=▁소름돋\n",
      "bpe_model_trainer.cc(258) LOG(INFO) Added: freq=118 size=2900 all=262375 active=15419 piece=▁영화라는\n",
      "bpe_model_trainer.cc(167) LOG(INFO) Updating active symbols. max_freq=117 min_freq=19\n",
      "bpe_model_trainer.cc(258) LOG(INFO) Added: freq=117 size=2920 all=262873 active=13608 piece=▁잔잔하고\n",
      "bpe_model_trainer.cc(258) LOG(INFO) Added: freq=116 size=2940 all=263429 active=14164 piece=▁아닌듯\n",
      "bpe_model_trainer.cc(258) LOG(INFO) Added: freq=115 size=2960 all=264161 active=14896 piece=▁언제나\n",
      "bpe_model_trainer.cc(258) LOG(INFO) Added: freq=114 size=2980 all=264895 active=15630 piece=▁섬세\n",
      "bpe_model_trainer.cc(258) LOG(INFO) Added: freq=113 size=3000 all=265613 active=16348 piece=여운\n",
      "bpe_model_trainer.cc(167) LOG(INFO) Updating active symbols. max_freq=113 min_freq=18\n",
      "bpe_model_trainer.cc(258) LOG(INFO) Added: freq=112 size=3020 all=266338 active=13950 piece=▁광고\n",
      "bpe_model_trainer.cc(258) LOG(INFO) Added: freq=111 size=3040 all=267081 active=14693 piece=할듯\n",
      "bpe_model_trainer.cc(258) LOG(INFO) Added: freq=110 size=3060 all=267488 active=15100 piece=도가\n",
      "bpe_model_trainer.cc(258) LOG(INFO) Added: freq=110 size=3080 all=268153 active=15765 piece=▁남자가\n",
      "bpe_model_trainer.cc(258) LOG(INFO) Added: freq=109 size=3100 all=268622 active=16234 piece=▁상업\n",
      "bpe_model_trainer.cc(167) LOG(INFO) Updating active symbols. max_freq=109 min_freq=18\n",
      "bpe_model_trainer.cc(258) LOG(INFO) Added: freq=108 size=3120 all=269041 active=13825 piece=▁끔\n",
      "bpe_model_trainer.cc(258) LOG(INFO) Added: freq=108 size=3140 all=269735 active=14519 piece=▁현실적인\n",
      "bpe_model_trainer.cc(258) LOG(INFO) Added: freq=107 size=3160 all=270209 active=14993 piece=▁표정\n",
      "bpe_model_trainer.cc(258) LOG(INFO) Added: freq=106 size=3180 all=270705 active=15488 piece=▁드러\n",
      "bpe_model_trainer.cc(258) LOG(INFO) Added: freq=105 size=3200 all=271235 active=16018 piece=▁ᄋᄋ\n",
      "bpe_model_trainer.cc(167) LOG(INFO) Updating active symbols. max_freq=105 min_freq=17\n",
      "bpe_model_trainer.cc(258) LOG(INFO) Added: freq=104 size=3220 all=271790 active=14104 piece=▁섹스\n",
      "bpe_model_trainer.cc(258) LOG(INFO) Added: freq=103 size=3240 all=272216 active=14530 piece=관계\n",
      "bpe_model_trainer.cc(258) LOG(INFO) Added: freq=103 size=3260 all=272881 active=15195 piece=▁신선하고\n",
      "bpe_model_trainer.cc(258) LOG(INFO) Added: freq=102 size=3280 all=273383 active=15697 piece=.........\n",
      "bpe_model_trainer.cc(258) LOG(INFO) Added: freq=101 size=3300 all=274030 active=16344 piece=▁빠져들\n",
      "bpe_model_trainer.cc(167) LOG(INFO) Updating active symbols. max_freq=101 min_freq=17\n",
      "bpe_model_trainer.cc(258) LOG(INFO) Added: freq=100 size=3320 all=274629 active=14278 piece=▁나옴\n",
      "bpe_model_trainer.cc(258) LOG(INFO) Added: freq=100 size=3340 all=275086 active=14735 piece=▁따뜻해지는\n",
      "bpe_model_trainer.cc(258) LOG(INFO) Added: freq=99 size=3360 all=275688 active=15337 piece=▁아이가\n",
      "bpe_model_trainer.cc(258) LOG(INFO) Added: freq=98 size=3380 all=276138 active=15787 piece=▁연결\n",
      "bpe_model_trainer.cc(258) LOG(INFO) Added: freq=97 size=3400 all=276316 active=15965 piece=▁ᄀ\n",
      "bpe_model_trainer.cc(167) LOG(INFO) Updating active symbols. max_freq=97 min_freq=17\n",
      "bpe_model_trainer.cc(258) LOG(INFO) Added: freq=97 size=3420 all=276813 active=14294 piece=▁역대급\n",
      "bpe_model_trainer.cc(258) LOG(INFO) Added: freq=96 size=3440 all=277238 active=14719 piece=▁있네요\n",
      "bpe_model_trainer.cc(258) LOG(INFO) Added: freq=95 size=3460 all=277737 active=15218 piece=▁김민\n",
      "bpe_model_trainer.cc(258) LOG(INFO) Added: freq=94 size=3480 all=278082 active=15563 piece=▁엽\n",
      "bpe_model_trainer.cc(258) LOG(INFO) Added: freq=94 size=3500 all=278837 active=16318 piece=긴한데\n",
      "bpe_model_trainer.cc(167) LOG(INFO) Updating active symbols. max_freq=94 min_freq=16\n",
      "bpe_model_trainer.cc(258) LOG(INFO) Added: freq=93 size=3520 all=279520 active=14573 piece=아직\n",
      "bpe_model_trainer.cc(258) LOG(INFO) Added: freq=93 size=3540 all=279970 active=15023 piece=▁남자의\n",
      "bpe_model_trainer.cc(258) LOG(INFO) Added: freq=92 size=3560 all=280310 active=15363 piece=▁의문\n",
      "bpe_model_trainer.cc(258) LOG(INFO) Added: freq=91 size=3580 all=280777 active=15830 piece=줘야\n",
      "bpe_model_trainer.cc(258) LOG(INFO) Added: freq=91 size=3600 all=281201 active=16254 piece=▁연예인\n",
      "bpe_model_trainer.cc(167) LOG(INFO) Updating active symbols. max_freq=91 min_freq=16\n",
      "bpe_model_trainer.cc(258) LOG(INFO) Added: freq=90 size=3620 all=281889 active=14730 piece=▁늘어\n",
      "bpe_model_trainer.cc(258) LOG(INFO) Added: freq=89 size=3640 all=282317 active=15158 piece=겨진\n",
      "bpe_model_trainer.cc(258) LOG(INFO) Added: freq=89 size=3660 all=282819 active=15660 piece=▁잼있다\n",
      "bpe_model_trainer.cc(258) LOG(INFO) Added: freq=88 size=3680 all=283209 active=16050 piece=▁필름\n",
      "bpe_model_trainer.cc(258) LOG(INFO) Added: freq=87 size=3700 all=283703 active=16544 piece=원의\n",
      "bpe_model_trainer.cc(167) LOG(INFO) Updating active symbols. max_freq=87 min_freq=16\n",
      "bpe_model_trainer.cc(258) LOG(INFO) Added: freq=87 size=3720 all=284160 active=14603 piece=▁작품이다\n",
      "bpe_model_trainer.cc(258) LOG(INFO) Added: freq=86 size=3740 all=284807 active=15250 piece=▁움직\n",
      "bpe_model_trainer.cc(258) LOG(INFO) Added: freq=85 size=3760 all=285235 active=15678 piece=나니\n",
      "bpe_model_trainer.cc(258) LOG(INFO) Added: freq=85 size=3780 all=285766 active=16209 piece=▁덕분에\n",
      "bpe_model_trainer.cc(258) LOG(INFO) Added: freq=84 size=3800 all=286286 active=16729 piece=요즘\n",
      "bpe_model_trainer.cc(167) LOG(INFO) Updating active symbols. max_freq=84 min_freq=16\n",
      "bpe_model_trainer.cc(258) LOG(INFO) Added: freq=84 size=3820 all=286764 active=14740 piece=▁느끼는\n",
      "bpe_model_trainer.cc(258) LOG(INFO) Added: freq=83 size=3840 all=287102 active=15078 piece=▁감흥\n",
      "bpe_model_trainer.cc(258) LOG(INFO) Added: freq=83 size=3860 all=287408 active=15384 piece=▁극장가서\n",
      "bpe_model_trainer.cc(258) LOG(INFO) Added: freq=82 size=3880 all=287832 active=15808 piece=음이\n",
      "bpe_model_trainer.cc(258) LOG(INFO) Added: freq=82 size=3900 all=288240 active=16216 piece=▁소소한\n",
      "bpe_model_trainer.cc(167) LOG(INFO) Updating active symbols. max_freq=82 min_freq=15\n",
      "bpe_model_trainer.cc(258) LOG(INFO) Added: freq=81 size=3920 all=288842 active=15008 piece=주연\n",
      "bpe_model_trainer.cc(258) LOG(INFO) Added: freq=81 size=3940 all=289268 active=15434 piece=▁모르게\n",
      "bpe_model_trainer.cc(258) LOG(INFO) Added: freq=80 size=3960 all=289684 active=15850 piece=씬이\n",
      "bpe_model_trainer.cc(258) LOG(INFO) Added: freq=80 size=3980 all=290172 active=16338 piece=▁말아먹\n",
      "bpe_model_trainer.cc(258) LOG(INFO) Added: freq=79 size=4000 all=290406 active=16572 piece=다큐\n",
      "bpe_model_trainer.cc(167) LOG(INFO) Updating active symbols. max_freq=79 min_freq=15\n",
      "bpe_model_trainer.cc(258) LOG(INFO) Added: freq=79 size=4020 all=291179 active=15235 piece=▁조니\n",
      "bpe_model_trainer.cc(258) LOG(INFO) Added: freq=78 size=4040 all=291394 active=15450 piece=리네\n",
      "bpe_model_trainer.cc(258) LOG(INFO) Added: freq=78 size=4060 all=291756 active=15812 piece=▁있다니\n",
      "bpe_model_trainer.cc(258) LOG(INFO) Added: freq=77 size=4080 all=292134 active=16190 piece=분의\n",
      "bpe_model_trainer.cc(258) LOG(INFO) Added: freq=77 size=4100 all=292663 active=16719 piece=▁커플\n",
      "bpe_model_trainer.cc(167) LOG(INFO) Updating active symbols. max_freq=77 min_freq=15\n",
      "bpe_model_trainer.cc(258) LOG(INFO) Added: freq=76 size=4120 all=293087 active=15038 piece=▁씹\n",
      "bpe_model_trainer.cc(258) LOG(INFO) Added: freq=76 size=4140 all=293646 active=15597 piece=▁본거\n",
      "bpe_model_trainer.cc(258) LOG(INFO) Added: freq=76 size=4160 all=293916 active=15867 piece=▁정말이지\n",
      "bpe_model_trainer.cc(258) LOG(INFO) Added: freq=75 size=4180 all=294537 active=16488 piece=▁보며\n",
      "bpe_model_trainer.cc(258) LOG(INFO) Added: freq=75 size=4200 all=294813 active=16764 piece=▁여운을\n",
      "bpe_model_trainer.cc(167) LOG(INFO) Updating active symbols. max_freq=75 min_freq=15\n",
      "bpe_model_trainer.cc(258) LOG(INFO) Added: freq=74 size=4220 all=295111 active=15035 piece=뢰매\n",
      "bpe_model_trainer.cc(258) LOG(INFO) Added: freq=74 size=4240 all=295526 active=15450 piece=▁오빠\n",
      "bpe_model_trainer.cc(258) LOG(INFO) Added: freq=74 size=4260 all=295904 active=15828 piece=▁연출과\n",
      "bpe_model_trainer.cc(258) LOG(INFO) Added: freq=73 size=4280 all=296312 active=16236 piece=지어\n",
      "bpe_model_trainer.cc(258) LOG(INFO) Added: freq=73 size=4300 all=296576 active=16500 piece=겠습니다\n",
      "bpe_model_trainer.cc(167) LOG(INFO) Updating active symbols. max_freq=73 min_freq=14\n",
      "bpe_model_trainer.cc(258) LOG(INFO) Added: freq=72 size=4320 all=297026 active=15247 piece=인들\n",
      "bpe_model_trainer.cc(258) LOG(INFO) Added: freq=72 size=4340 all=297351 active=15572 piece=▁해석\n",
      "bpe_model_trainer.cc(258) LOG(INFO) Added: freq=72 size=4360 all=297635 active=15856 piece=▁짜증난다\n",
      "bpe_model_trainer.cc(258) LOG(INFO) Added: freq=71 size=4380 all=298267 active=16488 piece=정한\n",
      "bpe_model_trainer.cc(258) LOG(INFO) Added: freq=71 size=4400 all=298725 active=16946 piece=▁나쁘지\n",
      "bpe_model_trainer.cc(167) LOG(INFO) Updating active symbols. max_freq=71 min_freq=14\n",
      "bpe_model_trainer.cc(258) LOG(INFO) Added: freq=71 size=4420 all=298849 active=15060 piece=▁블록버스터\n",
      "bpe_model_trainer.cc(258) LOG(INFO) Added: freq=70 size=4440 all=299404 active=15615 piece=▁못봐\n",
      "bpe_model_trainer.cc(258) LOG(INFO) Added: freq=70 size=4460 all=299624 active=15835 piece=▁짜임새\n",
      "bpe_model_trainer.cc(258) LOG(INFO) Added: freq=69 size=4480 all=300120 active=16331 piece=▁단편\n",
      "bpe_model_trainer.cc(258) LOG(INFO) Added: freq=69 size=4500 all=300623 active=16834 piece=▁공포물\n",
      "bpe_model_trainer.cc(167) LOG(INFO) Updating active symbols. max_freq=69 min_freq=14\n",
      "bpe_model_trainer.cc(258) LOG(INFO) Added: freq=68 size=4520 all=300767 active=15159 piece=▁곽\n",
      "bpe_model_trainer.cc(258) LOG(INFO) Added: freq=68 size=4540 all=301548 active=15940 piece=▁갖고\n",
      "bpe_model_trainer.cc(258) LOG(INFO) Added: freq=68 size=4560 all=301817 active=16209 piece=▁지겨\n",
      "bpe_model_trainer.cc(258) LOG(INFO) Added: freq=68 size=4580 all=302290 active=16682 piece=▁일깨워\n",
      "bpe_model_trainer.cc(258) LOG(INFO) Added: freq=67 size=4600 all=302500 active=16892 piece=게요\n",
      "bpe_model_trainer.cc(167) LOG(INFO) Updating active symbols. max_freq=67 min_freq=14\n",
      "bpe_model_trainer.cc(258) LOG(INFO) Added: freq=67 size=4620 all=302996 active=15597 piece=기에는\n",
      "bpe_model_trainer.cc(258) LOG(INFO) Added: freq=67 size=4640 all=303297 active=15898 piece=▁영환데\n",
      "bpe_model_trainer.cc(258) LOG(INFO) Added: freq=66 size=4660 all=303456 active=16057 piece=▁옷\n",
      "bpe_model_trainer.cc(258) LOG(INFO) Added: freq=66 size=4680 all=303917 active=16518 piece=▁비행\n",
      "bpe_model_trainer.cc(258) LOG(INFO) Added: freq=66 size=4700 all=304267 active=16868 piece=▁유일한\n",
      "bpe_model_trainer.cc(167) LOG(INFO) Updating active symbols. max_freq=66 min_fr"
     ]
    },
    {
     "name": "stdout",
     "output_type": "stream",
     "text": [
      "-rw-r--r-- 1 root root 370757 Dec 27 07:00 ratings_bpe.model\r\n",
      "-rw-r--r-- 1 root root 115966 Dec 27 07:00 ratings_bpe.vocab\r\n",
      "-rw-r--r-- 1 root root 317283 Dec 27 05:12 ratings.model\r\n",
      "-rw-r--r-- 1 root root 375285 Dec 27 07:00 ratings_unigram.model\r\n",
      "-rw-r--r-- 1 root root 144580 Dec 27 07:00 ratings_unigram.vocab\r\n",
      "-rw-r--r-- 1 root root  84080 Dec 27 05:12 ratings.vocab\r\n"
     ]
    }
   ],
   "source": [
    "!ls -l ratings*"
   ]
  },
  {
   "cell_type": "code",
   "execution_count": 32,
   "id": "78f0fdbb",
   "metadata": {},
   "outputs": [
    {
     "data": {
      "text/plain": [
       "True"
      ]
     },
     "execution_count": 32,
     "metadata": {},
     "output_type": "execute_result"
    }
   ],
   "source": [
    "s_unigram = spm.SentencePieceProcessor()\n",
    "s_unigram.Load(\"ratings_unigram.model\")\n",
    "s_bpe = spm.SentencePieceProcessor()\n",
    "s_bpe.Load(\"ratings_bpe.model\")"
   ]
  },
  {
   "cell_type": "code",
   "execution_count": 33,
   "id": "e7f3bd3e",
   "metadata": {},
   "outputs": [
    {
     "name": "stdout",
     "output_type": "stream",
     "text": [
      "[1474, 10, 423, 15, 1476, 10, 156, 16, 4]\n",
      "['▁아버지', '가', '방', '에', '들어', '가', '신', '다', '.']\n",
      "아버지가방에들어가신다.\n"
     ]
    }
   ],
   "source": [
    "tokensIDs = s_unigram.EncodeAsIds('아버지가방에들어가신다.')\n",
    "print(tokensIDs)\n",
    "\n",
    "# SentencePiece를 활용한 sentence -> encoded pieces\n",
    "print(s_unigram.SampleEncodeAsPieces('아버지가방에들어가신다.',1, 0.0))\n",
    "\n",
    "# SentencePiece를 활용한 encoding -> sentence 복원\n",
    "print(s_unigram.DecodeIds(tokensIDs))"
   ]
  },
  {
   "cell_type": "code",
   "execution_count": 34,
   "id": "481f5295",
   "metadata": {},
   "outputs": [
    {
     "name": "stdout",
     "output_type": "stream",
     "text": [
      "[5276, 931, 6573, 6312, 1483, 6308, 6410, 6302, 6300]\n",
      "['▁아버', '지가', '방', '에', '들어', '가', '신', '다', '.']\n",
      "아버지가방에들어가신다.\n"
     ]
    }
   ],
   "source": [
    "tokensIDs = s_bpe.EncodeAsIds('아버지가방에들어가신다.')\n",
    "print(tokensIDs)\n",
    "\n",
    "# SentencePiece를 활용한 sentence -> encoded pieces\n",
    "print(s_bpe.SampleEncodeAsPieces('아버지가방에들어가신다.',1, 0.0))\n",
    "\n",
    "# SentencePiece를 활용한 encoding -> sentence 복원\n",
    "print(s_bpe.DecodeIds(tokensIDs))"
   ]
  },
  {
   "cell_type": "markdown",
   "id": "5c5694f4",
   "metadata": {},
   "source": [
    "일반적인 문장에서는 unigram이 더  잘 작동하는 것으로 보인다."
   ]
  },
  {
   "cell_type": "code",
   "execution_count": 35,
   "id": "2ce4258d",
   "metadata": {},
   "outputs": [
    {
     "name": "stdout",
     "output_type": "stream",
     "text": [
      "[1592, 12, 200, 223, 6187, 3, 5, 4345, 1202, 124, 5, 656, 270, 130]\n",
      "['▁교', '도', '소', '▁이야기', '구먼', '▁', '..', '솔직히', '▁재미는', '▁없다', '..', '평점', '▁조', '정']\n",
      "교도소 이야기구먼 ..솔직히 재미는 없다..평점 조정\n"
     ]
    }
   ],
   "source": [
    "tokensIDs = s_unigram.EncodeAsIds(train_data[\"_document\"][3])\n",
    "print(tokensIDs)\n",
    "\n",
    "# SentencePiece를 활용한 sentence -> encoded pieces\n",
    "print(s_unigram.SampleEncodeAsPieces(train_data[\"_document\"][3],1, 0.0))\n",
    "\n",
    "# SentencePiece를 활용한 encoding -> sentence 복원\n",
    "print(s_unigram.DecodeIds(tokensIDs))"
   ]
  },
  {
   "cell_type": "code",
   "execution_count": 36,
   "id": "41c570a6",
   "metadata": {},
   "outputs": [
    {
     "name": "stdout",
     "output_type": "stream",
     "text": [
      "[648, 6310, 6402, 280, 6399, 6782, 411, 4249, 1326, 230, 3, 912, 128, 6342]\n",
      "['▁교', '도', '소', '▁이야기', '구', '먼', '▁..', '솔직히', '▁재미는', '▁없다', '..', '평점', '▁조', '정']\n",
      "교도소 이야기구먼 ..솔직히 재미는 없다..평점 조정\n"
     ]
    }
   ],
   "source": [
    "tokensIDs = s_bpe.EncodeAsIds(train_data[\"_document\"][3])\n",
    "print(tokensIDs)\n",
    "\n",
    "# SentencePiece를 활용한 sentence -> encoded pieces\n",
    "print(s_bpe.SampleEncodeAsPieces(train_data[\"_document\"][3],1, 0.0))\n",
    "\n",
    "# SentencePiece를 활용한 encoding -> sentence 복원\n",
    "print(s_bpe.DecodeIds(tokensIDs))"
   ]
  },
  {
   "cell_type": "markdown",
   "id": "79ad28b1",
   "metadata": {},
   "source": [
    "리뷰데이터의 경우 살짝의 차이는 있지만 뭐가 더 나은지는 잘 모르겠다."
   ]
  },
  {
   "cell_type": "code",
   "execution_count": 37,
   "id": "62f10e39",
   "metadata": {},
   "outputs": [],
   "source": [
    "def sp_tokenize(s, corpus, vocab_file, maxlen=max_len): \n",
    "\n",
    "    tensor = []\n",
    "\n",
    "    for sen in corpus:\n",
    "        tensor.append(s.EncodeAsIds(sen))\n",
    "\n",
    "    with open(\"./\" + vocab_file, 'r') as f:\n",
    "        vocab = f.readlines()\n",
    "\n",
    "    word_index = {}\n",
    "    index_word = {}\n",
    "\n",
    "    for idx, line in enumerate(vocab):\n",
    "        word = line.split(\"\\t\")[0]\n",
    "\n",
    "        word_index.update({word:idx})\n",
    "        index_word.update({idx:word})\n",
    "\n",
    "    tensor = tf.keras.preprocessing.sequence.pad_sequences(tensor, padding='post', maxlen=max_len)\n",
    "\n",
    "    return tensor, word_index, index_word"
   ]
  },
  {
   "cell_type": "code",
   "execution_count": 38,
   "id": "c04af364",
   "metadata": {},
   "outputs": [],
   "source": [
    "unigram_tensor, unigram_word_index, unigram_index_word = sp_tokenize(s_unigram, train_data[\"_document\"], \"ratings_unigram.vocab\")\n",
    "bpe_tensor, bpe_word_index, bpe_index_word = sp_tokenize(s_bpe, train_data[\"_document\"], \"ratings_bpe.vocab\")"
   ]
  },
  {
   "cell_type": "code",
   "execution_count": 39,
   "id": "79d807cc",
   "metadata": {},
   "outputs": [
    {
     "name": "stdout",
     "output_type": "stream",
     "text": [
      "50 50\n",
      "(50,) (50,)\n"
     ]
    }
   ],
   "source": [
    "print(len(unigram_tensor[0]), len(bpe_tensor[0]))\n",
    "print(unigram_tensor[0].shape, bpe_tensor[0].shape)"
   ]
  },
  {
   "cell_type": "markdown",
   "id": "ca280556",
   "metadata": {},
   "source": [
    "## 데이터 준비"
   ]
  },
  {
   "cell_type": "code",
   "execution_count": 40,
   "id": "c6958471",
   "metadata": {},
   "outputs": [],
   "source": [
    "import random\n",
    "val_len = len(train_data['_document']) // 5\n",
    "label = train_data[\"label\"].to_numpy()\n",
    "\n",
    "# shuffled_arr = list(zip(unigram_tensor, bpe_tensor, mecab_tensor, label))\n",
    "# random.Random(42).shuffle(shuffled_arr)\n",
    "\n",
    "# unigram_tensor, bpe_tensor, mecab_tensor, label = zip(*shuffled_arr)\n",
    "\n",
    "train_dict = {}\n",
    "train_dict[\"unigram\"] = unigram_tensor[:-val_len]\n",
    "train_dict[\"bpe\"] = bpe_tensor[:-val_len]\n",
    "train_dict[\"mecab\"] = mecab_tensor[:-val_len]\n",
    "train_label = label[:-val_len]\n",
    "\n",
    "val_dict = {}\n",
    "val_dict[\"unigram\"] = unigram_tensor[-val_len:]\n",
    "val_dict[\"bpe\"] = bpe_tensor[-val_len:]\n",
    "val_dict[\"mecab\"] = mecab_tensor[-val_len:]\n",
    "val_label = label[-val_len:]"
   ]
  },
  {
   "cell_type": "code",
   "execution_count": 41,
   "id": "58c31b7e",
   "metadata": {},
   "outputs": [],
   "source": [
    "from tensorflow import keras\n",
    "from tensorflow.keras import layers\n",
    "\n",
    "def get_model(vocab_size=vocab_size, embed_size=16, hidden_size=64, max_len=max_len):\n",
    "    input_tensor = keras.Input((max_len,))\n",
    "    x = layers.Embedding(vocab_size, embed_size)(input_tensor)\n",
    "    x = layers.LSTM(hidden_size)(x)\n",
    "    x = layers.Dense(1, activation=\"sigmoid\")(x)\n",
    "    \n",
    "    model = keras.Model(input_tensor, x)\n",
    "    return model"
   ]
  },
  {
   "cell_type": "code",
   "execution_count": 52,
   "id": "2d29b3e1",
   "metadata": {},
   "outputs": [],
   "source": [
    "def train_model(tokenizer_name, history_dict):\n",
    "    model = get_model()\n",
    "    model_name = tokenizer_name + \".h5\"\n",
    "    print(model_name)\n",
    "    callbacks = [\n",
    "        keras.callbacks.ModelCheckpoint(model_name, \n",
    "                                        monitor=\"val_loss\",\n",
    "                                        save_best_only=True)\n",
    "    ]\n",
    "    model.compile(optimizer=\"adam\", \n",
    "                  loss=\"binary_crossentropy\", \n",
    "                  metrics=[\"accuracy\"])\n",
    "    # print(train_dict[tokenizer_name][0])\n",
    "    history_dict[tokenizer_name] = model.fit(train_dict[tokenizer_name], train_label, \n",
    "                                            epochs=10, batch_size=64,\n",
    "                                            callbacks=callbacks, \n",
    "                                            validation_data=(val_dict[tokenizer_name], val_label))"
   ]
  },
  {
   "cell_type": "code",
   "execution_count": 53,
   "id": "76649be8",
   "metadata": {},
   "outputs": [
    {
     "name": "stdout",
     "output_type": "stream",
     "text": [
      "unigram.h5\n",
      "Epoch 1/10\n",
      "1828/1828 [==============================] - 11s 5ms/step - loss: 0.4634 - accuracy: 0.7646 - val_loss: 0.3774 - val_accuracy: 0.8386\n",
      "Epoch 2/10\n",
      "1828/1828 [==============================] - 9s 5ms/step - loss: 0.3493 - accuracy: 0.8467 - val_loss: 0.3584 - val_accuracy: 0.8405\n",
      "Epoch 3/10\n",
      "1828/1828 [==============================] - 9s 5ms/step - loss: 0.3220 - accuracy: 0.8598 - val_loss: 0.3503 - val_accuracy: 0.8455\n",
      "Epoch 4/10\n",
      "1828/1828 [==============================] - 9s 5ms/step - loss: 0.2958 - accuracy: 0.8710 - val_loss: 0.3469 - val_accuracy: 0.8478\n",
      "Epoch 5/10\n",
      "1828/1828 [==============================] - 9s 5ms/step - loss: 0.2704 - accuracy: 0.8838 - val_loss: 0.3776 - val_accuracy: 0.8463\n",
      "Epoch 6/10\n",
      "1828/1828 [==============================] - 9s 5ms/step - loss: 0.2496 - accuracy: 0.8940 - val_loss: 0.3802 - val_accuracy: 0.8446\n",
      "Epoch 7/10\n",
      "1828/1828 [==============================] - 10s 5ms/step - loss: 0.2302 - accuracy: 0.9061 - val_loss: 0.3766 - val_accuracy: 0.8405\n",
      "Epoch 8/10\n",
      "1828/1828 [==============================] - 9s 5ms/step - loss: 0.2118 - accuracy: 0.9141 - val_loss: 0.3876 - val_accuracy: 0.8392\n",
      "Epoch 9/10\n",
      "1828/1828 [==============================] - 9s 5ms/step - loss: 0.1930 - accuracy: 0.9231 - val_loss: 0.4419 - val_accuracy: 0.8391\n",
      "Epoch 10/10\n",
      "1828/1828 [==============================] - 9s 5ms/step - loss: 0.1752 - accuracy: 0.9317 - val_loss: 0.4312 - val_accuracy: 0.8341\n",
      "bpe.h5\n",
      "Epoch 1/10\n",
      "1828/1828 [==============================] - 11s 5ms/step - loss: 0.4500 - accuracy: 0.7765 - val_loss: 0.3742 - val_accuracy: 0.8407\n",
      "Epoch 2/10\n",
      "1828/1828 [==============================] - 9s 5ms/step - loss: 0.3506 - accuracy: 0.8463 - val_loss: 0.3577 - val_accuracy: 0.8444\n",
      "Epoch 3/10\n",
      "1828/1828 [==============================] - 9s 5ms/step - loss: 0.3214 - accuracy: 0.8590 - val_loss: 0.3604 - val_accuracy: 0.8478\n",
      "Epoch 4/10\n",
      "1828/1828 [==============================] - 9s 5ms/step - loss: 0.2958 - accuracy: 0.8707 - val_loss: 0.3536 - val_accuracy: 0.8470\n",
      "Epoch 5/10\n",
      "1828/1828 [==============================] - 9s 5ms/step - loss: 0.2737 - accuracy: 0.8809 - val_loss: 0.3591 - val_accuracy: 0.8458\n",
      "Epoch 6/10\n",
      "1828/1828 [==============================] - 9s 5ms/step - loss: 0.2554 - accuracy: 0.8911 - val_loss: 0.3757 - val_accuracy: 0.8447\n",
      "Epoch 7/10\n",
      "1828/1828 [==============================] - 9s 5ms/step - loss: 0.2373 - accuracy: 0.8995 - val_loss: 0.4069 - val_accuracy: 0.8442\n",
      "Epoch 8/10\n",
      "1828/1828 [==============================] - 9s 5ms/step - loss: 0.2199 - accuracy: 0.9092 - val_loss: 0.3823 - val_accuracy: 0.8435\n",
      "Epoch 9/10\n",
      "1828/1828 [==============================] - 9s 5ms/step - loss: 0.2036 - accuracy: 0.9173 - val_loss: 0.4218 - val_accuracy: 0.8395\n",
      "Epoch 10/10\n",
      "1828/1828 [==============================] - 9s 5ms/step - loss: 0.1877 - accuracy: 0.9255 - val_loss: 0.4571 - val_accuracy: 0.8365\n",
      "mecab.h5\n",
      "Epoch 1/10\n",
      "1828/1828 [==============================] - 11s 5ms/step - loss: 0.6936 - accuracy: 0.5010 - val_loss: 0.6931 - val_accuracy: 0.5039\n",
      "Epoch 2/10\n",
      "1828/1828 [==============================] - 9s 5ms/step - loss: 0.5861 - accuracy: 0.6273 - val_loss: 0.3926 - val_accuracy: 0.8258\n",
      "Epoch 3/10\n",
      "1828/1828 [==============================] - 9s 5ms/step - loss: 0.3615 - accuracy: 0.8419 - val_loss: 0.3530 - val_accuracy: 0.8444\n",
      "Epoch 4/10\n",
      "1828/1828 [==============================] - 9s 5ms/step - loss: 0.3188 - accuracy: 0.8621 - val_loss: 0.3421 - val_accuracy: 0.8523\n",
      "Epoch 5/10\n",
      "1828/1828 [==============================] - 9s 5ms/step - loss: 0.2898 - accuracy: 0.8756 - val_loss: 0.3424 - val_accuracy: 0.8533\n",
      "Epoch 6/10\n",
      "1828/1828 [==============================] - 9s 5ms/step - loss: 0.2669 - accuracy: 0.8875 - val_loss: 0.3418 - val_accuracy: 0.8521\n",
      "Epoch 7/10\n",
      "1828/1828 [==============================] - 9s 5ms/step - loss: 0.2469 - accuracy: 0.8975 - val_loss: 0.3659 - val_accuracy: 0.8506\n",
      "Epoch 8/10\n",
      "1828/1828 [==============================] - 9s 5ms/step - loss: 0.2298 - accuracy: 0.9058 - val_loss: 0.3862 - val_accuracy: 0.8461\n",
      "Epoch 9/10\n",
      "1828/1828 [==============================] - 9s 5ms/step - loss: 0.2138 - accuracy: 0.9138 - val_loss: 0.4067 - val_accuracy: 0.8483\n",
      "Epoch 10/10\n",
      "1828/1828 [==============================] - 9s 5ms/step - loss: 0.1984 - accuracy: 0.9205 - val_loss: 0.4182 - val_accuracy: 0.8380\n"
     ]
    }
   ],
   "source": [
    "tokenizers = [\"unigram\", \"bpe\", \"mecab\"]\n",
    "history_dict = {}\n",
    "for tokenizer in tokenizers:\n",
    "    train_model(tokenizer, history_dict)"
   ]
  },
  {
   "cell_type": "markdown",
   "id": "0668b7ab",
   "metadata": {},
   "source": [
    "## 테스트 데이터와 비교"
   ]
  },
  {
   "cell_type": "code",
   "execution_count": 97,
   "id": "e52a9501",
   "metadata": {},
   "outputs": [
    {
     "name": "stdout",
     "output_type": "stream",
     "text": [
      "50000 50000 50000 50\n"
     ]
    }
   ],
   "source": [
    "test_input = test_data[\"document\"].apply(lambda s: str(s).lower()[:max_len])\n",
    "\n",
    "test_label = test_data[\"label\"].to_numpy()\n",
    "test_unigram_tensor = []\n",
    "test_bpe_tensor = []\n",
    "test_mecab_tensor = []\n",
    "\n",
    "# test_mecab_tensor = mecab_split(test_input)\n",
    "\n",
    "for sen in test_input:\n",
    "    test_unigram_tensor.append(s_unigram.EncodeAsIds(sen))\n",
    "    test_bpe_tensor.append(s_bpe.EncodeAsIds(sen))\n",
    "    test_mecab_tensor.append(mecab_split(sen))\n",
    "    \n",
    "test_unigram_tensor = tf.keras.preprocessing.sequence.pad_sequences(test_unigram_tensor, padding='post', maxlen=max_len)\n",
    "test_bpe_tensor = tf.keras.preprocessing.sequence.pad_sequences(test_bpe_tensor, padding='post', maxlen=max_len)\n",
    "test_mecab_tensor = mecab_tokenizer.texts_to_sequences(test_mecab_tensor)\n",
    "test_mecab_tensor = tf.keras.preprocessing.sequence.pad_sequences(test_mecab_tensor, padding='post', maxlen=max_len)\n",
    "\n",
    "test_tensor = {\n",
    "    \"unigram\": test_unigram_tensor,\n",
    "    \"bpe\": test_bpe_tensor,\n",
    "    \"mecab\": test_mecab_tensor,\n",
    "}\n",
    "print(len(test_unigram_tensor), len(test_bpe_tensor), len(test_label), max_len)"
   ]
  },
  {
   "cell_type": "code",
   "execution_count": 99,
   "id": "94993934",
   "metadata": {},
   "outputs": [
    {
     "name": "stdout",
     "output_type": "stream",
     "text": [
      "1563/1563 [==============================] - 5s 3ms/step - loss: 0.3566 - accuracy: 0.8458\n",
      "unigram accuracy: 0.8457599878311157\n",
      "1563/1563 [==============================] - 4s 3ms/step - loss: 0.3565 - accuracy: 0.8444\n",
      "bpe accuracy: 0.8444200158119202\n",
      "1563/1563 [==============================] - 5s 3ms/step - loss: 0.3534 - accuracy: 0.8453\n",
      "mecab accuracy: 0.8453400135040283\n"
     ]
    }
   ],
   "source": [
    "tokenizers = [\"unigram\", \"bpe\", \"mecab\"]\n",
    "for tokenizer in tokenizers:\n",
    "    model = keras.models.load_model(tokenizer + \".h5\")\n",
    "    metric = model.evaluate(test_tensor[tokenizer], test_label)\n",
    "    print(f\"{tokenizer} accuracy: {metric[1]}\")"
   ]
  },
  {
   "cell_type": "markdown",
   "id": "ec73b534",
   "metadata": {},
   "source": [
    "세개의 모델이 유의미한 차이는 보이지 않는것 같다."
   ]
  },
  {
   "cell_type": "code",
   "execution_count": 100,
   "id": "6cec6993",
   "metadata": {},
   "outputs": [
    {
     "data": {
      "text/plain": [
       "<matplotlib.legend.Legend at 0x7f799b4ffc70>"
      ]
     },
     "execution_count": 100,
     "metadata": {},
     "output_type": "execute_result"
    },
    {
     "data": {
      "image/png": "[encoded data removed]",
      "text/plain": [
       "<Figure size 1152x720 with 2 Axes>"
      ]
     },
     "metadata": {
      "needs_background": "light"
     },
     "output_type": "display_data"
    }
   ],
   "source": [
    "colors = ['r', 'g', 'b']\n",
    "\n",
    "plt.figure(figsize=(16, 10))\n",
    "plt.subplot(121)\n",
    "\n",
    "for idx in range(len(tokenizers)):\n",
    "    key = tokenizers[idx]\n",
    "    history = history_dict[key].history\n",
    "    color = colors[idx]\n",
    "    \n",
    "    loss = history['loss']\n",
    "    val_loss = history['val_loss']\n",
    "\n",
    "    epochs = range(1, len(acc) + 1)\n",
    "\n",
    "    # \"bo\"는 \"파란색 점\"입니다\n",
    "    plt.plot(epochs, loss, color + 'o', label=key + ' Training loss')\n",
    "    # b는 \"파란 실선\"입니다\n",
    "    plt.plot(epochs, val_loss, color, label=key + ' Validation loss')\n",
    "    plt.title('Training and validation loss')\n",
    "    plt.xlabel('Epochs')\n",
    "    plt.ylabel('Loss')\n",
    "    \n",
    "plt.legend()\n",
    "    \n",
    "plt.subplot(122)\n",
    "for idx in range(len(tokenizers)):\n",
    "    key = tokenizers[idx]\n",
    "    history = history_dict[key].history\n",
    "    color = colors[idx]\n",
    "    \n",
    "    loss = history['accuracy']\n",
    "    val_loss = history['val_accuracy']\n",
    "\n",
    "    epochs = range(1, len(acc) + 1)\n",
    "\n",
    "    # \"bo\"는 \"파란색 점\"입니다\n",
    "    plt.plot(epochs, loss, color + 'o', label=key + ' Training accuracy')\n",
    "    # b는 \"파란 실선\"입니다\n",
    "    plt.plot(epochs, val_loss, color, label=key + ' Validation accuracy')\n",
    "    plt.title('Training and validation accuracy')\n",
    "    plt.xlabel('Epochs')\n",
    "    plt.ylabel('Accuracy')\n",
    "\n",
    "plt.legend()"
   ]
  },
  {
   "cell_type": "markdown",
   "id": "e1798fe2",
   "metadata": {},
   "source": [
    "mecab, setencepiece bpe, setencepiece unigram 세가지 모델에 대해 loss 와 accuracy를 측정해보았다.\n",
    "\n",
    "test accuracy와 마찬가지로 해당 데이터셋에서는 크게 유의미한 차이를 보이지는 않는것 처럼 보인다.\n",
    "\n",
    "모두 4 epoch이후에는 과적합현상이 나타난것으로 보인다.\n",
    "\n"
   ]
  },
  {
   "cell_type": "markdown",
   "id": "3bc2e148",
   "metadata": {},
   "source": [
    "# 회고\n",
    "\n",
    "동일한 전처리를 적용했을 때 의미를 담은 토큰화인 mecab방법과 통계적인 이론을 적용한 방법인 wordpiece model간의 큰 차이가 없음을 확인하였다.\n",
    "\n",
    "조사들을 없애는 전처리를 조금했더라면 결과가 더 좋지 않았을까 싶긴하지만 비교적 사전지식이 필요없는 wordpiece model이 참 유용하다라는 생각이 들었다.\n"
   ]
  },
  {
   "cell_type": "code",
   "execution_count": null,
   "id": "73b532dd",
   "metadata": {},
   "outputs": [],
   "source": []
  }
 ],
 "metadata": {
  "kernelspec": {
   "display_name": "Python 3 (ipykernel)",
   "language": "python",
   "name": "python3"
  },
  "language_info": {
   "codemirror_mode": {
    "name": "ipython",
    "version": 3
   },
   "file_extension": ".py",
   "mimetype": "text/x-python",
   "name": "python",
   "nbconvert_exporter": "python",
   "pygments_lexer": "ipython3",
   "version": "3.9.7"
  }
 },
 "nbformat": 4,
 "nbformat_minor": 5
}
